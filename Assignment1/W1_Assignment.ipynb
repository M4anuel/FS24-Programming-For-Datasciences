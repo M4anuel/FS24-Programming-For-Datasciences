{
 "cells": [
  {
   "cell_type": "markdown",
   "metadata": {},
   "source": [
    "<h2><center>Week 1 - Assignment</center></h2>\n",
    "<h3><center>Programming for Data Science 2024</center></h3>"
   ]
  },
  {
   "cell_type": "markdown",
   "metadata": {},
   "source": [
    "Exercises for the topics covered in the first lecture.\n",
    "\n",
    "The exercise will be marked as passed if you get **at least 10/15** points.\n",
    "\n",
    "Exercises must be handed in via **ILIAS** (Homework assignments). Deliver your submission as a compressed file (zip) containing one .py or .ipynb file with all exercises. The name of both the .zip and the .py/.ipynb file must be *SurnameName* of the two members of the group. Example: Riccardo Cusinato + Athina Tzovara = *CusinatoRiccardo_TzovaraAthina.zip* .\n",
    "\n",
    "It's important to use comments to explain your code and show that you're able to take ownership of the exercises and discuss them.\n",
    "\n",
    "You are not expected to collaborate outside of the group on exercises and submitting other groups’ code as your own will result in 0 points.\n",
    "\n",
    "For questions contact: *riccardo.cusinato@unibe.ch* with the subject: *Programming for Data Science 2024*.\n",
    "\n",
    "**Deadline: 14:00, February 29, 2024.**"
   ]
  },
  {
   "cell_type": "markdown",
   "metadata": {},
   "source": [
    "<h3 style=\"text-align:left;\">Exercise 1 - Indentation<span style=\"float: right\">1 point</span></h3>"
   ]
  },
  {
   "cell_type": "markdown",
   "metadata": {},
   "source": [
    "Fix the indentation in the following code. Output should be ”[0, 1, 2]”."
   ]
  },
  {
   "cell_type": "code",
   "execution_count": null,
   "metadata": {},
   "outputs": [],
   "source": [
    "N_max = 5\n",
    "n = 0\n",
    "n_list = []\n",
    "\n",
    "for n in range(N_max):\n",
    "#Because the if statement belongs to the for loop, we have to indent it to the right\n",
    "    if n < 3:\n",
    "#Because the append command belongs to the if statement we have to indent it 2x times to the right\n",
    "        n_list.append(n)\n",
    "\n",
    "print(n_list)"
   ]
  },
  {
   "cell_type": "markdown",
   "metadata": {},
   "source": [
    "<h3 style=\"text-align:left;\">Exercise 2 - Python variables<span style=\"float: right\">1 point</span></h3>"
   ]
  },
  {
   "cell_type": "markdown",
   "metadata": {},
   "source": [
    "In class, you've seen how Python variables are internally stored. Given the following piece of code, what do you expect to happen? Why? How can you check where the two lists are stored in memory? Comment and write additional code."
   ]
  },
  {
   "cell_type": "code",
   "execution_count": null,
   "metadata": {},
   "outputs": [],
   "source": [
    "from typing import Callable\n",
    "\n",
    "# A)\n",
    "list1=[1, 2, 3]\n",
    "list2=[3, 4, 5]\n",
    "# list1 and list2 references the same object. Therefore list1 and list2 have the same memory location. A change of list1 or list2 leads to a change to the object.\n",
    "# Command to see the memory location of list1\n",
    "print(id(list1))\n",
    "# Command to see the memory location of list2\n",
    "print(id(list2))\n",
    "\n",
    "# First we parse it to sets to be able to use '&' for intersection and parse it back to a list to conform with the exercise\n",
    "print(f\"{list(set(list1) & set(list2)) = }\")\n",
    "\n"
   ]
  },
  {
   "cell_type": "markdown",
   "metadata": {},
   "source": [
    "What is the difference between the following list *lst* and tuple *tpl*? Comment."
   ]
  },
  {
   "cell_type": "code",
   "execution_count": null,
   "metadata": {},
   "outputs": [],
   "source": [
    "lst = [1, 2, 3] #Lists are mutable and can perform operations such as insertion and deletion. \n",
    "tpl = (1, 2, 3) #Tuples are immutable.Therefore we can't change a tuple after it is created."
   ]
  },
  {
   "cell_type": "markdown",
   "metadata": {},
   "source": [
    "<h3 style=\"text-align:left;\">Exercise 2 - List intersection<span style=\"float: right\">2 points</span></h3>"
   ]
  },
  {
   "cell_type": "markdown",
   "metadata": {},
   "source": [
    "Write a program that takes two lists, and returns another list with the elements common to both of them. Example:\n",
    "```python \n",
    "list1 = [1, 2, 3]\n",
    "list2 = [3, 4, 5]\n",
    "output = [3]\n",
    "```\n",
    "Additionally,\n",
    "- Write the code as a function called *lists_intersection* that takes two lists as input as gives the intersection list as output."
   ]
  },
  {
   "cell_type": "code",
   "execution_count": null,
   "metadata": {},
   "outputs": [],
   "source": [
    "\n",
    "# C)\n",
    "# Because I wanted to exercise currying I made a function that takes an operand and returns a function based on that operand\n",
    "# including the sought after intersection.\n",
    "def set_operation(operand) -> Callable:\n",
    "    match operand:\n",
    "        case 'union':\n",
    "            def function(list1, list2) -> list:\n",
    "                return list(set(list1) |  set(list2))\n",
    "        case 'intersection':\n",
    "            def function(list1, list2) -> list:\n",
    "                return list(set(list1) &  set(list2))\n",
    "        case 'complement':\n",
    "            def function(list1, list2) -> list:\n",
    "                return list(set(list1) ^  set(list2))\n",
    "        case 'difference':\n",
    "            def function(list1, list2) -> list:\n",
    "                return list(set(list1) -  set(list2))\n",
    "    return function\n",
    "\n",
    "list_intersection = set_operation('intersection')\n",
    "# example of the list_intersection function\n",
    "print(f\"Common elements of list1 and list2: {list_intersection(list1, list2)} \")\n",
    "###"
   ]
  },
  {
   "cell_type": "markdown",
   "metadata": {},
   "source": [
    "<h3 style=\"text-align:left;\">Exercise 3 - Strings filter<span style=\"float: right\">3 points</span></h3>"
   ]
  },
  {
   "cell_type": "markdown",
   "metadata": {},
   "source": [
    "Write a function named *strings_filter* that takes a list of strings and a number and returns another list with only the strings *shorter* than that number. Example:\n",
    "```python \n",
    "strings_filter([\"Python\", \"hello\", \"C++\"], 4)   # returns [\"C++\"]\n",
    "strings_filter([\"Python\", \"hello\", \"C++\"], 6)   # returns [\"hello\", \"C++\"]\n",
    "```\n",
    "Hint: you can accomplish this using a for loop."
   ]
  },
  {
   "cell_type": "code",
   "execution_count": 1,
   "metadata": {},
   "outputs": [
    {
     "name": "stdout",
     "output_type": "stream",
     "text": [
      "['C++']\n",
      "['Python', 'hello', 'C++']\n"
     ]
    }
   ],
   "source": [
    "\n",
    "def strings_filter(list: list[str], max_len: int) -> list[str]:\n",
    "    return [str for str in list if (len(str) <= max_len)]\n",
    "\n",
    "print(strings_filter([\"Python\", \"hello\", \"C++\"], 4))\n",
    "print(strings_filter([\"Python\", \"hello\", \"C++\"], 6))"
   ]
  },
  {
   "cell_type": "markdown",
   "metadata": {},
   "source": [
    "<h3 style=\"text-align:left;\">Exercise 4 - Leap years on Mars<span style=\"float: right\">4 points</span></h3>"
   ]
  },
  {
   "cell_type": "markdown",
   "metadata": {},
   "source": [
    "2024 is a leap year on Earth, meaning a year has one more day (29th of February). On Earth, leap years are those that are divisible by 4 (like 2024, 2028, etc.). \n",
    "\n",
    "On Mars, instead, leap years are those divisible by 6 (like 2028, 2034, etc.), with some exceptions:\n",
    "- if a year is divisible by 120 (e.g. 1680) or 36 (e.g. 2016), it's *not* a leap year.\n",
    "- however, if the year is divisible by 600 (e.g. 1800), it *is* a leap year, independently of the previous condition.\n",
    "\n",
    "Your task is to write a function named *is_leap_year* that asks the user to input a year, and returns True if it is a leap year on Mars, False otherwise. Example:\n",
    "```python\n",
    "is_leap_year(2028)  # returns True\n",
    "is_leap_year(2024)  # returns False (not divisible by 6)\n",
    "is_leap_year(1680)  # returns False (divisible by 120)\n",
    "is_leap_year(1800)  # returns True (divisible by 600)\n",
    "is_leap_year(2016)  # returns False (is divisible by 36)\n",
    "```\n",
    "N.B. The return type must be *boolean*.\n",
    "\n",
    "Additionally:\n",
    "- add a constrain that prints \"Can't calculate leap year\" if the given year is before 0 or after 5000."
   ]
  },
  {
   "cell_type": "code",
   "execution_count": null,
   "metadata": {},
   "outputs": [],
   "source": [
    "def is_leap_year(year: int) -> bool:\n",
    "    if year < 0 or year > 5000:\n",
    "        print(\"Can't calculate leap year\")\n",
    "        return False\n",
    "    return year % 6 == 0 and ((year % 120 != 0 and year % 36 != 0) or year % 600 == 0)\n",
    "       \n",
    "print(is_leap_year(2028)) # returns True\n",
    "print(is_leap_year(2024)) # returns False (not divisible by 6)\n",
    "print(is_leap_year(1680)) # returns False (divisible by 120)\n",
    "print(is_leap_year(1800)) # returns True (divisible by 600)\n",
    "print(is_leap_year(2016)) # returns False (is divisible by 36)"
   ]
  },
  {
   "cell_type": "markdown",
   "metadata": {},
   "source": [
    "<h3 style=\"text-align:left;\">Exercise 5 - Number divisors<span style=\"float: right\">4 points</span></h3>"
   ]
  },
  {
   "cell_type": "markdown",
   "metadata": {},
   "source": [
    "A divisor of a number, is another number that divides the first number without reminder, e.g. 4 is a divisor of 20. 1 and the number itself are always divisors. \n",
    "\n",
    "Write a function named *find_divisors* that takes a number in input and returns *all* its divisors. Example:\n",
    "```python \n",
    "find_divisors(20)  # returns [1, 2, 4, 5, 10, 20]\n",
    "find_divisors(7)  # returns [1, 7]\n",
    "```\n",
    "Additionally:\n",
    "- write a second version of the function called *find_common_divisors* that takes two numbers and returns all the *common* divisors. Example:\n",
    "```python \n",
    "find_common_divisors(20, 30)  # returns [1, 2, 5, 10]\n",
    "find_common_divisors(5, 7)  # returns [1]\n",
    "```\n",
    "Hint: exploit the previous function *find_divisors* to build this one."
   ]
  },
  {
   "cell_type": "code",
   "execution_count": null,
   "metadata": {},
   "outputs": [],
   "source": [
    "def find_divisors(number: int) -> list[int]:\n",
    "    divisors: list[int] = []\n",
    "    for i in range(1, number+1):\n",
    "        if number % i == 0:\n",
    "            divisors.append(i)\n",
    "\n",
    "    return divisors\n",
    "def find_common_divisors(number1: int, number2: int) -> list[int]:\n",
    "    return list(set(find_divisors(number1)) & set(find_divisors(number2)))\n",
    "\n",
    "print(find_divisors(20))\n",
    "print(find_common_divisors(20,30))"
   ]
  }
 ],
 "metadata": {
  "kernelspec": {
   "display_name": "dash",
   "language": "python",
   "name": "python3"
  },
  "language_info": {
   "codemirror_mode": {
    "name": "ipython",
    "version": 3
   },
   "file_extension": ".py",
   "mimetype": "text/x-python",
   "name": "python",
   "nbconvert_exporter": "python",
   "pygments_lexer": "ipython3",
   "version": "3.12.1"
  }
 },
 "nbformat": 4,
 "nbformat_minor": 2
}
