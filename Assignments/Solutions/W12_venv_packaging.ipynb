{
 "cells": [
  {
   "cell_type": "markdown",
   "metadata": {},
   "source": [
    "<h2><center>Week 12 - Exercises class</center></h2>\n",
    "<h3><center>Programming for Data Science 2024</center></h3>"
   ]
  },
  {
   "cell_type": "markdown",
   "metadata": {},
   "source": [
    "### Notes on decorators"
   ]
  },
  {
   "cell_type": "markdown",
   "metadata": {},
   "source": [
    "#### lru_cache"
   ]
  },
  {
   "cell_type": "markdown",
   "metadata": {},
   "source": [
    "Can be used to limit the size of memory buffer: https://docs.python.org/3/library/functools.html#functools.lru_cache"
   ]
  },
  {
   "cell_type": "markdown",
   "metadata": {},
   "source": [
    "#### Other use cases"
   ]
  },
  {
   "cell_type": "markdown",
   "metadata": {},
   "source": [
    "E.g. for Authentication and Authorization (taken from: https://codedamn.com/news/python/python-decorators-mastering-advanced-techniques-use-cases)\n",
    "\n",
    "Decorators can be used to implement access control in your application by checking if the user has the required permissions before executing a function:"
   ]
  },
  {
   "cell_type": "code",
   "execution_count": null,
   "metadata": {},
   "outputs": [],
   "source": [
    "def requires_permission(permission):\n",
    "    def decorator(func):\n",
    "        @functools.wraps(func)\n",
    "        def wrapper(*args, **kwargs):\n",
    "            user = kwargs.get(\"user\")\n",
    "            if user is None or permission not in user.permissions:\n",
    "                raise PermissionError(f\"User does not have {permission} permission\")\n",
    "            return func(*args, **kwargs)\n",
    "\n",
    "        return wrapper\n",
    "    return decorator\n",
    "\n",
    "class User:\n",
    "    def __init__(self, permissions):\n",
    "        self.permissions = permissions\n",
    "\n",
    "@requires_permission(\"view_data\")\n",
    "def view_data(user):\n",
    "    print(\"Data displayed\")\n",
    "\n",
    "@requires_permission(\"edit_data\")\n",
    "def edit_data(user):\n",
    "    print(\"Data edited\")\n",
    "\n",
    "alice = User(permissions={\"view_data\"})\n",
    "bob = User(permissions={\"view_data\", \"edit_data\"})\n",
    "\n",
    "view_data(user=alice)  # Allowed\n",
    "view_data(user=bob)    # Allowed\n",
    "# edit_data(user=alice)  # Uncomment to see PermissionError\n",
    "edit_data(user=bob)    # Allowed"
   ]
  },
  {
   "cell_type": "markdown",
   "metadata": {},
   "source": [
    "In this example, we have two decorators requires_permission and requires_role, which check if a user has the required permission or role before executing a function."
   ]
  },
  {
   "cell_type": "markdown",
   "metadata": {},
   "source": [
    "### Virtual environments with conda"
   ]
  },
  {
   "cell_type": "markdown",
   "metadata": {},
   "source": [
    "- [Research Software Engineering with Python](https://alan-turing-institute.github.io/rse-course/html/index.html), by Turing Research Engineering Group"
   ]
  },
  {
   "cell_type": "markdown",
   "metadata": {},
   "source": [
    "conda is a virtual environment, dependency, and package manager for multiple languages. There are multiple distributions including Anaconda, which comes with many common data science libraries pre-installed, and Miniconda, which is conda without pre-installed dependencies: https://conda.io/projects/conda/en/latest/user-guide/tasks/manage-environments.html"
   ]
  },
  {
   "cell_type": "markdown",
   "metadata": {},
   "source": [
    "Main pros:\n",
    "- It has binaries built for multiple platforms, e.g. conda packages are usually available on Windows, Mac, and Linux (whereas it’s quite common to find packages on PyPI that don’t have a Windows build, for example).\n",
    "- You can use it to install non-Python dependencies.\n",
    "- It’s an “all-in-one” tool: You can use it to manage your entire Python workflow.\n",
    "\n",
    "Main cons:\n",
    "- Other users of your code may not have or want to use conda (but everyone using Python will have pip available, for example)\n",
    "- There’s a bit more bloat than other tools, and the dependency resolver can be quite slow."
   ]
  },
  {
   "cell_type": "markdown",
   "metadata": {},
   "source": [
    "The equivalent of pip's requirements file is an *environment.yml* file, which looks something like this:\n",
    "\n",
    "name: myenv\n",
    "\n",
    "dependencies:\n",
    "  - python=3.9\n",
    "  - geopy=2.2.0\n",
    "  - imageio=2.19.3\n",
    "  - matplotlib=3.5.2\n",
    "  - numpy=1.23.0\n",
    "  - requests=2.28.1\n",
    "\n",
    "Note that a version of Python is specified as you can install any version of Python in a conda environment."
   ]
  },
  {
   "cell_type": "markdown",
   "metadata": {},
   "source": [
    "To create the environment:\n",
    "```bash\n",
    "conda env create -f environment.yml\n",
    "```\n",
    "\n",
    "And to use it:\n",
    "```bash\n",
    "conda activate myenv\n",
    "```\n",
    "\n",
    "And to deactivate:\n",
    "```bash \n",
    "conda deactivate\n",
    "```\n",
    "\n",
    "To see a list of all packages installed in a specific environment, if the environment is not activated, in your terminal window, run:\n",
    "```bash\n",
    "conda list -n myenv\n",
    "```"
   ]
  },
  {
   "cell_type": "markdown",
   "metadata": {},
   "source": [
    "**Note**: In practice, it is often very useful to reduce the list of dependencies in the requirements.txt / environment.yml file to the bare minimum of the essential packages and versions needed for the project. This ensures that the environment is better transportable between platforms and OSs, where the package specifics might differ."
   ]
  },
  {
   "cell_type": "markdown",
   "metadata": {},
   "source": [
    "### Packaging"
   ]
  },
  {
   "cell_type": "markdown",
   "metadata": {},
   "source": [
    "Two great resources for packaging in Python:\n",
    "- https://python-packaging.readthedocs.io/en/latest/index.html \n",
    "- https://packaging.python.org/en/latest/ "
   ]
  },
  {
   "cell_type": "markdown",
   "metadata": {},
   "source": [
    "The very minimal structure of a package includes the package itself and a setup.py file with the package configurations. A minimal example can be something like this, for the package funniest:\n",
    "```python\n",
    "funniest/\n",
    "    funniest/\n",
    "        __init__.py\n",
    "        text.py\n",
    "    setup.py\n",
    "```\n",
    "\n",
    "Of course, then we can a README, LICENSE, requirements.txt, .gitignore.txt, … files. \n",
    "The *setup.py* file was the default method for the “build system” -installing your package- whereas now is the *pyproject.toml*, which is a modern file format for configuration files.\n",
    "The *setup.py* file should look like this:\n",
    "\n",
    "```python\n",
    "from setuptools import setup\n",
    "\n",
    "setup(name='funniest',\n",
    "      version='0.1',\n",
    "      description='The funniest joke in the world',\n",
    "      url='http://github.com/storborg/funniest',\n",
    "      author='Flying Circus',\n",
    "      author_email='flyingcircus@example.com',\n",
    "      license='MIT',\n",
    "      packages=['funniest'],\n",
    "      zip_safe=False)\n",
    "```"
   ]
  },
  {
   "cell_type": "markdown",
   "metadata": {},
   "source": [
    "From its directory, the package can then be installed (also in a virtual environment) simply with (in editable form)\n",
    "\n",
    "```bash\n",
    "pip install -e .\n",
    "```"
   ]
  },
  {
   "cell_type": "markdown",
   "metadata": {},
   "source": [
    "It is then possible to use it as you would for any other library:\n",
    "```python\n",
    "from funniest import text\n",
    "\n",
    "text.some_function()\n",
    "```"
   ]
  }
 ],
 "metadata": {
  "kernelspec": {
   "display_name": "dash",
   "language": "python",
   "name": "python3"
  },
  "language_info": {
   "codemirror_mode": {
    "name": "ipython",
    "version": 3
   },
   "file_extension": ".py",
   "mimetype": "text/x-python",
   "name": "python",
   "nbconvert_exporter": "python",
   "pygments_lexer": "ipython3",
   "version": "3.11.7"
  }
 },
 "nbformat": 4,
 "nbformat_minor": 2
}
