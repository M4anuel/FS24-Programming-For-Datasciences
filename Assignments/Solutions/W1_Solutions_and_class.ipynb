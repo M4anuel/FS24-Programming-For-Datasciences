{
 "cells": [
  {
   "cell_type": "markdown",
   "metadata": {},
   "source": [
    "<h2><center>Week 1 - Assignment - Solutions</center></h2>\n",
    "<h3><center>Programming for Data Science 2024</center></h3>"
   ]
  },
  {
   "cell_type": "markdown",
   "metadata": {},
   "source": [
    "Note on JupyterLab vs Notebook: \n",
    "- https://jupyter.org/try\n",
    "- https://stackoverflow.com/questions/50982686/what-is-the-difference-between-jupyter-notebook-and-jupyterlab"
   ]
  },
  {
   "cell_type": "markdown",
   "metadata": {},
   "source": [
    "<h3 style=\"text-align:left;\">Exercise 1 - Indentation<span style=\"float: right\">1 point</span></h3>"
   ]
  },
  {
   "cell_type": "markdown",
   "metadata": {},
   "source": [
    "Fix the indentation in the following code. Output should be ”[0, 1, 2]”."
   ]
  },
  {
   "cell_type": "code",
   "execution_count": 1,
   "metadata": {},
   "outputs": [
    {
     "name": "stdout",
     "output_type": "stream",
     "text": [
      "[0, 1, 2]\n"
     ]
    }
   ],
   "source": [
    "N_max = 5\n",
    "n = 0\n",
    "n_list = []\n",
    "\n",
    "for n in range(N_max):\n",
    "\n",
    "    if n < 3:\n",
    "\n",
    "        n_list.append(n)\n",
    "\n",
    "print(n_list)"
   ]
  },
  {
   "cell_type": "markdown",
   "metadata": {},
   "source": [
    "<h3 style=\"text-align:left;\">Exercise 2 - Python variables<span style=\"float: right\">1 point</span></h3>"
   ]
  },
  {
   "cell_type": "markdown",
   "metadata": {},
   "source": [
    "In class, you've seen how Python variables are internally stored. Given the following piece of code, what do you expect to happen? Why? How can you check where the two lists are stored in memory? Comment and write additional code."
   ]
  },
  {
   "cell_type": "code",
   "execution_count": 2,
   "metadata": {},
   "outputs": [
    {
     "name": "stdout",
     "output_type": "stream",
     "text": [
      "[1, 2, 3, 4]\n"
     ]
    }
   ],
   "source": [
    "# Define two lists\n",
    "list1 = [1, 2, 3]\n",
    "list2 = list1\n",
    "\n",
    "# Append\n",
    "list2.append(4)\n",
    "\n",
    "print(list1)"
   ]
  },
  {
   "cell_type": "code",
   "execution_count": 3,
   "metadata": {},
   "outputs": [
    {
     "name": "stdout",
     "output_type": "stream",
     "text": [
      "ID list1: 2287003108544\n",
      "ID list2: 2287003108544\n",
      "[1, 2, 3, 4]\n"
     ]
    }
   ],
   "source": [
    "# Define two lists\n",
    "list1 = [1, 2, 3]\n",
    "list2 = list1\n",
    "\n",
    "# Check the variables IDs\n",
    "print(\"ID list1:\", id(list1))\n",
    "print(\"ID list2:\", id(list2))\n",
    "\n",
    "# Append\n",
    "list2.append(4)\n",
    "\n",
    "print(list1)"
   ]
  },
  {
   "cell_type": "code",
   "execution_count": 4,
   "metadata": {},
   "outputs": [
    {
     "name": "stdout",
     "output_type": "stream",
     "text": [
      "ID list1: 2287002997120\n",
      "ID list2: 2287002997120\n",
      "ID list2: 2287002670144\n",
      "[1, 2, 3]\n"
     ]
    }
   ],
   "source": [
    "# Define two lists\n",
    "list1 = [1, 2, 3]\n",
    "list2 = list1\n",
    "\n",
    "# Check the variables IDs\n",
    "print(\"ID list1:\", id(list1))\n",
    "print(\"ID list2:\", id(list2))\n",
    "\n",
    "# Define two lists\n",
    "list2 = [1, 2, 3, 4]\n",
    "\n",
    "# Check the variables IDs\n",
    "print(\"ID list2:\", id(list2))\n",
    "\n",
    "# Append\n",
    "list2.append(4)\n",
    "\n",
    "print(list1)"
   ]
  },
  {
   "cell_type": "markdown",
   "metadata": {},
   "source": [
    "What is the difference between the following list *lst* and tuple *tpl*? Comment."
   ]
  },
  {
   "cell_type": "code",
   "execution_count": 5,
   "metadata": {},
   "outputs": [],
   "source": [
    "lst = [1, 2, 3]\n",
    "tpl = (1, 2, 3)"
   ]
  },
  {
   "cell_type": "markdown",
   "metadata": {},
   "source": [
    "- the main difference is that lists are mutable objects, e.g. append, extend, etc.\n",
    "- while tuples are not -> one needs to re-define them\n",
    "- additionally, operations on tuples are usually more efficient"
   ]
  },
  {
   "cell_type": "code",
   "execution_count": 6,
   "metadata": {},
   "outputs": [
    {
     "name": "stdout",
     "output_type": "stream",
     "text": [
      "\u001b[1;31mInit signature:\u001b[0m \u001b[0mlist\u001b[0m\u001b[1;33m(\u001b[0m\u001b[0miterable\u001b[0m\u001b[1;33m=\u001b[0m\u001b[1;33m(\u001b[0m\u001b[1;33m)\u001b[0m\u001b[1;33m,\u001b[0m \u001b[1;33m/\u001b[0m\u001b[1;33m)\u001b[0m\u001b[1;33m\u001b[0m\u001b[1;33m\u001b[0m\u001b[0m\n",
      "\u001b[1;31mDocstring:\u001b[0m     \n",
      "Built-in mutable sequence.\n",
      "\n",
      "If no argument is given, the constructor creates a new empty list.\n",
      "The argument must be an iterable if specified.\n",
      "\u001b[1;31mType:\u001b[0m           type\n",
      "\u001b[1;31mSubclasses:\u001b[0m     _List, _HashedSeq, StackSummary, _Threads, ConvertingList, DeferredConfigList, _ymd, _Accumulator, SList, _ImmutableLineList, ..."
     ]
    }
   ],
   "source": [
    "?list"
   ]
  },
  {
   "cell_type": "code",
   "execution_count": 7,
   "metadata": {},
   "outputs": [
    {
     "name": "stdout",
     "output_type": "stream",
     "text": [
      "\u001b[1;31mInit signature:\u001b[0m \u001b[0mtuple\u001b[0m\u001b[1;33m(\u001b[0m\u001b[0miterable\u001b[0m\u001b[1;33m=\u001b[0m\u001b[1;33m(\u001b[0m\u001b[1;33m)\u001b[0m\u001b[1;33m,\u001b[0m \u001b[1;33m/\u001b[0m\u001b[1;33m)\u001b[0m\u001b[1;33m\u001b[0m\u001b[1;33m\u001b[0m\u001b[0m\n",
      "\u001b[1;31mDocstring:\u001b[0m     \n",
      "Built-in immutable sequence.\n",
      "\n",
      "If no argument is given, the constructor returns an empty tuple.\n",
      "If iterable is specified the tuple is initialized from iterable's items.\n",
      "\n",
      "If the argument is a tuple, the return value is the same object.\n",
      "\u001b[1;31mType:\u001b[0m           type\n",
      "\u001b[1;31mSubclasses:\u001b[0m     int_info, float_info, UnraisableHookArgs, hash_info, version_info, flags, getwindowsversion, thread_info, asyncgen_hooks, _ExceptHookArgs, ..."
     ]
    }
   ],
   "source": [
    "?tuple"
   ]
  },
  {
   "cell_type": "markdown",
   "metadata": {},
   "source": [
    "<h3 style=\"text-align:left;\">Exercise 2 - List intersection<span style=\"float: right\">2 points</span></h3>"
   ]
  },
  {
   "cell_type": "markdown",
   "metadata": {},
   "source": [
    "Write a program that takes two lists, and returns another list with the elements common to both of them. Example:\n",
    "```python \n",
    "list1 = [1, 2, 3]\n",
    "list2 = [3, 4, 5]\n",
    "output = [3]\n",
    "```\n",
    "Additionally,\n",
    "- Write the code as a function called *lists_intersection* that takes two lists as input and gives the intersection list as output."
   ]
  },
  {
   "cell_type": "code",
   "execution_count": 8,
   "metadata": {},
   "outputs": [],
   "source": [
    "list1 = [1, 2, 3, 3]\n",
    "list2 = [3, 4, 5]"
   ]
  },
  {
   "cell_type": "code",
   "execution_count": 9,
   "metadata": {},
   "outputs": [
    {
     "name": "stdout",
     "output_type": "stream",
     "text": [
      "[3, 3]\n"
     ]
    }
   ],
   "source": [
    "###\n",
    "# Solution 1 - for loops\n",
    "###\n",
    "\n",
    "output = []\n",
    "for element in list1:\n",
    "    if element in list2:\n",
    "        output.append(element)\n",
    "\n",
    "print(output)"
   ]
  },
  {
   "cell_type": "code",
   "execution_count": 10,
   "metadata": {},
   "outputs": [
    {
     "name": "stdout",
     "output_type": "stream",
     "text": [
      "\u001b[1;31mInit signature:\u001b[0m \u001b[0mset\u001b[0m\u001b[1;33m(\u001b[0m\u001b[0mself\u001b[0m\u001b[1;33m,\u001b[0m \u001b[1;33m/\u001b[0m\u001b[1;33m,\u001b[0m \u001b[1;33m*\u001b[0m\u001b[0margs\u001b[0m\u001b[1;33m,\u001b[0m \u001b[1;33m**\u001b[0m\u001b[0mkwargs\u001b[0m\u001b[1;33m)\u001b[0m\u001b[1;33m\u001b[0m\u001b[1;33m\u001b[0m\u001b[0m\n",
      "\u001b[1;31mDocstring:\u001b[0m     \n",
      "set() -> new empty set object\n",
      "set(iterable) -> new set object\n",
      "\n",
      "Build an unordered collection of unique elements.\n",
      "\u001b[1;31mType:\u001b[0m           type\n",
      "\u001b[1;31mSubclasses:\u001b[0m     "
     ]
    }
   ],
   "source": [
    "?set"
   ]
  },
  {
   "cell_type": "code",
   "execution_count": 11,
   "metadata": {},
   "outputs": [
    {
     "name": "stdout",
     "output_type": "stream",
     "text": [
      "[3]\n"
     ]
    }
   ],
   "source": [
    "###\n",
    "# Solution 2 - sets\n",
    "###\n",
    "\n",
    "output = list(set(list1) & set(list2))\n",
    "\n",
    "print(output)"
   ]
  },
  {
   "cell_type": "markdown",
   "metadata": {},
   "source": [
    "NB: The solutions are not entirely equivalent! The first solution returns duplicates WITHIN THE FIRST LIST, the second not! Let's see it with functions."
   ]
  },
  {
   "cell_type": "code",
   "execution_count": 12,
   "metadata": {},
   "outputs": [
    {
     "name": "stdout",
     "output_type": "stream",
     "text": [
      "[3, 3]\n",
      "[3]\n"
     ]
    }
   ],
   "source": [
    "def lists_intersection_1(list1, list2):\n",
    "\n",
    "    output = []\n",
    "    for element in list1:\n",
    "        if element in list2:\n",
    "            output.append(element)\n",
    "\n",
    "    return output\n",
    "\n",
    "def lists_intersection_2(list1, list2):\n",
    "\n",
    "    output = list(set(list1) & set(list2))\n",
    "\n",
    "    return output\n",
    "\n",
    "list1 = [1, 2, 3, 3]\n",
    "list2 = [3, 4, 5]\n",
    "\n",
    "print(lists_intersection_1(list1, list2))\n",
    "print(lists_intersection_2(list1, list2))"
   ]
  },
  {
   "cell_type": "markdown",
   "metadata": {},
   "source": [
    "<h3 style=\"text-align:left;\">Exercise 3 - Strings filter<span style=\"float: right\">3 points</span></h3>"
   ]
  },
  {
   "cell_type": "markdown",
   "metadata": {},
   "source": [
    "Write a function named *strings_filter* that takes a list of strings and a number and returns another list with only the strings *shorter* than that number. Example:\n",
    "```python \n",
    "strings_filter([\"Python\", \"hello\", \"C++\"], 4)   # returns [\"C++\"]\n",
    "strings_filter([\"Python\", \"hello\", \"C++\"], 6)   # returns [\"hello\", \"C++\"]\n",
    "```\n",
    "Hint: you can accomplish this using a for loop."
   ]
  },
  {
   "cell_type": "code",
   "execution_count": 13,
   "metadata": {},
   "outputs": [
    {
     "name": "stdout",
     "output_type": "stream",
     "text": [
      "['C++']\n",
      "['hello', 'C++']\n"
     ]
    }
   ],
   "source": [
    "###\n",
    "# Solution 1 - for loop\n",
    "###\n",
    "\n",
    "def strings_filter(list_of_words, n):\n",
    "\n",
    "    filtered_words = []\n",
    "\n",
    "    for word in list_of_words:\n",
    "\n",
    "        if len(word) < n:\n",
    "            \n",
    "            filtered_words.append(word)\n",
    "\n",
    "    return filtered_words\n",
    "\n",
    "print(strings_filter([\"Python\", \"hello\", \"C++\"], 4))\n",
    "print(strings_filter([\"Python\", \"hello\", \"C++\"], 6))"
   ]
  },
  {
   "cell_type": "code",
   "execution_count": 14,
   "metadata": {},
   "outputs": [
    {
     "name": "stdout",
     "output_type": "stream",
     "text": [
      "['C++']\n",
      "['hello', 'C++']\n"
     ]
    }
   ],
   "source": [
    "###\n",
    "# Solution 2 - list comprehension\n",
    "###\n",
    "\n",
    "def strings_filter(list_of_words, n):\n",
    "\n",
    "    filtered_words = [word for word in list_of_words if len(word) < n]\n",
    "\n",
    "    return filtered_words\n",
    "\n",
    "print(strings_filter([\"Python\", \"hello\", \"C++\"], 4))\n",
    "print(strings_filter([\"Python\", \"hello\", \"C++\"], 6))"
   ]
  },
  {
   "cell_type": "code",
   "execution_count": 15,
   "metadata": {},
   "outputs": [
    {
     "name": "stdout",
     "output_type": "stream",
     "text": [
      "['C++']\n",
      "['hello', 'C++']\n"
     ]
    }
   ],
   "source": [
    "###\n",
    "# Solution 3 - Python's filter\n",
    "###\n",
    "\n",
    "def strings_filter(list_of_words, n):\n",
    "\n",
    "    filtered_words = list(filter(lambda x: len(x) < n, list_of_words))\n",
    "\n",
    "    return filtered_words\n",
    "\n",
    "print(strings_filter([\"Python\", \"hello\", \"C++\"], 4))\n",
    "print(strings_filter([\"Python\", \"hello\", \"C++\"], 6))"
   ]
  },
  {
   "cell_type": "markdown",
   "metadata": {},
   "source": [
    "<h3 style=\"text-align:left;\">Exercise 4 - Leap years on Mars<span style=\"float: right\">4 points</span></h3>"
   ]
  },
  {
   "cell_type": "markdown",
   "metadata": {},
   "source": [
    "2024 is a leap year on Earth, meaning a year has one more day (29th of February). On Earth, leap years are those that are divisible by 4 (like 2024, 2028, etc.). \n",
    "\n",
    "On Mars, instead, leap years are those divisible by 6 (like 2028, 2034, etc.), with some exceptions:\n",
    "- if a year is divisible by 120 (e.g. 1680) or 36 (e.g. 2016), it's *not* a leap year.\n",
    "- however, if the year is divisible by 600 (e.g. 1800), it *is* a leap year, independently of the previous condition.\n",
    "\n",
    "Your task is to write a function named *is_leap_year* that asks the user to input a year, and returns True if it is a leap year on Mars, False otherwise. Example:\n",
    "```python\n",
    "is_leap_year(2028)  # returns True\n",
    "is_leap_year(2024)  # returns False (not divisible by 6)\n",
    "is_leap_year(1680)  # returns False (divisible by 120)\n",
    "is_leap_year(1800)  # returns True (divisible by 600)\n",
    "is_leap_year(2016)  # returns False (is divisible by 36)\n",
    "```\n",
    "N.B. The return type must be *boolean*.\n",
    "\n",
    "Additionally:\n",
    "- add a constrain that prints \"Can't calculate leap year\" if the given year is before 0 or after 5000."
   ]
  },
  {
   "cell_type": "code",
   "execution_count": 16,
   "metadata": {},
   "outputs": [
    {
     "data": {
      "text/plain": [
       "False"
      ]
     },
     "execution_count": 16,
     "metadata": {},
     "output_type": "execute_result"
    }
   ],
   "source": [
    "###\n",
    "# Solution 1 - if/else\n",
    "###\n",
    "\n",
    "def is_leap_year():\n",
    "\n",
    "    year = input(\"Please input a year:\")\n",
    "    year = int(year)\n",
    "\n",
    "    # First check on year range\n",
    "    if (year < 0) or (year > 5000):\n",
    "        print(\"Can't calculate leap year\")\n",
    "\n",
    "    # If not divisible by 6 in the first place, not leap\n",
    "    if year % 6 != 0:\n",
    "        return False\n",
    "    # From here on, the year is divisible by 6.\n",
    "    # We need to add the other conditions\n",
    "    \n",
    "    # Check if divisible by 600\n",
    "    elif year % 600 == 0:\n",
    "        return True\n",
    "    \n",
    "    # check if divisible by 36 OR 120\n",
    "    elif (year % 36 == 0) or (year % 120 == 0):\n",
    "        return False\n",
    "    \n",
    "    # Finally, all the remaining ones are leap\n",
    "    else:\n",
    "        return True\n",
    "    \n",
    "is_leap_year()"
   ]
  },
  {
   "cell_type": "markdown",
   "metadata": {},
   "source": [
    "NB: There are a lot of other possibilities to arrange the if/else!"
   ]
  },
  {
   "cell_type": "code",
   "execution_count": 17,
   "metadata": {},
   "outputs": [
    {
     "data": {
      "text/plain": [
       "False"
      ]
     },
     "execution_count": 17,
     "metadata": {},
     "output_type": "execute_result"
    }
   ],
   "source": [
    "###\n",
    "# Solution 2 - compact if/else\n",
    "###\n",
    "\n",
    "def is_leap_year():\n",
    "\n",
    "    year = input(\"Please input a year:\")\n",
    "    year = int(year)\n",
    "\n",
    "    # First check on year range\n",
    "    if (year < 0) or (year > 5000):\n",
    "        print(\"Can't calculate leap year\")\n",
    "\n",
    "    return ((year % 6 == 0) and (year % 36 != 0) and (year % 120 != 0)) or (year % 600 == 0)\n",
    "    \n",
    "is_leap_year()"
   ]
  },
  {
   "cell_type": "markdown",
   "metadata": {},
   "source": [
    "<h3 style=\"text-align:left;\">Exercise 5 - Number divisors<span style=\"float: right\">4 points</span></h3>"
   ]
  },
  {
   "cell_type": "markdown",
   "metadata": {},
   "source": [
    "A divisor of a number is another number that divides the first number without reminder, e.g. 4 is a divisor of 20. 1 and the number itself are always divisors. \n",
    "\n",
    "Write a function named *find_divisors* that takes a number in input and returns *all* its divisors. Example:\n",
    "```python \n",
    "find_divisors(20)  # returns [1, 2, 4, 5, 10, 20]\n",
    "find_divisors(7)  # returns [1, 7]\n",
    "```\n",
    "Additionally:\n",
    "- write a second version of the function called *find_common_divisors* that takes two numbers and returns all the *common* divisors. Example:\n",
    "```python \n",
    "find_common_divisors(20, 30)  # returns [1, 2, 5, 10]\n",
    "find_common_divisors(5, 7)  # returns [1]\n",
    "```\n",
    "Hint: exploit the previous function *find_divisors* to build this one."
   ]
  },
  {
   "cell_type": "code",
   "execution_count": 18,
   "metadata": {},
   "outputs": [
    {
     "data": {
      "text/plain": [
       "[1, 2, 4, 5, 10, 20]"
      ]
     },
     "execution_count": 18,
     "metadata": {},
     "output_type": "execute_result"
    }
   ],
   "source": [
    "###\n",
    "# Solution 1\n",
    "###\n",
    "\n",
    "def find_divisors(N):\n",
    "\n",
    "    divisors = []\n",
    "\n",
    "    for n in range(1, N + 1):\n",
    "        if N % n == 0:\n",
    "            divisors.append(n)\n",
    "\n",
    "    return divisors\n",
    "\n",
    "find_divisors(20)"
   ]
  },
  {
   "cell_type": "code",
   "execution_count": 19,
   "metadata": {},
   "outputs": [
    {
     "data": {
      "text/plain": [
       "[1, 2, 4, 5, 10, 20]"
      ]
     },
     "execution_count": 19,
     "metadata": {},
     "output_type": "execute_result"
    }
   ],
   "source": [
    "###\n",
    "# Solution 2 - slightly better\n",
    "###\n",
    "\n",
    "def find_divisors(N):\n",
    "\n",
    "    divisors = [1]  # 1 is always in the divisors\n",
    "\n",
    "    # We can loop only up to half the number\n",
    "    for n in range(2, N // 2 + 1):\n",
    "        if N % n == 0:\n",
    "            divisors.append(n)\n",
    "\n",
    "    # Finally, append the number itself\n",
    "    divisors.append(N)\n",
    "\n",
    "    return divisors\n",
    "\n",
    "find_divisors(20)"
   ]
  },
  {
   "cell_type": "markdown",
   "metadata": {},
   "source": [
    "For finding common divisors, we can really exploit the previous functions:"
   ]
  },
  {
   "cell_type": "code",
   "execution_count": 20,
   "metadata": {},
   "outputs": [
    {
     "data": {
      "text/plain": [
       "[1, 2, 10, 5]"
      ]
     },
     "execution_count": 20,
     "metadata": {},
     "output_type": "execute_result"
    }
   ],
   "source": [
    "###\n",
    "# Solution - common divisors\n",
    "###\n",
    "\n",
    "def find_common_divisors(N1, N2):\n",
    "\n",
    "    divisors1 = find_divisors(N1)\n",
    "    divisors2 = find_divisors(N2)\n",
    "\n",
    "    common_divisors = list(set(divisors1) & set(divisors2))\n",
    "\n",
    "    return common_divisors\n",
    "\n",
    "find_common_divisors(20, 30)"
   ]
  },
  {
   "cell_type": "code",
   "execution_count": 21,
   "metadata": {},
   "outputs": [
    {
     "data": {
      "text/plain": [
       "[1, 2, 5, 10]"
      ]
     },
     "execution_count": 21,
     "metadata": {},
     "output_type": "execute_result"
    }
   ],
   "source": [
    "###\n",
    "# Solution - slightly better\n",
    "###\n",
    "\n",
    "def find_common_divisors(N1, N2):\n",
    "\n",
    "    divisors1 = find_divisors(N1)\n",
    "    divisors2 = find_divisors(N2)\n",
    "\n",
    "    common_divisors = lists_intersection_2(divisors1, divisors2)\n",
    "    common_divisors.sort()\n",
    "\n",
    "    return common_divisors\n",
    "\n",
    "find_common_divisors(20, 30)"
   ]
  },
  {
   "cell_type": "markdown",
   "metadata": {},
   "source": [
    "___________________________________________________________________________________________________________________________________________________________"
   ]
  },
  {
   "cell_type": "markdown",
   "metadata": {},
   "source": [
    "## Improvements to functions"
   ]
  },
  {
   "cell_type": "markdown",
   "metadata": {},
   "source": [
    "Functions and classes can be greatly improved by commenting them! The main helps are docstrings and type hints:"
   ]
  },
  {
   "cell_type": "code",
   "execution_count": 22,
   "metadata": {},
   "outputs": [],
   "source": [
    "def find_common_divisors(N1, N2):\n",
    "    \"\"\"Find common divisors between two numbers.\n",
    "\n",
    "    Args:\n",
    "        N1 (int): first number.\n",
    "        N2 (int): second number.\n",
    "\n",
    "    Returns:\n",
    "        list: unique common divisors between N1 and N2.\n",
    "    \"\"\"\n",
    "\n",
    "    divisors1 = find_divisors(N1)\n",
    "    divisors2 = find_divisors(N2)\n",
    "\n",
    "    common_divisors = list(set(divisors1) & set(divisors2))\n",
    "\n",
    "    return common_divisors"
   ]
  },
  {
   "cell_type": "code",
   "execution_count": 23,
   "metadata": {},
   "outputs": [
    {
     "ename": "TypeError",
     "evalue": "'float' object cannot be interpreted as an integer",
     "output_type": "error",
     "traceback": [
      "\u001b[1;31m---------------------------------------------------------------------------\u001b[0m",
      "\u001b[1;31mTypeError\u001b[0m                                 Traceback (most recent call last)",
      "Cell \u001b[1;32mIn[23], line 1\u001b[0m\n\u001b[1;32m----> 1\u001b[0m \u001b[43mfind_common_divisors\u001b[49m\u001b[43m(\u001b[49m\u001b[38;5;241;43m10\u001b[39;49m\u001b[43m,\u001b[49m\u001b[43m \u001b[49m\u001b[38;5;241;43m15.5\u001b[39;49m\u001b[43m)\u001b[49m\n",
      "Cell \u001b[1;32mIn[22], line 13\u001b[0m, in \u001b[0;36mfind_common_divisors\u001b[1;34m(N1, N2)\u001b[0m\n\u001b[0;32m      2\u001b[0m \u001b[38;5;250m\u001b[39m\u001b[38;5;124;03m\"\"\"Find common divisors between two numbers.\u001b[39;00m\n\u001b[0;32m      3\u001b[0m \n\u001b[0;32m      4\u001b[0m \u001b[38;5;124;03mArgs:\u001b[39;00m\n\u001b[1;32m   (...)\u001b[0m\n\u001b[0;32m      9\u001b[0m \u001b[38;5;124;03m    list: unique common divisors between N1 and N2.\u001b[39;00m\n\u001b[0;32m     10\u001b[0m \u001b[38;5;124;03m\"\"\"\u001b[39;00m\n\u001b[0;32m     12\u001b[0m divisors1 \u001b[38;5;241m=\u001b[39m find_divisors(N1)\n\u001b[1;32m---> 13\u001b[0m divisors2 \u001b[38;5;241m=\u001b[39m \u001b[43mfind_divisors\u001b[49m\u001b[43m(\u001b[49m\u001b[43mN2\u001b[49m\u001b[43m)\u001b[49m\n\u001b[0;32m     15\u001b[0m common_divisors \u001b[38;5;241m=\u001b[39m \u001b[38;5;28mlist\u001b[39m(\u001b[38;5;28mset\u001b[39m(divisors1) \u001b[38;5;241m&\u001b[39m \u001b[38;5;28mset\u001b[39m(divisors2))\n\u001b[0;32m     17\u001b[0m \u001b[38;5;28;01mreturn\u001b[39;00m common_divisors\n",
      "Cell \u001b[1;32mIn[19], line 10\u001b[0m, in \u001b[0;36mfind_divisors\u001b[1;34m(N)\u001b[0m\n\u001b[0;32m      7\u001b[0m divisors \u001b[38;5;241m=\u001b[39m [\u001b[38;5;241m1\u001b[39m]  \u001b[38;5;66;03m# 1 is always in the divisors\u001b[39;00m\n\u001b[0;32m      9\u001b[0m \u001b[38;5;66;03m# We can loop only up to half the number\u001b[39;00m\n\u001b[1;32m---> 10\u001b[0m \u001b[38;5;28;01mfor\u001b[39;00m n \u001b[38;5;129;01min\u001b[39;00m \u001b[38;5;28;43mrange\u001b[39;49m\u001b[43m(\u001b[49m\u001b[38;5;241;43m2\u001b[39;49m\u001b[43m,\u001b[49m\u001b[43m \u001b[49m\u001b[43mN\u001b[49m\u001b[43m \u001b[49m\u001b[38;5;241;43m/\u001b[39;49m\u001b[38;5;241;43m/\u001b[39;49m\u001b[43m \u001b[49m\u001b[38;5;241;43m2\u001b[39;49m\u001b[43m \u001b[49m\u001b[38;5;241;43m+\u001b[39;49m\u001b[43m \u001b[49m\u001b[38;5;241;43m1\u001b[39;49m\u001b[43m)\u001b[49m:\n\u001b[0;32m     11\u001b[0m     \u001b[38;5;28;01mif\u001b[39;00m N \u001b[38;5;241m%\u001b[39m n \u001b[38;5;241m==\u001b[39m \u001b[38;5;241m0\u001b[39m:\n\u001b[0;32m     12\u001b[0m         divisors\u001b[38;5;241m.\u001b[39mappend(n)\n",
      "\u001b[1;31mTypeError\u001b[0m: 'float' object cannot be interpreted as an integer"
     ]
    }
   ],
   "source": [
    "find_common_divisors(10, 15.5)"
   ]
  },
  {
   "cell_type": "code",
   "execution_count": null,
   "metadata": {},
   "outputs": [
    {
     "name": "stdout",
     "output_type": "stream",
     "text": [
      "\u001b[0;31mSignature:\u001b[0m \u001b[0mfind_common_divisors\u001b[0m\u001b[0;34m(\u001b[0m\u001b[0mN1\u001b[0m\u001b[0;34m,\u001b[0m \u001b[0mN2\u001b[0m\u001b[0;34m)\u001b[0m\u001b[0;34m\u001b[0m\u001b[0;34m\u001b[0m\u001b[0m\n",
      "\u001b[0;31mDocstring:\u001b[0m\n",
      "Find common divisors between two numbers.\n",
      "\n",
      "Args:\n",
      "    N1 (int): first number.\n",
      "    N2 (int): second number.\n",
      "\n",
      "Returns:\n",
      "    list: unique common divisors between N1 and N2.\n",
      "\u001b[0;31mFile:\u001b[0m      /var/folders/q0/xyqbb4c10p5c09n42wntpylc0000gn/T/ipykernel_70192/2499042525.py\n",
      "\u001b[0;31mType:\u001b[0m      function"
     ]
    }
   ],
   "source": [
    "?find_common_divisors"
   ]
  },
  {
   "cell_type": "code",
   "execution_count": null,
   "metadata": {},
   "outputs": [],
   "source": [
    "def find_common_divisors(N1: int, N2: int) -> list:\n",
    "    \"\"\"Find common divisors between two numbers.\n",
    "\n",
    "    Args:\n",
    "        N1 (int): first number.\n",
    "        N2 (int): second number.\n",
    "\n",
    "    Returns:\n",
    "        list: unique common divisors between N1 and N2.\n",
    "    \"\"\"\n",
    "\n",
    "    divisors1 = find_divisors(N1)\n",
    "    divisors2 = find_divisors(N2)\n",
    "\n",
    "    common_divisors = list(set(divisors1) & set(divisors2))\n",
    "\n",
    "    return common_divisors"
   ]
  },
  {
   "cell_type": "code",
   "execution_count": null,
   "metadata": {},
   "outputs": [
    {
     "ename": "TypeError",
     "evalue": "'float' object cannot be interpreted as an integer",
     "output_type": "error",
     "traceback": [
      "\u001b[0;31m---------------------------------------------------------------------------\u001b[0m",
      "\u001b[0;31mTypeError\u001b[0m                                 Traceback (most recent call last)",
      "Cell \u001b[0;32mIn[78], line 1\u001b[0m\n\u001b[0;32m----> 1\u001b[0m find_common_divisors(\u001b[38;5;241m10\u001b[39m, \u001b[38;5;241m15.5\u001b[39m)\n",
      "Cell \u001b[0;32mIn[77], line 13\u001b[0m, in \u001b[0;36mfind_common_divisors\u001b[0;34m(N1, N2)\u001b[0m\n\u001b[1;32m      2\u001b[0m \u001b[38;5;250m\u001b[39m\u001b[38;5;124;03m\"\"\"Find common divisors between two numbers.\u001b[39;00m\n\u001b[1;32m      3\u001b[0m \n\u001b[1;32m      4\u001b[0m \u001b[38;5;124;03mArgs:\u001b[39;00m\n\u001b[0;32m   (...)\u001b[0m\n\u001b[1;32m      9\u001b[0m \u001b[38;5;124;03m    list: unique common divisors between N1 and N2.\u001b[39;00m\n\u001b[1;32m     10\u001b[0m \u001b[38;5;124;03m\"\"\"\u001b[39;00m\n\u001b[1;32m     12\u001b[0m divisors1 \u001b[38;5;241m=\u001b[39m find_divisors(N1)\n\u001b[0;32m---> 13\u001b[0m divisors2 \u001b[38;5;241m=\u001b[39m find_divisors(N2)\n\u001b[1;32m     15\u001b[0m common_divisors \u001b[38;5;241m=\u001b[39m \u001b[38;5;28mlist\u001b[39m(\u001b[38;5;28mset\u001b[39m(divisors1) \u001b[38;5;241m&\u001b[39m \u001b[38;5;28mset\u001b[39m(divisors2))\n\u001b[1;32m     17\u001b[0m \u001b[38;5;28;01mreturn\u001b[39;00m common_divisors\n",
      "Cell \u001b[0;32mIn[69], line 10\u001b[0m, in \u001b[0;36mfind_divisors\u001b[0;34m(N)\u001b[0m\n\u001b[1;32m      7\u001b[0m divisors \u001b[38;5;241m=\u001b[39m [\u001b[38;5;241m1\u001b[39m]  \u001b[38;5;66;03m# 1 is always in the divisors\u001b[39;00m\n\u001b[1;32m      9\u001b[0m \u001b[38;5;66;03m# We can loop only up to half the number\u001b[39;00m\n\u001b[0;32m---> 10\u001b[0m \u001b[38;5;28;01mfor\u001b[39;00m n \u001b[38;5;129;01min\u001b[39;00m \u001b[38;5;28mrange\u001b[39m(\u001b[38;5;241m2\u001b[39m, N \u001b[38;5;241m/\u001b[39m\u001b[38;5;241m/\u001b[39m \u001b[38;5;241m2\u001b[39m \u001b[38;5;241m+\u001b[39m \u001b[38;5;241m1\u001b[39m):\n\u001b[1;32m     11\u001b[0m     \u001b[38;5;28;01mif\u001b[39;00m N \u001b[38;5;241m%\u001b[39m n \u001b[38;5;241m==\u001b[39m \u001b[38;5;241m0\u001b[39m:\n\u001b[1;32m     12\u001b[0m         divisors\u001b[38;5;241m.\u001b[39mappend(n)\n",
      "\u001b[0;31mTypeError\u001b[0m: 'float' object cannot be interpreted as an integer"
     ]
    }
   ],
   "source": [
    "find_common_divisors(10, 15.5)"
   ]
  },
  {
   "cell_type": "code",
   "execution_count": null,
   "metadata": {},
   "outputs": [
    {
     "name": "stdout",
     "output_type": "stream",
     "text": [
      "\u001b[0;31mSignature:\u001b[0m \u001b[0mfind_common_divisors\u001b[0m\u001b[0;34m(\u001b[0m\u001b[0mN1\u001b[0m\u001b[0;34m,\u001b[0m \u001b[0mN2\u001b[0m\u001b[0;34m)\u001b[0m\u001b[0;34m\u001b[0m\u001b[0;34m\u001b[0m\u001b[0m\n",
      "\u001b[0;31mDocstring:\u001b[0m\n",
      "Find common divisors between two numbers.\n",
      "\n",
      "Args:\n",
      "    N1 (int): first number.\n",
      "    N2 (int): second number.\n",
      "\n",
      "Returns:\n",
      "    list: unique common divisors between N1 and N2.\n",
      "\u001b[0;31mFile:\u001b[0m      /var/folders/q0/xyqbb4c10p5c09n42wntpylc0000gn/T/ipykernel_70192/2499042525.py\n",
      "\u001b[0;31mType:\u001b[0m      function"
     ]
    }
   ],
   "source": [
    "?find_common_divisors"
   ]
  },
  {
   "cell_type": "markdown",
   "metadata": {},
   "source": [
    "## Looping in Python"
   ]
  },
  {
   "cell_type": "markdown",
   "metadata": {},
   "source": [
    "There are many ways to loop through iterables in Python. Some examples:"
   ]
  },
  {
   "cell_type": "code",
   "execution_count": null,
   "metadata": {},
   "outputs": [],
   "source": [
    "list_a = [1, 2, 3, 4, 5]\n",
    "list_b = [6, 7, 8, 9, 10]"
   ]
  },
  {
   "cell_type": "markdown",
   "metadata": {},
   "source": [
    "1) For loop on a single list:"
   ]
  },
  {
   "cell_type": "code",
   "execution_count": null,
   "metadata": {},
   "outputs": [
    {
     "name": "stdout",
     "output_type": "stream",
     "text": [
      "1\n",
      "2\n",
      "3\n",
      "4\n",
      "5\n"
     ]
    }
   ],
   "source": [
    "for i in range(len(list_a)):\n",
    "    print(list_a[i])"
   ]
  },
  {
   "cell_type": "code",
   "execution_count": null,
   "metadata": {},
   "outputs": [
    {
     "name": "stdout",
     "output_type": "stream",
     "text": [
      "1\n",
      "2\n",
      "3\n",
      "4\n",
      "5\n"
     ]
    }
   ],
   "source": [
    "for elem in list_a:\n",
    "    print(elem)"
   ]
  },
  {
   "cell_type": "markdown",
   "metadata": {},
   "source": [
    "For loop on two lists:"
   ]
  },
  {
   "cell_type": "code",
   "execution_count": null,
   "metadata": {},
   "outputs": [
    {
     "name": "stdout",
     "output_type": "stream",
     "text": [
      "0 1\n",
      "1 2\n",
      "2 3\n",
      "3 4\n",
      "4 5\n"
     ]
    }
   ],
   "source": [
    "# enumerate gives us the list elements and their indices...\n",
    "\n",
    "for i, elem in enumerate(list_a):\n",
    "\n",
    "    print(i, elem)"
   ]
  },
  {
   "cell_type": "code",
   "execution_count": null,
   "metadata": {},
   "outputs": [
    {
     "name": "stdout",
     "output_type": "stream",
     "text": [
      "1 6\n",
      "2 7\n",
      "3 8\n",
      "4 9\n",
      "5 10\n"
     ]
    }
   ],
   "source": [
    "# ...from which we can also access other objects\n",
    "\n",
    "for i, elem in enumerate(list_a):\n",
    "\n",
    "    print(elem, list_b[i])"
   ]
  },
  {
   "cell_type": "code",
   "execution_count": null,
   "metadata": {},
   "outputs": [
    {
     "name": "stdout",
     "output_type": "stream",
     "text": [
      "1 6\n",
      "2 7\n",
      "3 8\n",
      "4 9\n",
      "5 10\n"
     ]
    }
   ],
   "source": [
    "# zip allows us to loop directly in multiple objects\n",
    "\n",
    "for elem_a, elem_b in zip(list_a, list_b):\n",
    "\n",
    "    print(elem_a, elem_b)"
   ]
  },
  {
   "cell_type": "markdown",
   "metadata": {},
   "source": [
    "## Indexing Arrays"
   ]
  },
  {
   "cell_type": "markdown",
   "metadata": {},
   "source": [
    "Python is a \"0-index\" language, meaning that array elements and dimensions start from 0, rather than 1 (e.g. as R, Matlab) and finish at (N-1), if we want N elements."
   ]
  },
  {
   "cell_type": "code",
   "execution_count": null,
   "metadata": {},
   "outputs": [
    {
     "data": {
      "text/plain": [
       "[0, 1, 2, 3, 4]"
      ]
     },
     "execution_count": 85,
     "metadata": {},
     "output_type": "execute_result"
    }
   ],
   "source": [
    "list(range(5))"
   ]
  },
  {
   "cell_type": "code",
   "execution_count": null,
   "metadata": {},
   "outputs": [
    {
     "name": "stdout",
     "output_type": "stream",
     "text": [
      "[0 1 2 3 4]\n"
     ]
    }
   ],
   "source": [
    "import numpy as np\n",
    "\n",
    "a = np.arange(5)\n",
    "print(a)"
   ]
  },
  {
   "cell_type": "code",
   "execution_count": null,
   "metadata": {},
   "outputs": [
    {
     "name": "stdout",
     "output_type": "stream",
     "text": [
      "0\n",
      "[0]\n"
     ]
    }
   ],
   "source": [
    "# Take first element\n",
    "print(a[0])\n",
    "\n",
    "# , or\n",
    "print(a[0:1])"
   ]
  },
  {
   "cell_type": "markdown",
   "metadata": {},
   "source": [
    "Are the results equal? Why?"
   ]
  },
  {
   "cell_type": "code",
   "execution_count": null,
   "metadata": {},
   "outputs": [
    {
     "name": "stdout",
     "output_type": "stream",
     "text": [
      "()\n",
      "(1,)\n"
     ]
    }
   ],
   "source": [
    "\n",
    "print(a[0].shape)\n",
    "print(a[0:1].shape)"
   ]
  },
  {
   "cell_type": "code",
   "execution_count": null,
   "metadata": {},
   "outputs": [],
   "source": []
  }
 ],
 "metadata": {
  "kernelspec": {
   "display_name": "dash",
   "language": "python",
   "name": "python3"
  },
  "language_info": {
   "codemirror_mode": {
    "name": "ipython",
    "version": 3
   },
   "file_extension": ".py",
   "mimetype": "text/x-python",
   "name": "python",
   "nbconvert_exporter": "python",
   "pygments_lexer": "ipython3",
   "version": "3.12.1"
  }
 },
 "nbformat": 4,
 "nbformat_minor": 2
}
