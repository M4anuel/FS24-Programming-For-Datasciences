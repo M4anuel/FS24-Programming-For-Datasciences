{
 "cells": [
  {
   "cell_type": "markdown",
   "metadata": {},
   "source": [
    "<h2><center>Week 10 - Exercises class</center></h2>\n",
    "<h3><center>Programming for Data Science 2024</center></h3>"
   ]
  },
  {
   "cell_type": "markdown",
   "metadata": {},
   "source": [
    "Troughout this class, I used the following resources:\n",
    "- [The Good Research Code Handbook](https://goodresearch.dev/)\n",
    "- [The Hitchhiker’s Guide to Python](https://docs.python-guide.org/)\n",
    "- Computational Thinking by Karl Beecher"
   ]
  },
  {
   "cell_type": "markdown",
   "metadata": {},
   "source": [
    "As you've seen in class, there are many ways of writing bad code, for example:\n",
    "- Mysterious names: variables have names which don’t indicate their function\n",
    "- Magic numbers: hard-coded values with unexplained meaning\n",
    "- Duplicated code: large portions of duplicated code with small tweaks\n",
    "- Uncontrolled side effects: code is written so that it’s unclear where and when variables are changed\n",
    "- Large functions: big, unwieldy functions that do a little bit of everything\n",
    "- High cyclomatic complexity: lots of nested ifs and for loops\n",
    "\n",
    "We can already start by having an organized and documented repository, like in this [example repo](https://github.com/navdeep-G/samplemod), but it's not sufficient as we need to write the code and functions themselves in an organized and scalable way."
   ]
  },
  {
   "cell_type": "markdown",
   "metadata": {},
   "source": [
    "### Abstraction & Decomposition"
   ]
  },
  {
   "cell_type": "markdown",
   "metadata": {},
   "source": [
    "One way of thinking about this problem is by Abstraction and Decomposition. Abstraction and decomposition are two ways of tackling a coding task and a great way for writing structured code. From the 1973 book *How to Solve It* the procedure should roughly look like this:\n",
    "- understand the problem\n",
    "- devise a plan\n",
    "- execute the plan\n",
    "- review and extend\n",
    "\n",
    "Decomposition is an heuristic tackling the second point, by which we seeks to break a complex problem down into simpler parts that are easier to deal with. It can be thought as recursively breaking down tasks:"
   ]
  },
  {
   "cell_type": "markdown",
   "metadata": {},
   "source": [
    "<style>\n",
    "\n",
    "figcaption {\n",
    "  text-align: center;\n",
    "  margin-top: 10px\n",
    "}\n",
    "</style>\n",
    "\n",
    "<figure class=\"image\">\n",
    "  <img src=\"images/decomposition-strategy.png\" style=\"width:100%\">\n",
    "  <figcaption >Image taken from Computational Thinking, by Karl Beecher</figcaption>\n",
    "</figure>"
   ]
  },
  {
   "cell_type": "markdown",
   "metadata": {},
   "source": [
    "By decomposing, we can also achieve the distinct, but similar objective of Abstraction. Abstraction is a way of expressing an idea in a specific context while at the same time suppressing details irrelevant in that context. In the case of code, we want a function to work and show its main parts, while hiding unnecessary details."
   ]
  },
  {
   "cell_type": "markdown",
   "metadata": {},
   "source": [
    "General guidelines for how to make code better could be:\n",
    "- **Separate concerns**: one function does one thing, a module is a collection of similar functions, etc. As a general rule, a function should fit in a screen, i.e. 40 rows x 80 columns\n",
    "- **Pure functions**: the inputs come from the arguments and the outputs are returned with the return statement. They are deterministic and stateless, i.e. with has no knowledge about its previous calls\n",
    "- **No side effects**: functions should not cause \"alterations\", except those that happens inside the flow from arguments to return; examples are modifying a global, modifying an argument, doing I/O, printing to console etc. "
   ]
  },
  {
   "cell_type": "markdown",
   "metadata": {},
   "source": [
    "<style>\n",
    "\n",
    "figcaption {\n",
    "  text-align: center;\n",
    "  margin-top: 10px\n",
    "}\n",
    "</style>\n",
    "\n",
    "<figure class=\"image\">\n",
    "  <img src=\"images/good-vs-bad.svg\" style=\"width:100%\">\n",
    "  <figcaption >Image taken from <a href=\"https://cicero.xyz/v3/remark/0.14.0/github.com/coderefinery/modular-code-development/master/talk.md/#10\">CodeRefinery</figcaption>\n",
    "</figure>"
   ]
  },
  {
   "cell_type": "markdown",
   "metadata": {},
   "source": [
    "**Example 1** Let's take the following code. Would you say it is a good example? Why?"
   ]
  },
  {
   "cell_type": "code",
   "execution_count": 3,
   "metadata": {},
   "outputs": [
    {
     "name": "stdout",
     "output_type": "stream",
     "text": [
      "37.77777774\n"
     ]
    }
   ],
   "source": [
    "f_to_c_offset = 32.0\n",
    "f_to_c_factor = 0.555555555\n",
    "temp_c = 0.0\n",
    "\n",
    "def fahrenheit_to_celsius_bad(temp_f):\n",
    "    global temp_c\n",
    "    temp_c = (temp_f - f_to_c_offset) * f_to_c_factor\n",
    "    \n",
    "fahrenheit_to_celsius_bad(temp_f=100.0)\n",
    "print(temp_c)"
   ]
  },
  {
   "cell_type": "markdown",
   "metadata": {},
   "source": [
    "How could it be rewritten?"
   ]
  },
  {
   "cell_type": "code",
   "execution_count": 4,
   "metadata": {},
   "outputs": [
    {
     "name": "stdout",
     "output_type": "stream",
     "text": [
      "37.77777777777778\n"
     ]
    }
   ],
   "source": [
    "# Solution\n",
    "\n",
    "def fahrenheit_to_celsius(temp_f):\n",
    "    temp_c = (temp_f - 32.0) * (5.0/9.0)\n",
    "    return temp_c\n",
    "temp_c = fahrenheit_to_celsius(temp_f=100.0)\n",
    "print(temp_c)"
   ]
  },
  {
   "cell_type": "markdown",
   "metadata": {},
   "source": [
    "The function is now *pure*:\n",
    "- it doesn't modify a global variable (stateless)\n",
    "- it just takes the input and returns the output"
   ]
  },
  {
   "cell_type": "markdown",
   "metadata": {},
   "source": [
    "**Example 2** (taken from [The Good Research Code Handbook](https://goodresearch.dev/decoupled))\n",
    "\n",
    "We want to write a piece of code that does three things:\n",
    "- Loads a file\n",
    "- Counts the words in the files\n",
    "- Writes the counted words to an output file\n",
    "\n",
    "One straightforward way to code this is in a single function:"
   ]
  },
  {
   "cell_type": "code",
   "execution_count": null,
   "metadata": {},
   "outputs": [],
   "source": [
    "def count_words_in_file(in_file, out_file):\n",
    "    counts = {}\n",
    "    with open(in_file, 'r') as f:\n",
    "        for l in f:\n",
    "            # Split words on spaces.\n",
    "            W = l.lower().split(' ')\n",
    "            for w in W:\n",
    "                if w != '':\n",
    "                    if w in counts:\n",
    "                        counts[w] += 1\n",
    "                    else:\n",
    "                        counts[w] = 0\n",
    "\n",
    "    with open(out_file, 'w') as f:\n",
    "        for k in counts.keys():\n",
    "            f.write( k + \",\"+ str(counts[k]) + \"\\n\")"
   ]
  },
  {
   "cell_type": "markdown",
   "metadata": {},
   "source": [
    "Is this a good way? Can you spot problems?"
   ]
  },
  {
   "cell_type": "markdown",
   "metadata": {},
   "source": [
    "<details>\n",
    "  <summary>Spoiler</summary>\n",
    "  \n",
    "  - Using one-character variable names.\n",
    "  - Using lots of nested for and if statements (6 levels of indent)\n",
    "  - Using custom string formatting\n",
    "  - Mixing IO and computation\n",
    "  \n",
    "</details>"
   ]
  },
  {
   "cell_type": "markdown",
   "metadata": {},
   "source": [
    "How could we improve the code?"
   ]
  },
  {
   "cell_type": "code",
   "execution_count": null,
   "metadata": {},
   "outputs": [],
   "source": [
    "# Improvement 1\n",
    "\n",
    "# We can start by separating the function itself from the I/O operations\n",
    "\n",
    "def count_words(text):\n",
    "    # Split words on spaces.\n",
    "    counts = {}\n",
    "    W = text.lower().split(' ')\n",
    "    for w in W:\n",
    "        if w != '':\n",
    "            if w in counts:\n",
    "                counts[w] += 1\n",
    "            else:\n",
    "                counts[w] = 0\n",
    "\n",
    "    return counts\n",
    "\n",
    "def count_words_in_file(in_file, out_file):\n",
    "    with open(in_file, 'r') as f:\n",
    "        counts = count_words(f.read())\n",
    "\n",
    "    with open(out_file, 'w') as f:\n",
    "        for k in counts.keys():\n",
    "            f.write( k + \",\"+ str(counts[k]) + \"\\n\")"
   ]
  },
  {
   "cell_type": "markdown",
   "metadata": {},
   "source": [
    "<details>\n",
    "  <summary>Spoiler</summary>\n",
    "  \n",
    "  Now *count_words* is a pure function and it does not have the \"side effect\" of reading from and writing to a file.\n",
    "  \n",
    "</details>"
   ]
  },
  {
   "cell_type": "code",
   "execution_count": 5,
   "metadata": {},
   "outputs": [],
   "source": [
    "# Improvement 2\n",
    "\n",
    "# We can then assign more meaningful names, better formatting the file name\n",
    "# and properly comment the code\n",
    "\n",
    "def count_words(text):\n",
    "    \"\"\"Split words on spaces.\"\"\"\n",
    "    counts = {}\n",
    "    words = text.lower().split(' ')\n",
    "    for word in words:\n",
    "        if word != '':\n",
    "            if word in counts:\n",
    "                counts[word] += 1\n",
    "            else:\n",
    "                counts[word] = 0\n",
    "\n",
    "    return counts\n",
    "\n",
    "def count_words_in_file(in_file, out_file):\n",
    "    with open(in_file, 'r') as f:\n",
    "        counts = count_words(f.read())\n",
    "\n",
    "    with open(out_file, 'w') as f:\n",
    "        for word, count in counts.items():\n",
    "            f.write(f\"{word},{count}\\n\")"
   ]
  },
  {
   "cell_type": "markdown",
   "metadata": {},
   "source": [
    "There is actually another problem with this function, which is that it does not return the right output and doesn not properly take newlines into account:"
   ]
  },
  {
   "cell_type": "code",
   "execution_count": 6,
   "metadata": {},
   "outputs": [
    {
     "name": "stdout",
     "output_type": "stream",
     "text": [
      "{'hello': 0, 'world': 0}\n",
      "{'hello': 0, 'world\\n\\nhello': 0}\n"
     ]
    }
   ],
   "source": [
    "print(count_words(\"hello world\"))\n",
    "print(count_words(\"hello world\\n\\nhello\"))"
   ]
  },
  {
   "cell_type": "markdown",
   "metadata": {},
   "source": [
    "Resolving these problems will also (partially) resolve the indentation problems, which are caused by:\n",
    "- checking whether there are already entries with the word as key in *counts*\n",
    "- checking if there are empty words caused by multiple spaces close together\n",
    "\n",
    "We can solve the first of these by using a *defaultdict*. This is an object that behaves like normal dictionaries, except in the case where there are no keys already; in this case, a defaultdict can take a \"default\" behavior and not throw errors."
   ]
  },
  {
   "cell_type": "code",
   "execution_count": 7,
   "metadata": {},
   "outputs": [
    {
     "ename": "KeyError",
     "evalue": "'a'",
     "output_type": "error",
     "traceback": [
      "\u001b[0;31m---------------------------------------------------------------------------\u001b[0m",
      "\u001b[0;31mKeyError\u001b[0m                                  Traceback (most recent call last)",
      "Cell \u001b[0;32mIn[7], line 3\u001b[0m\n\u001b[1;32m      1\u001b[0m \u001b[38;5;66;03m# A normal dictionary would throw an error here\u001b[39;00m\n\u001b[1;32m      2\u001b[0m normal_dict \u001b[38;5;241m=\u001b[39m {}\n\u001b[0;32m----> 3\u001b[0m normal_dict[\u001b[38;5;124m\"\u001b[39m\u001b[38;5;124ma\u001b[39m\u001b[38;5;124m\"\u001b[39m] \u001b[38;5;241m+\u001b[39m\u001b[38;5;241m=\u001b[39m \u001b[38;5;241m1\u001b[39m\n\u001b[1;32m      4\u001b[0m normal_dict\n",
      "\u001b[0;31mKeyError\u001b[0m: 'a'"
     ]
    }
   ],
   "source": [
    "# A normal dictionary would throw an error here\n",
    "normal_dict = {}\n",
    "normal_dict[\"a\"] += 1\n",
    "normal_dict"
   ]
  },
  {
   "cell_type": "code",
   "execution_count": 2,
   "metadata": {},
   "outputs": [
    {
     "data": {
      "text/plain": [
       "defaultdict(int, {'a': 1})"
      ]
     },
     "execution_count": 2,
     "metadata": {},
     "output_type": "execute_result"
    }
   ],
   "source": [
    "import collections\n",
    "\n",
    "# But a defaultdict does not\n",
    "default_dict = collections.defaultdict(int)  # equivalent to collections.defaultdict(lambda: 0)\n",
    "default_dict[\"a\"] += 1\n",
    "default_dict"
   ]
  },
  {
   "cell_type": "markdown",
   "metadata": {},
   "source": [
    "For our problem:"
   ]
  },
  {
   "cell_type": "code",
   "execution_count": 3,
   "metadata": {},
   "outputs": [
    {
     "name": "stdout",
     "output_type": "stream",
     "text": [
      "defaultdict(<class 'int'>, {'hello': 1, 'world': 1})\n"
     ]
    }
   ],
   "source": [
    "def count_words(text):\n",
    "    \"\"\"Split words on spaces.\"\"\"\n",
    "    counts = collections.defaultdict(int)\n",
    "    words = text.lower().split(' ')\n",
    "    for word in words:\n",
    "        if word != '':\n",
    "            counts[word] += 1\n",
    "\n",
    "    return counts\n",
    "\n",
    "print(count_words(\"hello world\"))"
   ]
  },
  {
   "cell_type": "markdown",
   "metadata": {},
   "source": [
    "The remaining problems of newlines and nesting could be solved at once by using regular expressions, in this case *\\s+*, which searches for any number of spaces, newlines, tabs, etc.\n",
    "\n",
    "Our final code might look like this:"
   ]
  },
  {
   "cell_type": "code",
   "execution_count": 11,
   "metadata": {},
   "outputs": [
    {
     "name": "stdout",
     "output_type": "stream",
     "text": [
      "defaultdict(<class 'int'>, {'hello': 2, 'world': 1})\n"
     ]
    }
   ],
   "source": [
    "import collections\n",
    "import re\n",
    "\n",
    "def count_words(text):\n",
    "    \"\"\"Split words on spaces.\"\"\"\n",
    "    counts = collections.defaultdict(int)\n",
    "    words = re.sub(r\"\\s+\", \" \", text.lower()).split(' ')\n",
    "    for word in words:\n",
    "        counts[word] += 1\n",
    "    return counts\n",
    "\n",
    "def count_words_in_file(in_file, out_file):\n",
    "    with open(in_file, 'r') as f:\n",
    "        counts = count_words(f.read())\n",
    "\n",
    "    with open(out_file, 'w') as f:\n",
    "        for word, count in counts.items():\n",
    "            f.write(f\"{word},{count}\\n\")\n",
    "\n",
    "print(count_words(\"hello world\\n\\nhello\"))"
   ]
  },
  {
   "cell_type": "markdown",
   "metadata": {},
   "source": [
    "It's a nice improvement in readability!"
   ]
  },
  {
   "cell_type": "markdown",
   "metadata": {},
   "source": [
    "If you're interested in another great example there's a [repository](https://github.com/fbaptiste/python-blog/tree/main/Idiomatic_Python/14_decomposition) implementing different levels of refractoring, with an accompanying [Youtube video](https://www.youtube.com/watch?v=AtcWP8LZoLo)"
   ]
  },
  {
   "cell_type": "markdown",
   "metadata": {},
   "source": [
    "### Coding style & linters"
   ]
  },
  {
   "cell_type": "markdown",
   "metadata": {},
   "source": [
    "Some examples of good / bad code"
   ]
  },
  {
   "cell_type": "code",
   "execution_count": null,
   "metadata": {},
   "outputs": [],
   "source": [
    "def make_complex(*args):\n",
    "    x, y = args\n",
    "    return dict(**locals())"
   ]
  },
  {
   "cell_type": "code",
   "execution_count": null,
   "metadata": {},
   "outputs": [],
   "source": [
    "# Good code\n",
    "\n",
    "# Unnecessary level of complication\n",
    "# Here we name args explicitly\n",
    "def make_complex(x, y):\n",
    "    return {'x': x, 'y': y}"
   ]
  },
  {
   "cell_type": "code",
   "execution_count": null,
   "metadata": {},
   "outputs": [],
   "source": [
    "valedictorian = max([(student.gpa, student.name) for student in graduates])"
   ]
  },
  {
   "cell_type": "code",
   "execution_count": null,
   "metadata": {},
   "outputs": [],
   "source": [
    "# Good code\n",
    "\n",
    "# the previous code needlessly allocates a list of all (gpa, name) entires in memory\n",
    "valedictorian = max((student.gpa, student.name) for student in graduates)"
   ]
  },
  {
   "cell_type": "code",
   "execution_count": null,
   "metadata": {},
   "outputs": [],
   "source": [
    "[print(x) for x in sequence]"
   ]
  },
  {
   "cell_type": "code",
   "execution_count": null,
   "metadata": {},
   "outputs": [],
   "source": [
    "# Good code\n",
    "\n",
    "# Don't use a list comprehension just for its side effects.\n",
    "for x in sequence:\n",
    "    print(x)"
   ]
  },
  {
   "cell_type": "code",
   "execution_count": 14,
   "metadata": {},
   "outputs": [],
   "source": [
    "# Filter elements greater than 4\n",
    "a = [3, 4, 5]\n",
    "for i in a:\n",
    "    if i > 3:\n",
    "        a.remove(i)"
   ]
  },
  {
   "cell_type": "code",
   "execution_count": 18,
   "metadata": {},
   "outputs": [],
   "source": [
    "# Good code\n",
    "\n",
    "# Don't remove items from a list while you are iterating through it.\n",
    "# Use list comprehensions create a new list object\n",
    "filtered_values = [value for value in a if value <= 3]"
   ]
  },
  {
   "cell_type": "markdown",
   "metadata": {},
   "source": [
    "We can (partially) automatize the process of searching for errors, warning and bad style with linters, e.g. *pylint* or *pyflakes*. In IDEs like VSCode you can choose it in the marketplace extension and see the suggestions on the bottom left."
   ]
  },
  {
   "cell_type": "markdown",
   "metadata": {},
   "source": [
    "### Good to have: Formatters"
   ]
  },
  {
   "cell_type": "markdown",
   "metadata": {},
   "source": [
    "Formatters help you to automatically implent the linter's suggestions. A popular one is black: https://github.com/psf/black. You can install it with *pip install black* or directly form VSCode extensions and it will usually format the code upon file saving."
   ]
  }
 ],
 "metadata": {
  "kernelspec": {
   "display_name": "dash",
   "language": "python",
   "name": "python3"
  },
  "language_info": {
   "codemirror_mode": {
    "name": "ipython",
    "version": 3
   },
   "file_extension": ".py",
   "mimetype": "text/x-python",
   "name": "python",
   "nbconvert_exporter": "python",
   "pygments_lexer": "ipython3",
   "version": "3.12.1"
  }
 },
 "nbformat": 4,
 "nbformat_minor": 2
}
