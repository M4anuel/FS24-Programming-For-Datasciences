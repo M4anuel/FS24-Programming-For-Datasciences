{
 "cells": [
  {
   "cell_type": "markdown",
   "metadata": {},
   "source": [
    "<h2><center>Week 11 - Exercises class</center></h2>\n",
    "<h3><center>Programming for Data Science 2024</center></h3>"
   ]
  },
  {
   "cell_type": "markdown",
   "metadata": {},
   "source": [
    "Throughtout the notebook, the following resources are used:\n",
    "- Fluent Python, 2nd Edition, by Luciano Ramalho\n",
    "- [The Good Research Code Handbook](https://goodresearch.dev/), by Patrick Mineault\n",
    "- [Research Software Engineering with Python](https://alan-turing-institute.github.io/rse-course/html/index.html), by Turing Research Engineering Group"
   ]
  },
  {
   "cell_type": "markdown",
   "metadata": {},
   "source": [
    "### Decorators"
   ]
  },
  {
   "cell_type": "markdown",
   "metadata": {},
   "source": [
    "As you've seen today, a part of *Defensive programming* is about modularizing programs. This includes practices of decomposition and abstraction, that we've seen last week.\n",
    "\n",
    "One particular way of abstracting in Python are the so-called **decorators**. A decorator is a function or a class that wraps (or decorates) another function or method, taking it as an input. A decorator may perform some processing with the decorated function, and returns it or replaces it with another function or callable object."
   ]
  },
  {
   "cell_type": "code",
   "execution_count": null,
   "metadata": {},
   "outputs": [],
   "source": [
    "def target():\n",
    "    print('running target()')\n",
    "\n",
    "target = decorate(target)\n",
    "\n",
    "# This is an equivalent syntax\n",
    "@decorate\n",
    "def target():\n",
    "    print('running target()')"
   ]
  },
  {
   "cell_type": "markdown",
   "metadata": {},
   "source": [
    "Now the target name is bound to whatever function is returned by *decorate(target)*, and this may be the initial function, or may be a different one. Usually it's the latter, whereby decorators change decorated functions, by defining a nested function and returning it instead of the original one. Here's an example of a decorator:"
   ]
  },
  {
   "cell_type": "code",
   "execution_count": null,
   "metadata": {},
   "outputs": [],
   "source": [
    "def deco_name(func):  # the original function is passed as argument\n",
    "\n",
    "    def inner(*args, **kwargs):  # a nested function is defined, and (keyword arguments) are passed to it\n",
    "        result = func(*args, **kwargs)  # the original function is executed and the result stored\n",
    "        print(f\"Function {func.__name__} was executed.\")\n",
    "        return result  # results are returned by the inner function\n",
    "    \n",
    "    return inner  # the inner function is returned from the decorator"
   ]
  },
  {
   "cell_type": "markdown",
   "metadata": {},
   "source": [
    "What does this decorator do?"
   ]
  },
  {
   "cell_type": "code",
   "execution_count": null,
   "metadata": {},
   "outputs": [],
   "source": [
    "# Let's see\n",
    "\n",
    "@deco_name\n",
    "def sum_fun(a, b):\n",
    "    return a + b\n",
    "\n",
    "sum_fun(1, 2)"
   ]
  },
  {
   "cell_type": "markdown",
   "metadata": {},
   "source": [
    "As seen, decorators often make use of inner functions, i.e. nested within other functions. The behavior of inner functions often depends on their **closure**. A closure is actually a function *f* with an extended scope that encompasses variables referenced in the body of *f* that are not global variables or local variables of f. Such variables must come from the local scope of an outer function that encompasses *f*. As in the example below for a function *averager* where the *series* variable is *nonlocal* and defined inside *make_averager*: "
   ]
  },
  {
   "cell_type": "markdown",
   "metadata": {},
   "source": [
    "<style>\n",
    "\n",
    "figcaption {\n",
    "  text-align: center;\n",
    "  margin-top: 10px\n",
    "}\n",
    "\n",
    ".center {\n",
    "  display: block;\n",
    "  margin-left: auto;\n",
    "  margin-right: auto;\n",
    "  width: 50%;\n",
    "}\n",
    "</style>\n",
    "\n",
    "\n",
    "\n",
    "<figure class=\"image\">\n",
    "  <img src=\"images/closure.png\" style=\"width:50%\" class=\"center\">\n",
    "  <figcaption >Example of the closure of the inner function averager. Image taken from Fluent Python, by Luciano Ramalho</figcaption>\n",
    "</figure>"
   ]
  },
  {
   "cell_type": "markdown",
   "metadata": {},
   "source": [
    "An excellent use of decorators is with *memoization* (or caching). The standard example here is that of the Fibonacci series. This series is defined in terms of previous terms recursively, such that $$F(n) = F(n-1)+F(n-2)\\\\ F(0)\\equiv 0 \\\\ F(1)\\equiv 1 \\\\ F=0,1,1,2,3,5,8,13,...$$\n",
    "\n",
    "We can define it recursively also programmatically:"
   ]
  },
  {
   "cell_type": "code",
   "execution_count": null,
   "metadata": {},
   "outputs": [],
   "source": [
    "# Fibonacci function\n",
    "\n",
    "def fib(n: int) -> int:\n",
    "    \"\"\"Calculates the n-th term of the Fibonacci sequence\"\"\"\n",
    "    if n < 2:\n",
    "        return n\n",
    "    return fib(n - 1) + fib(n - 2)"
   ]
  },
  {
   "cell_type": "markdown",
   "metadata": {},
   "source": [
    "This is usually very slow to execute! Let's do a decorator to clock the running time of a function:"
   ]
  },
  {
   "cell_type": "code",
   "execution_count": null,
   "metadata": {},
   "outputs": [],
   "source": [
    "# clock decorator\n",
    "\n",
    "import time\n",
    "import functools\n",
    "\n",
    "def clock(func):\n",
    "    @functools.wraps(func)  # this brings the __name__ and __doc__ attributes to the decorated function\n",
    "    def inner(*args, **kwargs):\n",
    "        start = time.time()\n",
    "        result = func(*args, **kwargs)\n",
    "        elapsed = time.time() - start\n",
    "        name = func.__name__\n",
    "        arg_lst = [repr(arg) for arg in args]\n",
    "        arg_lst.extend(f'{k}={v!r}' for k, v in kwargs.items())\n",
    "        arg_str = ', '.join(arg_lst)\n",
    "        print(f'[elapsed: {elapsed:0.8f}s] {name}({arg_str}) -> {repr(result)}')\n",
    "        return result\n",
    "    return inner"
   ]
  },
  {
   "cell_type": "code",
   "execution_count": null,
   "metadata": {},
   "outputs": [],
   "source": [
    "# Fibonacci function (decorated)\n",
    "\n",
    "@clock\n",
    "def fib(n: int) -> int:\n",
    "    if n < 2:\n",
    "        return n\n",
    "    return fib(n - 1) + fib(n - 2)"
   ]
  },
  {
   "cell_type": "markdown",
   "metadata": {},
   "source": [
    "What do you expect the following output to be?"
   ]
  },
  {
   "cell_type": "code",
   "execution_count": null,
   "metadata": {},
   "outputs": [],
   "source": [
    "fib(6)"
   ]
  },
  {
   "cell_type": "markdown",
   "metadata": {},
   "source": [
    "Is the output what you expected? What is happening?"
   ]
  },
  {
   "cell_type": "markdown",
   "metadata": {},
   "source": [
    "<details>\n",
    "  <summary>Spoiler</summary>\n",
    "  \n",
    "  The function is recursive, so a single call actually internally calls the function around 2^n times! \n",
    "  \n",
    "</details>"
   ]
  },
  {
   "cell_type": "markdown",
   "metadata": {},
   "source": [
    "We can also see that as the numbers grow, the total required time increases exponentially. 12 seconds in this case!!"
   ]
  },
  {
   "cell_type": "code",
   "execution_count": null,
   "metadata": {},
   "outputs": [],
   "source": [
    "fib(30)"
   ]
  },
  {
   "cell_type": "markdown",
   "metadata": {},
   "source": [
    "The recursion called fib(1) 832,040 times, with a total of 2,692,537 calls!\n",
    "\n",
    "A well known solution here is to *cache* previuos calls to the function, such that results are readily available. This can be easily achievable with a *functools* wrapper:"
   ]
  },
  {
   "cell_type": "code",
   "execution_count": null,
   "metadata": {},
   "outputs": [],
   "source": [
    "# Cached fibonacci\n",
    "\n",
    "@functools.cache\n",
    "@clock\n",
    "def fib(n: int) -> int:\n",
    "    if n < 2:\n",
    "        return n\n",
    "    return fib(n - 1) + fib(n - 2)"
   ]
  },
  {
   "cell_type": "code",
   "execution_count": null,
   "metadata": {},
   "outputs": [],
   "source": [
    "fib(30)"
   ]
  },
  {
   "cell_type": "markdown",
   "metadata": {},
   "source": [
    "Now we just have 31 calls!!"
   ]
  },
  {
   "cell_type": "markdown",
   "metadata": {},
   "source": [
    "Finally, we might want to parametrize our decorators. This is achievable by thinking that decorators are just wrappers that return a modified version of our original function. So what we want to achieve is something like this:\n",
    "```python\n",
    "func = deco(param)(func)\n",
    "```\n",
    "\n",
    "We can see an example of how to parametrize our *clock* decorator."
   ]
  },
  {
   "cell_type": "code",
   "execution_count": null,
   "metadata": {},
   "outputs": [],
   "source": [
    "# Parametrized clock decorator\n",
    "\n",
    "def clock(fmt='[elapsed: {elapsed:0.8f}s] {name}({arg_str}) -> {result}'):   # we have an additional layer here where the parametrization happens\n",
    "    def decorate(func):\n",
    "        @functools.wraps(func)\n",
    "        def inner(*args, **kwargs):\n",
    "            start = time.time()\n",
    "            _result = func(*args, **kwargs)\n",
    "            elapsed = time.time() - start\n",
    "            name = func.__name__\n",
    "            arg_lst = [repr(arg) for arg in args]\n",
    "            arg_lst.extend(f'{k}={v!r}' for k, v in kwargs.items())\n",
    "            arg_str = ', '.join(arg_lst)\n",
    "            result = repr(_result)\n",
    "            print(fmt.format(**locals()))\n",
    "            return _result\n",
    "        return inner\n",
    "    return decorate"
   ]
  },
  {
   "cell_type": "markdown",
   "metadata": {},
   "source": [
    "With standard format:"
   ]
  },
  {
   "cell_type": "code",
   "execution_count": null,
   "metadata": {},
   "outputs": [],
   "source": [
    "@clock()\n",
    "def snooze(sec):\n",
    "    time.sleep(sec)\n",
    "\n",
    "for _ in range(3):\n",
    "    snooze(0.1)"
   ]
  },
  {
   "cell_type": "markdown",
   "metadata": {},
   "source": [
    "With a different format:"
   ]
  },
  {
   "cell_type": "code",
   "execution_count": null,
   "metadata": {},
   "outputs": [],
   "source": [
    "@clock(fmt=\"Function: {name}; Elapsed: {elapsed:0.3f}s\")\n",
    "def snooze(sec):\n",
    "    time.sleep(sec)\n",
    "\n",
    "for _ in range(3):\n",
    "    snooze(0.1)"
   ]
  },
  {
   "cell_type": "markdown",
   "metadata": {},
   "source": [
    "And so on. This is very powerful when you have possibly many parametrizations to test or to greatly enhance the functionality of an existing decorator.\n",
    "\n",
    "A final note. You see from the above function that the definition is quite cumbersome. A better approach may be to define the decorator using a class. Here's an example with the usual *clock* decorator:"
   ]
  },
  {
   "cell_type": "code",
   "execution_count": null,
   "metadata": {},
   "outputs": [],
   "source": [
    "class Clock:  \n",
    "\n",
    "    def __init__(self, fmt='[elapsed: {elapsed:0.8f}s] {name}({arg_str}) -> {result}'):  # the argument is defined in the initialization\n",
    "        self.fmt = fmt\n",
    "\n",
    "    def __call__(self, func):  \n",
    "        def inner(*args, **kwargs):\n",
    "            start = time.time()\n",
    "            _result = func(*args, **kwargs)\n",
    "            elapsed = time.time() - start\n",
    "            name = func.__name__\n",
    "            arg_lst = [repr(arg) for arg in args]\n",
    "            arg_lst.extend(f'{k}={v!r}' for k, v in kwargs.items())\n",
    "            arg_str = ', '.join(arg_lst)\n",
    "            result = repr(_result)\n",
    "            print(self.fmt.format(**locals()))\n",
    "            return _result\n",
    "        return inner"
   ]
  },
  {
   "cell_type": "markdown",
   "metadata": {},
   "source": [
    "We see that the same result is achieved, with somewhat less clutter:"
   ]
  },
  {
   "cell_type": "code",
   "execution_count": null,
   "metadata": {},
   "outputs": [],
   "source": [
    "@Clock(fmt=\"Function: {name}; Elapsed: {elapsed:0.3f}s\")\n",
    "def snooze(sec):\n",
    "    time.sleep(sec)\n",
    "\n",
    "for _ in range(3):\n",
    "    snooze(0.1)"
   ]
  },
  {
   "cell_type": "markdown",
   "metadata": {},
   "source": [
    "### Testing"
   ]
  },
  {
   "cell_type": "markdown",
   "metadata": {},
   "source": [
    "As you've seen in class, testing is a fundamental component of project development. There is even an approach - Test-Driven Development (TDD) - that gives testing a primary importance by always writing and commiting tests before the related production code. Apart from this \"extreme\" approach, it's generally a good idea to:\n",
    "- Write your tests simultaneously with your production code\n",
    "- Allow your tests to affect the design of your production code\n",
    "- Ensure that your tests cover (i) the core function of the software and (ii) any input sanity checking\n",
    "\n",
    "Automated testing is one of the most powerful techniques to make code robust. Testing allows to maintain a level of certainty when things work, and immediately know when they don't, e.g. after a  refactoring. Of course, there are also cases where testing alone doesn't suffice:\n",
    "- Testing won’t correct a buggy code\n",
    "- Testing will tell you were the bugs are if - and only if - the test cases cover the scenarios that cause the bugs or occur."
   ]
  },
  {
   "cell_type": "markdown",
   "metadata": {},
   "source": [
    "Let's revit our example of the Fibonacci function in this context."
   ]
  },
  {
   "cell_type": "markdown",
   "metadata": {},
   "source": [
    "We typically want to test for:\n",
    "- \"Normal\" cases, i.e. the inputs that shouldn't create problems\n",
    "- \"Boundary\" cases, i.e. cases that are on the edge of the calculation, or when there are indices\n",
    "- Empty arrays\n",
    "- explicit failures do indeed happen and exceptions are raised"
   ]
  },
  {
   "cell_type": "markdown",
   "metadata": {},
   "source": [
    "A simple approach is to test with assertions:"
   ]
  },
  {
   "cell_type": "code",
   "execution_count": 2,
   "metadata": {},
   "outputs": [
    {
     "ename": "AssertionError",
     "evalue": "",
     "output_type": "error",
     "traceback": [
      "\u001b[0;31m---------------------------------------------------------------------------\u001b[0m",
      "\u001b[0;31mAssertionError\u001b[0m                            Traceback (most recent call last)",
      "Cell \u001b[0;32mIn[2], line 3\u001b[0m\n\u001b[1;32m      1\u001b[0m \u001b[38;5;28;01mfrom\u001b[39;00m \u001b[38;5;21;01mfib\u001b[39;00m \u001b[38;5;28;01mimport\u001b[39;00m fib\n\u001b[0;32m----> 3\u001b[0m \u001b[38;5;28;01massert\u001b[39;00m fib(\u001b[38;5;241m0\u001b[39m) \u001b[38;5;241m==\u001b[39m \u001b[38;5;241m0\u001b[39m\n\u001b[1;32m      4\u001b[0m \u001b[38;5;28;01massert\u001b[39;00m fib(\u001b[38;5;241m1\u001b[39m) \u001b[38;5;241m==\u001b[39m \u001b[38;5;241m1\u001b[39m\n\u001b[1;32m      5\u001b[0m \u001b[38;5;28;01massert\u001b[39;00m fib(\u001b[38;5;241m2\u001b[39m) \u001b[38;5;241m==\u001b[39m \u001b[38;5;241m2\u001b[39m\n",
      "\u001b[0;31mAssertionError\u001b[0m: "
     ]
    }
   ],
   "source": [
    "from fib import fib\n",
    "\n",
    "assert fib(0) == 0\n",
    "assert fib(1) == 1\n",
    "assert fib(2) == 2"
   ]
  },
  {
   "cell_type": "markdown",
   "metadata": {},
   "source": [
    "We see that we have an error on the first assertion and we can modify the function accordingly."
   ]
  },
  {
   "cell_type": "markdown",
   "metadata": {},
   "source": [
    "We can also make the whole procedure more automatic with atesting framework. In class you've seen how to use the *unittest* library, but actually *pytest* is the most popular Python library for testing. It also has a *raises* method to help chacking whether exceptions are raised."
   ]
  },
  {
   "cell_type": "code",
   "execution_count": 6,
   "metadata": {},
   "outputs": [
    {
     "name": "stdout",
     "output_type": "stream",
     "text": [
      "\u001b[1m============================= test session starts ==============================\u001b[0m\n",
      "platform darwin -- Python 3.11.7, pytest-8.2.0, pluggy-1.5.0\n",
      "rootdir: /Users/cusinatr/Documents/Phd_work/AdvPy24/W11\n",
      "plugins: anyio-4.2.0\n",
      "collected 3 items                                                              \u001b[0m\n",
      "\n",
      "test_fib.py \u001b[32m.\u001b[0m\u001b[32m.\u001b[0m\u001b[32m.\u001b[0m\u001b[32m                                                          [100%]\u001b[0m\n",
      "\n",
      "\u001b[32m============================== \u001b[32m\u001b[1m3 passed\u001b[0m\u001b[32m in 0.01s\u001b[0m\u001b[32m ===============================\u001b[0m\n"
     ]
    }
   ],
   "source": [
    "# This runs the terminal\n",
    "!pytest test_fib.py"
   ]
  },
  {
   "cell_type": "markdown",
   "metadata": {},
   "source": [
    "**In-class exercise: Diffusion model in 1D**\n",
    "\n",
    "Taken from [Research Software Engineering with Python](https://alan-turing-institute.github.io/rse-course/html/module05_testing_your_code/05_03_energy_example.html)"
   ]
  },
  {
   "cell_type": "markdown",
   "metadata": {},
   "source": [
    "You want to create a one-dimensional diffusion model. (Could be a gas of particles, or a bunch of crowded people in a corridor, or animals in a valley habitat…)\n",
    "- Agents are on a 1d axis\n",
    "- Agents do not want to be where there are other agents\n",
    "- This is represented as an ‘energy’: the higher the energy, the more unhappy the agents.\n",
    "\n",
    "Implementation:\n",
    "- Given a vector *n* of positive integers, and of arbitrary length\n",
    "- Compute the energy $E(n) = \\sum_{i}n_i(n_i - 1)$\n",
    "\n",
    "Example:"
   ]
  },
  {
   "cell_type": "code",
   "execution_count": 10,
   "metadata": {},
   "outputs": [
    {
     "data": {
      "image/png": "[encoded data removed]",
      "text/plain": [
       "<Figure size 640x480 with 1 Axes>"
      ]
     },
     "metadata": {},
     "output_type": "display_data"
    }
   ],
   "source": [
    "%matplotlib inline\n",
    "import numpy as np\n",
    "import matplotlib.pyplot as plt\n",
    "\n",
    "density = np.array([0, 0, 3, 5, 8, 4, 2, 1])\n",
    "fig, ax = plt.subplots()\n",
    "ax.bar(np.arange(len(density)), density)\n",
    "ax.xrange = [-0.5, len(density) - 0.5]\n",
    "ax.set_ylabel(\"Particle count $n_i$\")\n",
    "ax.set_xlabel(\"Position $i$\")\n",
    "plt.show()"
   ]
  },
  {
   "cell_type": "markdown",
   "metadata": {},
   "source": [
    "Here, the total energy due to position 2 is 3(3 - 1), and due to column 7 is 1(1 - 1). We need to sum these to get the total energy."
   ]
  },
  {
   "cell_type": "markdown",
   "metadata": {},
   "source": [
    "**Task 1**: code the energy function."
   ]
  },
  {
   "cell_type": "code",
   "execution_count": null,
   "metadata": {},
   "outputs": [],
   "source": [
    "def energy(density, coeff=1.0):\n",
    "    \"\"\"Energy associated with the diffusion model\n",
    "\n",
    "    Parameters\n",
    "    ----------\n",
    "\n",
    "    density: array of positive integers\n",
    "        Number of particles at each position i in the array\n",
    "    coeff: float\n",
    "        Diffusion coefficient.\n",
    "    \"\"\"\n",
    "    # implementation goes here"
   ]
  },
  {
   "cell_type": "markdown",
   "metadata": {},
   "source": [
    "**Task 2**: create two scripts, one called *model.py* and another called *test_model.py*. Put the *energy* function just created in the former and the following in the latter, completing the test function:"
   ]
  },
  {
   "cell_type": "code",
   "execution_count": null,
   "metadata": {},
   "outputs": [],
   "source": [
    "from .model import energy\n",
    "\n",
    "\n",
    "def test_energy():\n",
    "    pass\n",
    "    # Test something"
   ]
  },
  {
   "cell_type": "markdown",
   "metadata": {},
   "source": [
    "**NB**: try to iteratively improve the function as you come up with test cases."
   ]
  },
  {
   "cell_type": "code",
   "execution_count": 16,
   "metadata": {},
   "outputs": [
    {
     "name": "stdout",
     "output_type": "stream",
     "text": [
      "\u001b[1m============================= test session starts ==============================\u001b[0m\n",
      "platform darwin -- Python 3.11.7, pytest-8.2.0, pluggy-1.5.0\n",
      "rootdir: /Users/cusinatr/Documents/Phd_work/AdvPy24/W11\n",
      "plugins: anyio-4.2.0\n",
      "collected 6 items                                                              \u001b[0m\n",
      "\n",
      "test_model.py \u001b[32m.\u001b[0m\u001b[32m.\u001b[0m\u001b[32m.\u001b[0m\u001b[32m.\u001b[0m\u001b[32m.\u001b[0m\u001b[32m.\u001b[0m\u001b[32m                                                     [100%]\u001b[0m\n",
      "\n",
      "\u001b[32m============================== \u001b[32m\u001b[1m6 passed\u001b[0m\u001b[32m in 0.09s\u001b[0m\u001b[32m ===============================\u001b[0m\n"
     ]
    }
   ],
   "source": [
    "!pytest test_model.py"
   ]
  },
  {
   "cell_type": "code",
   "execution_count": null,
   "metadata": {},
   "outputs": [],
   "source": []
  }
 ],
 "metadata": {
  "kernelspec": {
   "display_name": "dash",
   "language": "python",
   "name": "python3"
  },
  "language_info": {
   "codemirror_mode": {
    "name": "ipython",
    "version": 3
   },
   "file_extension": ".py",
   "mimetype": "text/x-python",
   "name": "python",
   "nbconvert_exporter": "python",
   "pygments_lexer": "ipython3",
   "version": "3.11.7"
  }
 },
 "nbformat": 4,
 "nbformat_minor": 2
}
