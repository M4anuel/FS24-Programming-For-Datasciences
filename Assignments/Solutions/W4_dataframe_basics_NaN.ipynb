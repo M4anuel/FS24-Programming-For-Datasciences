{
 "cells": [
  {
   "cell_type": "markdown",
   "metadata": {},
   "source": [
    "<h2><center>Week 4 - Assignment - Solutions</center></h2>\n",
    "<h3><center>Programming for Data Science 2024</center></h3>"
   ]
  },
  {
   "cell_type": "markdown",
   "metadata": {},
   "source": [
    "Exercises for the topics covered in the fourth lecture.\n",
    "\n",
    "The exercise will be marked as passed if you get **at least 10/15** points.\n",
    "\n",
    "Exercises must be handed in via **ILIAS** (Homework assignments). Deliver your submission as a compressed file (zip) containing one .py or .ipynb file with all exercises. The name of both the .zip and the .py/.ipynb file **must** be *SurnameName* of the two members of the group. Example: Riccardo Cusinato + Athina Tzovara = *CusinatoRiccardo_TzovaraAthina.zip* .\n",
    "\n",
    "It's important to use comments to explain your code and show that you're able to take ownership of the exercises and discuss them.\n",
    "\n",
    "You are not expected to collaborate outside of the group on exercises and submitting other groups’ code as your own will result in 0 points.\n",
    "\n",
    "For questions contact: *riccardo.cusinato@unibe.ch* with the subject: *Programming for Data Science 2024*.\n",
    "\n",
    "**Deadline: 14:00, March 21, 2024.**"
   ]
  },
  {
   "cell_type": "markdown",
   "metadata": {},
   "source": [
    "<h3 style=\"text-align:left;\">Exercise 1 - Create Dataframes<span style=\"float: right\">5 points</span></h3>"
   ]
  },
  {
   "cell_type": "markdown",
   "metadata": {},
   "source": [
    "Create a DataFrame *episodes_df* with the columns **ses**, **ep**, and **title**, as below:\n",
    "\n",
    "|**ses**|**ep**|**title**|\n",
    "|:---|:---|:---|\n",
    "|1|1|One|\n",
    "|1|2|Two|\n",
    "|2|1|Three|\n",
    "|2|2|Four|\n",
    "\n",
    "Create a DataFrame *imdb_df* with the columns **ses**, **ep**, and **score**, as below:\n",
    "\n",
    "|**ses**|**ep**|**score**|\n",
    "|:---|:---|:---|\n",
    "|1|1|8.4|\n",
    "|1|2|8.1|\n",
    "|2|1|7.9|\n",
    "|2|2|7.7|\n",
    "\n",
    "Merge the two DataFrames. Then, find and print the title of the episode with the higest score.\n",
    "\n",
    "**NB**: To merge the two dataframes you have to use the **merge** method:\n",
    "```python\n",
    "merged_df = episodes_df.merge(imdb_df, on=['ses', 'ep'])\n",
    "```\n",
    "\n",
    "\n",
    "1. By manipulating the dataframes, find and print the title of the episode with the higest score. (*3 points*)"
   ]
  },
  {
   "cell_type": "code",
   "execution_count": 2,
   "metadata": {},
   "outputs": [
    {
     "name": "stdout",
     "output_type": "stream",
     "text": [
      "   ses  ep  title  score\n",
      "0    1   1    One    8.5\n",
      "1    1   2    Two    7.9\n",
      "2    2   1  Three    9.1\n",
      "3    2   2   Four    8.8\n",
      "Title with highest score: Three\n"
     ]
    }
   ],
   "source": [
    "import pandas as pd\n",
    "\n",
    "episodes_df = pd.DataFrame({\n",
    "    'ses': [1, 1, 2, 2],\n",
    "    'ep': [1, 2, 1, 2],\n",
    "    'title': ['One', 'Two', 'Three', 'Four']\n",
    "})\n",
    "\n",
    "imdb_df = pd.DataFrame({\n",
    "    'ses': [1, 1, 2, 2],\n",
    "    'ep': [1, 2, 1, 2],\n",
    "    'score': [8.5, 7.9, 9.1, 8.8]\n",
    "})\n",
    "\n",
    "merged_df = episodes_df.merge(imdb_df, on=['ses', 'ep'])\n",
    "\n",
    "print(merged_df)\n",
    "print(\"Title with highest score:\", merged_df[\"title\"].iloc[merged_df[\"score\"].idxmax()])\n"
   ]
  },
  {
   "cell_type": "markdown",
   "metadata": {},
   "source": [
    "2. Change the **score** of the entry with the title \"Three\" in the DataFrame you created in Task 1. The new score should be 6. (*2 points*)"
   ]
  },
  {
   "cell_type": "code",
   "execution_count": 3,
   "metadata": {},
   "outputs": [
    {
     "data": {
      "text/html": [
       "<div>\n",
       "<style scoped>\n",
       "    .dataframe tbody tr th:only-of-type {\n",
       "        vertical-align: middle;\n",
       "    }\n",
       "\n",
       "    .dataframe tbody tr th {\n",
       "        vertical-align: top;\n",
       "    }\n",
       "\n",
       "    .dataframe thead th {\n",
       "        text-align: right;\n",
       "    }\n",
       "</style>\n",
       "<table border=\"1\" class=\"dataframe\">\n",
       "  <thead>\n",
       "    <tr style=\"text-align: right;\">\n",
       "      <th></th>\n",
       "      <th>ses</th>\n",
       "      <th>ep</th>\n",
       "      <th>title</th>\n",
       "      <th>score</th>\n",
       "    </tr>\n",
       "  </thead>\n",
       "  <tbody>\n",
       "    <tr>\n",
       "      <th>0</th>\n",
       "      <td>1</td>\n",
       "      <td>1</td>\n",
       "      <td>One</td>\n",
       "      <td>8.5</td>\n",
       "    </tr>\n",
       "    <tr>\n",
       "      <th>1</th>\n",
       "      <td>1</td>\n",
       "      <td>2</td>\n",
       "      <td>Two</td>\n",
       "      <td>7.9</td>\n",
       "    </tr>\n",
       "    <tr>\n",
       "      <th>2</th>\n",
       "      <td>2</td>\n",
       "      <td>1</td>\n",
       "      <td>Three</td>\n",
       "      <td>6.0</td>\n",
       "    </tr>\n",
       "    <tr>\n",
       "      <th>3</th>\n",
       "      <td>2</td>\n",
       "      <td>2</td>\n",
       "      <td>Four</td>\n",
       "      <td>8.8</td>\n",
       "    </tr>\n",
       "  </tbody>\n",
       "</table>\n",
       "</div>"
      ],
      "text/plain": [
       "   ses  ep  title  score\n",
       "0    1   1    One    8.5\n",
       "1    1   2    Two    7.9\n",
       "2    2   1  Three    6.0\n",
       "3    2   2   Four    8.8"
      ]
     },
     "execution_count": 3,
     "metadata": {},
     "output_type": "execute_result"
    }
   ],
   "source": [
    "merged_df.loc[merged_df['title'] == 'Three', ['score']] = 6\n",
    "\n",
    "merged_df"
   ]
  },
  {
   "cell_type": "markdown",
   "metadata": {},
   "source": [
    "<h3 style=\"text-align:left;\">Exercise 2 - Load DataFrames<span style=\"float: right\">6 points</span></h3>"
   ]
  },
  {
   "cell_type": "markdown",
   "metadata": {},
   "source": [
    "1. Load the two CSV files 'silicon_valley_episodes.csv' and 'silicon_valley_imdb.csv', found in the \"data\" directory, as DataFrames. Merge the two DataFrames as in the first task, using **season** and **episode_num** as keys to merge on. (*2 points*)\n",
    "```python\n",
    "episodes_df = pd.read_csv('./data/silicon_valley_episodes.csv')\n",
    "imdb_df = pd.read_csv('./data/silicon_valley_imdb.csv')\n",
    "```"
   ]
  },
  {
   "cell_type": "code",
   "execution_count": 17,
   "metadata": {},
   "outputs": [
    {
     "name": "stdout",
     "output_type": "stream",
     "text": [
      "Episodes dataframe:\n",
      "Index(['season', 'episode_num', 'episode_num_overall', 'title', 'directed_by',\n",
      "       'written_by', 'original_air_date', 'us_viewers'],\n",
      "      dtype='object')\n",
      "IMDB dataframe:\n",
      "Index(['season', 'episode_num', 'title', 'original_air_date', 'imdb_rating',\n",
      "       'total_votes', 'desc'],\n",
      "      dtype='object')\n",
      "Common columns to both dataframes: ['episode_num' 'original_air_date' 'season' 'title']\n",
      "Merged dataframe: \n"
     ]
    },
    {
     "data": {
      "text/html": [
       "<div>\n",
       "<style scoped>\n",
       "    .dataframe tbody tr th:only-of-type {\n",
       "        vertical-align: middle;\n",
       "    }\n",
       "\n",
       "    .dataframe tbody tr th {\n",
       "        vertical-align: top;\n",
       "    }\n",
       "\n",
       "    .dataframe thead th {\n",
       "        text-align: right;\n",
       "    }\n",
       "</style>\n",
       "<table border=\"1\" class=\"dataframe\">\n",
       "  <thead>\n",
       "    <tr style=\"text-align: right;\">\n",
       "      <th></th>\n",
       "      <th>season</th>\n",
       "      <th>episode_num</th>\n",
       "      <th>episode_num_overall</th>\n",
       "      <th>title_x</th>\n",
       "      <th>directed_by</th>\n",
       "      <th>written_by</th>\n",
       "      <th>original_air_date_x</th>\n",
       "      <th>us_viewers</th>\n",
       "      <th>title_y</th>\n",
       "      <th>original_air_date_y</th>\n",
       "      <th>imdb_rating</th>\n",
       "      <th>total_votes</th>\n",
       "      <th>desc</th>\n",
       "    </tr>\n",
       "  </thead>\n",
       "  <tbody>\n",
       "    <tr>\n",
       "      <th>0</th>\n",
       "      <td>1</td>\n",
       "      <td>1</td>\n",
       "      <td>1</td>\n",
       "      <td>Minimum Viable Product</td>\n",
       "      <td>Mike Judge</td>\n",
       "      <td>Mike Judge &amp; John Altschuler &amp; Dave Krinsky</td>\n",
       "      <td>06.04.14</td>\n",
       "      <td>1980000</td>\n",
       "      <td>Minimum Viable Product</td>\n",
       "      <td>6 Apr. 2014</td>\n",
       "      <td>7.7</td>\n",
       "      <td>2685</td>\n",
       "      <td>Richard is a computer programmer. He has to ch...</td>\n",
       "    </tr>\n",
       "    <tr>\n",
       "      <th>1</th>\n",
       "      <td>1</td>\n",
       "      <td>2</td>\n",
       "      <td>2</td>\n",
       "      <td>The Cap Table</td>\n",
       "      <td>Mike Judge</td>\n",
       "      <td>Carson Mell</td>\n",
       "      <td>13.04.14</td>\n",
       "      <td>1690000</td>\n",
       "      <td>The Cap Table</td>\n",
       "      <td>13 Apr. 2014</td>\n",
       "      <td>7.8</td>\n",
       "      <td>2163</td>\n",
       "      <td>Richard hires Jared to design a business plan....</td>\n",
       "    </tr>\n",
       "    <tr>\n",
       "      <th>2</th>\n",
       "      <td>1</td>\n",
       "      <td>3</td>\n",
       "      <td>3</td>\n",
       "      <td>Articles of Incorporation</td>\n",
       "      <td>Tricia Brock</td>\n",
       "      <td>Matteo Borghese &amp; Rob Turbovsky</td>\n",
       "      <td>20.04.14</td>\n",
       "      <td>1620000</td>\n",
       "      <td>Articles of Incorporation</td>\n",
       "      <td>20 Apr. 2014</td>\n",
       "      <td>8.0</td>\n",
       "      <td>2083</td>\n",
       "      <td>The guys find themselves in trouble with their...</td>\n",
       "    </tr>\n",
       "    <tr>\n",
       "      <th>3</th>\n",
       "      <td>1</td>\n",
       "      <td>4</td>\n",
       "      <td>4</td>\n",
       "      <td>Fiduciary Duties</td>\n",
       "      <td>Maggie Carey</td>\n",
       "      <td>Ron Weiner</td>\n",
       "      <td>27.04.14</td>\n",
       "      <td>1550000</td>\n",
       "      <td>Fiduciary Duties</td>\n",
       "      <td>27 Apr. 2014</td>\n",
       "      <td>7.7</td>\n",
       "      <td>1931</td>\n",
       "      <td>Richard drunkenly promises to make Erlich a bo...</td>\n",
       "    </tr>\n",
       "    <tr>\n",
       "      <th>4</th>\n",
       "      <td>1</td>\n",
       "      <td>5</td>\n",
       "      <td>5</td>\n",
       "      <td>Signaling Risk</td>\n",
       "      <td>Alec Berg</td>\n",
       "      <td>Jessica Gao</td>\n",
       "      <td>04.05.14</td>\n",
       "      <td>1820000</td>\n",
       "      <td>Signaling Risk</td>\n",
       "      <td>4 May 2014</td>\n",
       "      <td>8.3</td>\n",
       "      <td>1980</td>\n",
       "      <td>Now that Pied Piper is the official company na...</td>\n",
       "    </tr>\n",
       "  </tbody>\n",
       "</table>\n",
       "</div>"
      ],
      "text/plain": [
       "   season  episode_num  episode_num_overall                    title_x  \\\n",
       "0       1            1                    1     Minimum Viable Product   \n",
       "1       1            2                    2              The Cap Table   \n",
       "2       1            3                    3  Articles of Incorporation   \n",
       "3       1            4                    4           Fiduciary Duties   \n",
       "4       1            5                    5             Signaling Risk   \n",
       "\n",
       "    directed_by                                   written_by  \\\n",
       "0    Mike Judge  Mike Judge & John Altschuler & Dave Krinsky   \n",
       "1    Mike Judge                                  Carson Mell   \n",
       "2  Tricia Brock              Matteo Borghese & Rob Turbovsky   \n",
       "3  Maggie Carey                                   Ron Weiner   \n",
       "4     Alec Berg                                  Jessica Gao   \n",
       "\n",
       "  original_air_date_x  us_viewers                    title_y  \\\n",
       "0            06.04.14     1980000     Minimum Viable Product   \n",
       "1            13.04.14     1690000              The Cap Table   \n",
       "2            20.04.14     1620000  Articles of Incorporation   \n",
       "3            27.04.14     1550000           Fiduciary Duties   \n",
       "4            04.05.14     1820000             Signaling Risk   \n",
       "\n",
       "  original_air_date_y  imdb_rating  total_votes  \\\n",
       "0         6 Apr. 2014          7.7         2685   \n",
       "1        13 Apr. 2014          7.8         2163   \n",
       "2        20 Apr. 2014          8.0         2083   \n",
       "3        27 Apr. 2014          7.7         1931   \n",
       "4          4 May 2014          8.3         1980   \n",
       "\n",
       "                                                desc  \n",
       "0  Richard is a computer programmer. He has to ch...  \n",
       "1  Richard hires Jared to design a business plan....  \n",
       "2  The guys find themselves in trouble with their...  \n",
       "3  Richard drunkenly promises to make Erlich a bo...  \n",
       "4  Now that Pied Piper is the official company na...  "
      ]
     },
     "execution_count": 17,
     "metadata": {},
     "output_type": "execute_result"
    }
   ],
   "source": [
    "import pandas as pd\n",
    "import numpy as np\n",
    "\n",
    "episodes_df = pd.read_csv('./data/silicon_valley_episodes.csv')\n",
    "imdb_df = pd.read_csv('./data/silicon_valley_imdb.csv')\n",
    "\n",
    "merged_df = episodes_df.merge(imdb_df, on=['season', 'episode_num'])\n",
    "\n",
    "print(\"Episodes dataframe:\")\n",
    "print(episodes_df.columns)\n",
    "print(\"IMDB dataframe:\")\n",
    "print(imdb_df.columns)\n",
    "print(\"Common columns to both dataframes:\", np.intersect1d(episodes_df.columns, imdb_df.columns))\n",
    "print(\"Merged dataframe: \")\n",
    "merged_df.head()"
   ]
  },
  {
   "cell_type": "markdown",
   "metadata": {},
   "source": [
    "2. Create a new DataFrame, called **df_best**, containing only the episodes with an **imdb_rating** at or above 9. Use the DataFrame created in the previous task as a starting point. (*2 points*)"
   ]
  },
  {
   "cell_type": "code",
   "execution_count": 8,
   "metadata": {},
   "outputs": [
    {
     "data": {
      "text/html": [
       "<div>\n",
       "<style scoped>\n",
       "    .dataframe tbody tr th:only-of-type {\n",
       "        vertical-align: middle;\n",
       "    }\n",
       "\n",
       "    .dataframe tbody tr th {\n",
       "        vertical-align: top;\n",
       "    }\n",
       "\n",
       "    .dataframe thead th {\n",
       "        text-align: right;\n",
       "    }\n",
       "</style>\n",
       "<table border=\"1\" class=\"dataframe\">\n",
       "  <thead>\n",
       "    <tr style=\"text-align: right;\">\n",
       "      <th></th>\n",
       "      <th>season</th>\n",
       "      <th>episode_num</th>\n",
       "      <th>episode_num_overall</th>\n",
       "      <th>title_x</th>\n",
       "      <th>directed_by</th>\n",
       "      <th>written_by</th>\n",
       "      <th>original_air_date_x</th>\n",
       "      <th>us_viewers</th>\n",
       "      <th>title_y</th>\n",
       "      <th>original_air_date_y</th>\n",
       "      <th>imdb_rating</th>\n",
       "      <th>total_votes</th>\n",
       "      <th>desc</th>\n",
       "    </tr>\n",
       "  </thead>\n",
       "  <tbody>\n",
       "    <tr>\n",
       "      <th>7</th>\n",
       "      <td>1</td>\n",
       "      <td>8</td>\n",
       "      <td>8</td>\n",
       "      <td>Optimal Tip-To-Tip Efficiency</td>\n",
       "      <td>Mike Judge</td>\n",
       "      <td>Alec Berg</td>\n",
       "      <td>01.06.14</td>\n",
       "      <td>1740000</td>\n",
       "      <td>Optimal Tip-To-Tip Efficiency</td>\n",
       "      <td>1 Jun. 2014</td>\n",
       "      <td>9.3</td>\n",
       "      <td>3627</td>\n",
       "      <td>Pied Piper makes it to the next stage of Disru...</td>\n",
       "    </tr>\n",
       "    <tr>\n",
       "      <th>17</th>\n",
       "      <td>2</td>\n",
       "      <td>10</td>\n",
       "      <td>18</td>\n",
       "      <td>Two Days of the Condor</td>\n",
       "      <td>Alec Berg</td>\n",
       "      <td>Alec Berg</td>\n",
       "      <td>14.06.15</td>\n",
       "      <td>2110000</td>\n",
       "      <td>Two Days of the Condor</td>\n",
       "      <td>14 Jun. 2015</td>\n",
       "      <td>9.2</td>\n",
       "      <td>2320</td>\n",
       "      <td>The verdict on Pied Piper's fate coincides wit...</td>\n",
       "    </tr>\n",
       "    <tr>\n",
       "      <th>45</th>\n",
       "      <td>5</td>\n",
       "      <td>8</td>\n",
       "      <td>46</td>\n",
       "      <td>Fifty-One Percent</td>\n",
       "      <td>Alec Berg</td>\n",
       "      <td>Alec Berg</td>\n",
       "      <td>13.05.18</td>\n",
       "      <td>707000</td>\n",
       "      <td>Fifty-One Percent</td>\n",
       "      <td>13 May 2018</td>\n",
       "      <td>9.1</td>\n",
       "      <td>2128</td>\n",
       "      <td>PiperNet launches, but an early success makes ...</td>\n",
       "    </tr>\n",
       "  </tbody>\n",
       "</table>\n",
       "</div>"
      ],
      "text/plain": [
       "    season  episode_num  episode_num_overall                        title_x  \\\n",
       "7        1            8                    8  Optimal Tip-To-Tip Efficiency   \n",
       "17       2           10                   18         Two Days of the Condor   \n",
       "45       5            8                   46              Fifty-One Percent   \n",
       "\n",
       "   directed_by written_by original_air_date_x  us_viewers  \\\n",
       "7   Mike Judge  Alec Berg            01.06.14     1740000   \n",
       "17   Alec Berg  Alec Berg            14.06.15     2110000   \n",
       "45   Alec Berg  Alec Berg            13.05.18      707000   \n",
       "\n",
       "                          title_y original_air_date_y  imdb_rating  \\\n",
       "7   Optimal Tip-To-Tip Efficiency         1 Jun. 2014          9.3   \n",
       "17         Two Days of the Condor        14 Jun. 2015          9.2   \n",
       "45              Fifty-One Percent         13 May 2018          9.1   \n",
       "\n",
       "    total_votes                                               desc  \n",
       "7          3627  Pied Piper makes it to the next stage of Disru...  \n",
       "17         2320  The verdict on Pied Piper's fate coincides wit...  \n",
       "45         2128  PiperNet launches, but an early success makes ...  "
      ]
     },
     "execution_count": 8,
     "metadata": {},
     "output_type": "execute_result"
    }
   ],
   "source": [
    "df_best = merged_df[merged_df['imdb_rating'] >= 9]\n",
    "df_best"
   ]
  },
  {
   "cell_type": "markdown",
   "metadata": {},
   "source": [
    "3. Find mean number of **us_viewers** for episodes with an IMDB score greater than or equal to 9, and for episodes with an IMDB score lower than 9, and print the means. (*2 points*)"
   ]
  },
  {
   "cell_type": "code",
   "execution_count": 9,
   "metadata": {},
   "outputs": [
    {
     "name": "stdout",
     "output_type": "stream",
     "text": [
      "1519000.0\n",
      "1234000.0\n"
     ]
    }
   ],
   "source": [
    "# . is equivalent to [\"\"]\n",
    "\n",
    "print(merged_df[merged_df['imdb_rating'] >= 9][\"us_viewers\"].mean())\n",
    "print(merged_df[merged_df['imdb_rating'] < 9].us_viewers.mean())"
   ]
  },
  {
   "cell_type": "markdown",
   "metadata": {},
   "source": [
    "<h3 style=\"text-align:left;\">Exercise 3 - DataFrames Ufuncs<span style=\"float: right\">4 points</span></h3>"
   ]
  },
  {
   "cell_type": "markdown",
   "metadata": {},
   "source": [
    "Create the two dataframe *df1* and *df2* with the following code:"
   ]
  },
  {
   "cell_type": "code",
   "execution_count": 3,
   "metadata": {},
   "outputs": [],
   "source": [
    "import numpy as np\n",
    "import pandas as pd\n",
    "\n",
    "df1 = pd.DataFrame(\n",
    "    np.arange(1, 10).reshape(3, 3),\n",
    "    columns=[\"a\", \"b\", \"c\"],\n",
    "    index=[\"1\", \"2\", \"3\"]\n",
    ")\n",
    "\n",
    "df2 = pd.DataFrame(\n",
    "    np.arange(1, 10).reshape(3, 3) / 2,\n",
    "    columns=[\"a\", \"b\", \"d\"],\n",
    "    index=[\"1\", \"2\", \"4\"]\n",
    ")"
   ]
  },
  {
   "cell_type": "code",
   "execution_count": 4,
   "metadata": {},
   "outputs": [
    {
     "data": {
      "text/html": [
       "<div>\n",
       "<style scoped>\n",
       "    .dataframe tbody tr th:only-of-type {\n",
       "        vertical-align: middle;\n",
       "    }\n",
       "\n",
       "    .dataframe tbody tr th {\n",
       "        vertical-align: top;\n",
       "    }\n",
       "\n",
       "    .dataframe thead th {\n",
       "        text-align: right;\n",
       "    }\n",
       "</style>\n",
       "<table border=\"1\" class=\"dataframe\">\n",
       "  <thead>\n",
       "    <tr style=\"text-align: right;\">\n",
       "      <th></th>\n",
       "      <th>a</th>\n",
       "      <th>b</th>\n",
       "      <th>c</th>\n",
       "    </tr>\n",
       "  </thead>\n",
       "  <tbody>\n",
       "    <tr>\n",
       "      <th>1</th>\n",
       "      <td>1</td>\n",
       "      <td>2</td>\n",
       "      <td>3</td>\n",
       "    </tr>\n",
       "    <tr>\n",
       "      <th>2</th>\n",
       "      <td>4</td>\n",
       "      <td>5</td>\n",
       "      <td>6</td>\n",
       "    </tr>\n",
       "    <tr>\n",
       "      <th>3</th>\n",
       "      <td>7</td>\n",
       "      <td>8</td>\n",
       "      <td>9</td>\n",
       "    </tr>\n",
       "  </tbody>\n",
       "</table>\n",
       "</div>"
      ],
      "text/plain": [
       "   a  b  c\n",
       "1  1  2  3\n",
       "2  4  5  6\n",
       "3  7  8  9"
      ]
     },
     "execution_count": 4,
     "metadata": {},
     "output_type": "execute_result"
    }
   ],
   "source": [
    "df1"
   ]
  },
  {
   "cell_type": "code",
   "execution_count": 5,
   "metadata": {},
   "outputs": [
    {
     "data": {
      "text/html": [
       "<div>\n",
       "<style scoped>\n",
       "    .dataframe tbody tr th:only-of-type {\n",
       "        vertical-align: middle;\n",
       "    }\n",
       "\n",
       "    .dataframe tbody tr th {\n",
       "        vertical-align: top;\n",
       "    }\n",
       "\n",
       "    .dataframe thead th {\n",
       "        text-align: right;\n",
       "    }\n",
       "</style>\n",
       "<table border=\"1\" class=\"dataframe\">\n",
       "  <thead>\n",
       "    <tr style=\"text-align: right;\">\n",
       "      <th></th>\n",
       "      <th>a</th>\n",
       "      <th>b</th>\n",
       "      <th>d</th>\n",
       "    </tr>\n",
       "  </thead>\n",
       "  <tbody>\n",
       "    <tr>\n",
       "      <th>1</th>\n",
       "      <td>0.5</td>\n",
       "      <td>1.0</td>\n",
       "      <td>1.5</td>\n",
       "    </tr>\n",
       "    <tr>\n",
       "      <th>2</th>\n",
       "      <td>2.0</td>\n",
       "      <td>2.5</td>\n",
       "      <td>3.0</td>\n",
       "    </tr>\n",
       "    <tr>\n",
       "      <th>4</th>\n",
       "      <td>3.5</td>\n",
       "      <td>4.0</td>\n",
       "      <td>4.5</td>\n",
       "    </tr>\n",
       "  </tbody>\n",
       "</table>\n",
       "</div>"
      ],
      "text/plain": [
       "     a    b    d\n",
       "1  0.5  1.0  1.5\n",
       "2  2.0  2.5  3.0\n",
       "4  3.5  4.0  4.5"
      ]
     },
     "execution_count": 5,
     "metadata": {},
     "output_type": "execute_result"
    }
   ],
   "source": [
    "df2"
   ]
  },
  {
   "cell_type": "markdown",
   "metadata": {},
   "source": [
    "1. Add the two dataframes together, with the appropriate pandas method, and print the result. (*0.5 points*)"
   ]
  },
  {
   "cell_type": "code",
   "execution_count": 12,
   "metadata": {},
   "outputs": [
    {
     "data": {
      "text/html": [
       "<div>\n",
       "<style scoped>\n",
       "    .dataframe tbody tr th:only-of-type {\n",
       "        vertical-align: middle;\n",
       "    }\n",
       "\n",
       "    .dataframe tbody tr th {\n",
       "        vertical-align: top;\n",
       "    }\n",
       "\n",
       "    .dataframe thead th {\n",
       "        text-align: right;\n",
       "    }\n",
       "</style>\n",
       "<table border=\"1\" class=\"dataframe\">\n",
       "  <thead>\n",
       "    <tr style=\"text-align: right;\">\n",
       "      <th></th>\n",
       "      <th>a</th>\n",
       "      <th>b</th>\n",
       "      <th>c</th>\n",
       "      <th>d</th>\n",
       "    </tr>\n",
       "  </thead>\n",
       "  <tbody>\n",
       "    <tr>\n",
       "      <th>1</th>\n",
       "      <td>1.5</td>\n",
       "      <td>3.0</td>\n",
       "      <td>NaN</td>\n",
       "      <td>NaN</td>\n",
       "    </tr>\n",
       "    <tr>\n",
       "      <th>2</th>\n",
       "      <td>6.0</td>\n",
       "      <td>7.5</td>\n",
       "      <td>NaN</td>\n",
       "      <td>NaN</td>\n",
       "    </tr>\n",
       "    <tr>\n",
       "      <th>3</th>\n",
       "      <td>NaN</td>\n",
       "      <td>NaN</td>\n",
       "      <td>NaN</td>\n",
       "      <td>NaN</td>\n",
       "    </tr>\n",
       "    <tr>\n",
       "      <th>4</th>\n",
       "      <td>NaN</td>\n",
       "      <td>NaN</td>\n",
       "      <td>NaN</td>\n",
       "      <td>NaN</td>\n",
       "    </tr>\n",
       "  </tbody>\n",
       "</table>\n",
       "</div>"
      ],
      "text/plain": [
       "     a    b   c   d\n",
       "1  1.5  3.0 NaN NaN\n",
       "2  6.0  7.5 NaN NaN\n",
       "3  NaN  NaN NaN NaN\n",
       "4  NaN  NaN NaN NaN"
      ]
     },
     "execution_count": 12,
     "metadata": {},
     "output_type": "execute_result"
    }
   ],
   "source": [
    "df1.add(df2)"
   ]
  },
  {
   "cell_type": "code",
   "execution_count": 7,
   "metadata": {},
   "outputs": [
    {
     "data": {
      "text/html": [
       "<div>\n",
       "<style scoped>\n",
       "    .dataframe tbody tr th:only-of-type {\n",
       "        vertical-align: middle;\n",
       "    }\n",
       "\n",
       "    .dataframe tbody tr th {\n",
       "        vertical-align: top;\n",
       "    }\n",
       "\n",
       "    .dataframe thead th {\n",
       "        text-align: right;\n",
       "    }\n",
       "</style>\n",
       "<table border=\"1\" class=\"dataframe\">\n",
       "  <thead>\n",
       "    <tr style=\"text-align: right;\">\n",
       "      <th></th>\n",
       "      <th>a</th>\n",
       "      <th>b</th>\n",
       "      <th>c</th>\n",
       "      <th>d</th>\n",
       "    </tr>\n",
       "  </thead>\n",
       "  <tbody>\n",
       "    <tr>\n",
       "      <th>1</th>\n",
       "      <td>1.0</td>\n",
       "      <td>2.0</td>\n",
       "      <td>3.0</td>\n",
       "      <td>NaN</td>\n",
       "    </tr>\n",
       "    <tr>\n",
       "      <th>2</th>\n",
       "      <td>4.0</td>\n",
       "      <td>5.0</td>\n",
       "      <td>6.0</td>\n",
       "      <td>NaN</td>\n",
       "    </tr>\n",
       "    <tr>\n",
       "      <th>3</th>\n",
       "      <td>7.0</td>\n",
       "      <td>8.0</td>\n",
       "      <td>9.0</td>\n",
       "      <td>NaN</td>\n",
       "    </tr>\n",
       "    <tr>\n",
       "      <th>1</th>\n",
       "      <td>0.5</td>\n",
       "      <td>1.0</td>\n",
       "      <td>NaN</td>\n",
       "      <td>1.5</td>\n",
       "    </tr>\n",
       "    <tr>\n",
       "      <th>2</th>\n",
       "      <td>2.0</td>\n",
       "      <td>2.5</td>\n",
       "      <td>NaN</td>\n",
       "      <td>3.0</td>\n",
       "    </tr>\n",
       "    <tr>\n",
       "      <th>4</th>\n",
       "      <td>3.5</td>\n",
       "      <td>4.0</td>\n",
       "      <td>NaN</td>\n",
       "      <td>4.5</td>\n",
       "    </tr>\n",
       "  </tbody>\n",
       "</table>\n",
       "</div>"
      ],
      "text/plain": [
       "     a    b    c    d\n",
       "1  1.0  2.0  3.0  NaN\n",
       "2  4.0  5.0  6.0  NaN\n",
       "3  7.0  8.0  9.0  NaN\n",
       "1  0.5  1.0  NaN  1.5\n",
       "2  2.0  2.5  NaN  3.0\n",
       "4  3.5  4.0  NaN  4.5"
      ]
     },
     "execution_count": 7,
     "metadata": {},
     "output_type": "execute_result"
    }
   ],
   "source": [
    "pd.concat([df1, df2])"
   ]
  },
  {
   "cell_type": "markdown",
   "metadata": {},
   "source": [
    "2. Add the underlying numpy objects of the two dataframes, and print the result. (*0.5 points*)"
   ]
  },
  {
   "cell_type": "code",
   "execution_count": 14,
   "metadata": {},
   "outputs": [
    {
     "data": {
      "text/plain": [
       "array([[ 1.5,  3. ,  4.5],\n",
       "       [ 6. ,  7.5,  9. ],\n",
       "       [10.5, 12. , 13.5]])"
      ]
     },
     "execution_count": 14,
     "metadata": {},
     "output_type": "execute_result"
    }
   ],
   "source": [
    "df1.to_numpy() + df2.to_numpy()"
   ]
  },
  {
   "cell_type": "markdown",
   "metadata": {},
   "source": [
    "3. Compare the two results that you obtained and comment if and **why** they are different. (*3 points*)"
   ]
  },
  {
   "cell_type": "code",
   "execution_count": 20,
   "metadata": {},
   "outputs": [
    {
     "name": "stdout",
     "output_type": "stream",
     "text": [
      "{'a', 'd', 'c', 'b'}\n",
      "{'2', '4', '3', '1'}\n"
     ]
    }
   ],
   "source": [
    "# Pandas tries to match the rows / columns of each dataframe. \n",
    "# If they do not exist in one of the dataframe, the corresponding entry is\n",
    "# filled with NaNs\n",
    "\n",
    "print(set(df1.columns.to_list() + df2.columns.to_list()))\n",
    "print(set(df1.index.to_list() + df2.index.to_list()))"
   ]
  },
  {
   "cell_type": "markdown",
   "metadata": {},
   "source": [
    "## Other topics"
   ]
  },
  {
   "cell_type": "markdown",
   "metadata": {},
   "source": [
    "### Broadcasting and vectorized operations:"
   ]
  },
  {
   "cell_type": "markdown",
   "metadata": {},
   "source": [
    "In class, you've seen how vectorized operations can be much faster than for loops. Example:"
   ]
  },
  {
   "cell_type": "code",
   "execution_count": 9,
   "metadata": {},
   "outputs": [
    {
     "name": "stdout",
     "output_type": "stream",
     "text": [
      "160 ms ± 7.41 ms per loop (mean ± std. dev. of 7 runs, 10 loops each)\n"
     ]
    }
   ],
   "source": [
    "big_array = np.zeros(int(1e7))\n",
    "big_array[1978822] = 1\n",
    "\n",
    "def _find_element(arr):\n",
    "    for elem in arr: \n",
    "        if elem != 0:\n",
    "            break\n",
    "\n",
    "%timeit _find_element(big_array)"
   ]
  },
  {
   "cell_type": "code",
   "execution_count": 10,
   "metadata": {},
   "outputs": [
    {
     "name": "stdout",
     "output_type": "stream",
     "text": [
      "10.1 ms ± 118 µs per loop (mean ± std. dev. of 7 runs, 100 loops each)\n"
     ]
    }
   ],
   "source": [
    "%timeit np.any(big_array)"
   ]
  },
  {
   "cell_type": "markdown",
   "metadata": {},
   "source": [
    "Another example. How would you vectorized the following operation of first differences?"
   ]
  },
  {
   "cell_type": "code",
   "execution_count": 11,
   "metadata": {},
   "outputs": [
    {
     "name": "stdout",
     "output_type": "stream",
     "text": [
      "[ 0  5 10 15 20 25]\n",
      "[5. 5. 5. 5. 5.]\n"
     ]
    }
   ],
   "source": [
    "a = np.arange(0, 26, 5)\n",
    "print(a)\n",
    "diff = np.zeros(a.size - 1)\n",
    "for i in range(len(a) - 1):\n",
    "    diff[i] = a[i + 1] - a[i]\n",
    "print(diff)"
   ]
  },
  {
   "cell_type": "code",
   "execution_count": 13,
   "metadata": {},
   "outputs": [
    {
     "name": "stdout",
     "output_type": "stream",
     "text": [
      "[5 5 5 5 5]\n"
     ]
    }
   ],
   "source": [
    "# Solution\n",
    "diff = a[1:] - a[:-1]\n",
    "print(diff)"
   ]
  },
  {
   "cell_type": "markdown",
   "metadata": {},
   "source": [
    "This is usually very helpful when you want to optimize operations. Here is an example:\n",
    "\n",
    "Suppose you have an array of times, *starts*, indicating the starting time of a time block, with a certain duration, *d*. You then have the starting and ending time of other events, *starts_eve*, *ends_eve*. How could you check if the events overlap with at least one of the time blocks and get the corresponding indexes?"
   ]
  },
  {
   "cell_type": "code",
   "execution_count": 16,
   "metadata": {},
   "outputs": [],
   "source": [
    "# Decrease the sizes for speedup\n",
    "\n",
    "d = 1\n",
    "starts = np.concatenate((np.arange(1500, 10000, d), np.arange(20000, 30000, d)))\n",
    "starts_eve = np.random.rand(5000) * 30000  # 0-1 -> 0-30000\n",
    "starts_eve = np.sort(starts_eve)\n",
    "ends_eve = starts_eve + 0.2 * np.maximum(0, np.random.randn(5000)) + 0.1"
   ]
  },
  {
   "cell_type": "markdown",
   "metadata": {},
   "source": [
    "How would you do it?"
   ]
  },
  {
   "cell_type": "code",
   "execution_count": 23,
   "metadata": {},
   "outputs": [
    {
     "name": "stdout",
     "output_type": "stream",
     "text": [
      "26 s ± 177 ms per loop (mean ± std. dev. of 7 runs, 1 loop each)\n"
     ]
    }
   ],
   "source": [
    "# Solution 1\n",
    "\n",
    "def search_events_1(starts, starts_eve, ends_eve):\n",
    "    events_list = []\n",
    "    for i, (start_eve, end_eve) in enumerate(zip(starts_eve, ends_eve)):\n",
    "        for j, start in enumerate(starts):\n",
    "            if (start_eve >= start) & (end_eve <= start + d):\n",
    "                events_list.append((i, j))\n",
    "    return events_list\n",
    "\n",
    "%timeit search_events_1(starts, starts_eve, ends_eve)"
   ]
  },
  {
   "cell_type": "markdown",
   "metadata": {},
   "source": [
    "However, this method really depends still on the size of the events array! Let's check with a bigger one."
   ]
  },
  {
   "cell_type": "code",
   "execution_count": 24,
   "metadata": {},
   "outputs": [
    {
     "name": "stdout",
     "output_type": "stream",
     "text": [
      "167 ms ± 5.38 ms per loop (mean ± std. dev. of 7 runs, 1 loop each)\n"
     ]
    }
   ],
   "source": [
    "# Solution 2 - eliminate 1 loop\n",
    "\n",
    "def search_events_2(starts, starts_eve, ends_eve):\n",
    "    events_list = []\n",
    "    for i, (start_eve, end_eve) in enumerate(zip(starts_eve, ends_eve)):\n",
    "        j = np.where((start_eve >= starts) & (end_eve <= starts + d))[0]\n",
    "        if j.size > 0:\n",
    "            events_list.append((i, j[0]))\n",
    "    return events_list\n",
    "\n",
    "%timeit search_events_2(starts, starts_eve, ends_eve)"
   ]
  },
  {
   "cell_type": "code",
   "execution_count": 18,
   "metadata": {},
   "outputs": [
    {
     "name": "stdout",
     "output_type": "stream",
     "text": [
      "158 ms ± 683 µs per loop (mean ± std. dev. of 7 runs, 1 loop each)\n"
     ]
    }
   ],
   "source": [
    "# Solution 3 - Broadcasting\n",
    "\n",
    "def search_events_3(starts, starts_eve, ends_eve):\n",
    "\n",
    "    # Reshape\n",
    "    starts_ = starts.reshape(-1, 1)  # column vector\n",
    "    starts_eve_ = starts_eve.reshape(1, -1) # row vector\n",
    "    ends_eve_ = ends_eve.reshape(1, -1) # row vector\n",
    "    \n",
    "    mask_overlap = (starts_eve_ >= starts_) & (ends_eve_ <= starts_ + d)\n",
    "    \n",
    "    return mask_overlap\n",
    "\n",
    "%timeit search_events_3(starts, starts_eve, ends_eve)"
   ]
  },
  {
   "cell_type": "code",
   "execution_count": 19,
   "metadata": {},
   "outputs": [],
   "source": [
    "\n",
    "mask_overlap = search_events_3(starts, starts_eve, ends_eve)"
   ]
  },
  {
   "cell_type": "code",
   "execution_count": 22,
   "metadata": {},
   "outputs": [
    {
     "data": {
      "text/plain": [
       "(array([    1,    10,    22, ..., 18475, 18480, 18491]),\n",
       " array([ 252,  254,  256, ..., 4997, 4998, 4999]))"
      ]
     },
     "execution_count": 22,
     "metadata": {},
     "output_type": "execute_result"
    }
   ],
   "source": [
    "np.where(mask_overlap)"
   ]
  },
  {
   "cell_type": "markdown",
   "metadata": {},
   "source": [
    "The structure of the output here is a bit different!"
   ]
  },
  {
   "cell_type": "markdown",
   "metadata": {},
   "source": [
    "### NaNs"
   ]
  },
  {
   "cell_type": "markdown",
   "metadata": {},
   "source": [
    "When you dataframe contains missing values, you can decide what to do. Pandas has nan-safe functions that (mostly) ignore them. You can also drop them from the dataframe."
   ]
  },
  {
   "cell_type": "code",
   "execution_count": 28,
   "metadata": {},
   "outputs": [
    {
     "data": {
      "text/html": [
       "<div>\n",
       "<style scoped>\n",
       "    .dataframe tbody tr th:only-of-type {\n",
       "        vertical-align: middle;\n",
       "    }\n",
       "\n",
       "    .dataframe tbody tr th {\n",
       "        vertical-align: top;\n",
       "    }\n",
       "\n",
       "    .dataframe thead th {\n",
       "        text-align: right;\n",
       "    }\n",
       "</style>\n",
       "<table border=\"1\" class=\"dataframe\">\n",
       "  <thead>\n",
       "    <tr style=\"text-align: right;\">\n",
       "      <th></th>\n",
       "      <th>A</th>\n",
       "      <th>B</th>\n",
       "      <th>C</th>\n",
       "      <th>D</th>\n",
       "    </tr>\n",
       "  </thead>\n",
       "  <tbody>\n",
       "    <tr>\n",
       "      <th>2024-03-08</th>\n",
       "      <td>-2.175381</td>\n",
       "      <td>-1.005776</td>\n",
       "      <td>-1.247887</td>\n",
       "      <td>-0.693174</td>\n",
       "    </tr>\n",
       "    <tr>\n",
       "      <th>2024-03-09</th>\n",
       "      <td>-0.156496</td>\n",
       "      <td>-0.626008</td>\n",
       "      <td>NaN</td>\n",
       "      <td>-0.496904</td>\n",
       "    </tr>\n",
       "    <tr>\n",
       "      <th>2024-03-10</th>\n",
       "      <td>-1.743680</td>\n",
       "      <td>NaN</td>\n",
       "      <td>NaN</td>\n",
       "      <td>-0.274815</td>\n",
       "    </tr>\n",
       "    <tr>\n",
       "      <th>2024-03-11</th>\n",
       "      <td>-0.143888</td>\n",
       "      <td>NaN</td>\n",
       "      <td>NaN</td>\n",
       "      <td>-0.260447</td>\n",
       "    </tr>\n",
       "    <tr>\n",
       "      <th>2024-03-12</th>\n",
       "      <td>NaN</td>\n",
       "      <td>NaN</td>\n",
       "      <td>NaN</td>\n",
       "      <td>NaN</td>\n",
       "    </tr>\n",
       "    <tr>\n",
       "      <th>2024-03-13</th>\n",
       "      <td>-0.565312</td>\n",
       "      <td>NaN</td>\n",
       "      <td>-0.083058</td>\n",
       "      <td>NaN</td>\n",
       "    </tr>\n",
       "  </tbody>\n",
       "</table>\n",
       "</div>"
      ],
      "text/plain": [
       "                   A         B         C         D\n",
       "2024-03-08 -2.175381 -1.005776 -1.247887 -0.693174\n",
       "2024-03-09 -0.156496 -0.626008       NaN -0.496904\n",
       "2024-03-10 -1.743680       NaN       NaN -0.274815\n",
       "2024-03-11 -0.143888       NaN       NaN -0.260447\n",
       "2024-03-12       NaN       NaN       NaN       NaN\n",
       "2024-03-13 -0.565312       NaN -0.083058       NaN"
      ]
     },
     "execution_count": 28,
     "metadata": {},
     "output_type": "execute_result"
    }
   ],
   "source": [
    "dates = pd.date_range(\"20240308\", periods=6)\n",
    "df2 = pd.DataFrame(np.random.randn(6, 4), index=dates, columns=list(\"ABCD\"))\n",
    "df2 = df2[df2 < 0]\n",
    "df2"
   ]
  },
  {
   "cell_type": "markdown",
   "metadata": {},
   "source": [
    "Boolean mask:"
   ]
  },
  {
   "cell_type": "code",
   "execution_count": 29,
   "metadata": {},
   "outputs": [
    {
     "data": {
      "text/html": [
       "<div>\n",
       "<style scoped>\n",
       "    .dataframe tbody tr th:only-of-type {\n",
       "        vertical-align: middle;\n",
       "    }\n",
       "\n",
       "    .dataframe tbody tr th {\n",
       "        vertical-align: top;\n",
       "    }\n",
       "\n",
       "    .dataframe thead th {\n",
       "        text-align: right;\n",
       "    }\n",
       "</style>\n",
       "<table border=\"1\" class=\"dataframe\">\n",
       "  <thead>\n",
       "    <tr style=\"text-align: right;\">\n",
       "      <th></th>\n",
       "      <th>A</th>\n",
       "      <th>B</th>\n",
       "      <th>C</th>\n",
       "      <th>D</th>\n",
       "    </tr>\n",
       "  </thead>\n",
       "  <tbody>\n",
       "    <tr>\n",
       "      <th>2024-03-08</th>\n",
       "      <td>False</td>\n",
       "      <td>False</td>\n",
       "      <td>False</td>\n",
       "      <td>False</td>\n",
       "    </tr>\n",
       "    <tr>\n",
       "      <th>2024-03-09</th>\n",
       "      <td>False</td>\n",
       "      <td>False</td>\n",
       "      <td>True</td>\n",
       "      <td>False</td>\n",
       "    </tr>\n",
       "    <tr>\n",
       "      <th>2024-03-10</th>\n",
       "      <td>False</td>\n",
       "      <td>True</td>\n",
       "      <td>True</td>\n",
       "      <td>False</td>\n",
       "    </tr>\n",
       "    <tr>\n",
       "      <th>2024-03-11</th>\n",
       "      <td>False</td>\n",
       "      <td>True</td>\n",
       "      <td>True</td>\n",
       "      <td>False</td>\n",
       "    </tr>\n",
       "    <tr>\n",
       "      <th>2024-03-12</th>\n",
       "      <td>True</td>\n",
       "      <td>True</td>\n",
       "      <td>True</td>\n",
       "      <td>True</td>\n",
       "    </tr>\n",
       "    <tr>\n",
       "      <th>2024-03-13</th>\n",
       "      <td>False</td>\n",
       "      <td>True</td>\n",
       "      <td>False</td>\n",
       "      <td>True</td>\n",
       "    </tr>\n",
       "  </tbody>\n",
       "</table>\n",
       "</div>"
      ],
      "text/plain": [
       "                A      B      C      D\n",
       "2024-03-08  False  False  False  False\n",
       "2024-03-09  False  False   True  False\n",
       "2024-03-10  False   True   True  False\n",
       "2024-03-11  False   True   True  False\n",
       "2024-03-12   True   True   True   True\n",
       "2024-03-13  False   True  False   True"
      ]
     },
     "execution_count": 29,
     "metadata": {},
     "output_type": "execute_result"
    }
   ],
   "source": [
    "pd.isna(df2)"
   ]
  },
  {
   "cell_type": "markdown",
   "metadata": {},
   "source": [
    "Drop nans:"
   ]
  },
  {
   "cell_type": "code",
   "execution_count": 30,
   "metadata": {},
   "outputs": [
    {
     "data": {
      "text/html": [
       "<div>\n",
       "<style scoped>\n",
       "    .dataframe tbody tr th:only-of-type {\n",
       "        vertical-align: middle;\n",
       "    }\n",
       "\n",
       "    .dataframe tbody tr th {\n",
       "        vertical-align: top;\n",
       "    }\n",
       "\n",
       "    .dataframe thead th {\n",
       "        text-align: right;\n",
       "    }\n",
       "</style>\n",
       "<table border=\"1\" class=\"dataframe\">\n",
       "  <thead>\n",
       "    <tr style=\"text-align: right;\">\n",
       "      <th></th>\n",
       "      <th>A</th>\n",
       "      <th>B</th>\n",
       "      <th>C</th>\n",
       "      <th>D</th>\n",
       "    </tr>\n",
       "  </thead>\n",
       "  <tbody>\n",
       "    <tr>\n",
       "      <th>2024-03-08</th>\n",
       "      <td>-2.175381</td>\n",
       "      <td>-1.005776</td>\n",
       "      <td>-1.247887</td>\n",
       "      <td>-0.693174</td>\n",
       "    </tr>\n",
       "  </tbody>\n",
       "</table>\n",
       "</div>"
      ],
      "text/plain": [
       "                   A         B         C         D\n",
       "2024-03-08 -2.175381 -1.005776 -1.247887 -0.693174"
      ]
     },
     "execution_count": 30,
     "metadata": {},
     "output_type": "execute_result"
    }
   ],
   "source": [
    "df2.dropna(how=\"any\")"
   ]
  },
  {
   "cell_type": "code",
   "execution_count": 31,
   "metadata": {},
   "outputs": [
    {
     "data": {
      "text/html": [
       "<div>\n",
       "<style scoped>\n",
       "    .dataframe tbody tr th:only-of-type {\n",
       "        vertical-align: middle;\n",
       "    }\n",
       "\n",
       "    .dataframe tbody tr th {\n",
       "        vertical-align: top;\n",
       "    }\n",
       "\n",
       "    .dataframe thead th {\n",
       "        text-align: right;\n",
       "    }\n",
       "</style>\n",
       "<table border=\"1\" class=\"dataframe\">\n",
       "  <thead>\n",
       "    <tr style=\"text-align: right;\">\n",
       "      <th></th>\n",
       "      <th>A</th>\n",
       "      <th>B</th>\n",
       "      <th>C</th>\n",
       "      <th>D</th>\n",
       "    </tr>\n",
       "  </thead>\n",
       "  <tbody>\n",
       "    <tr>\n",
       "      <th>2024-03-08</th>\n",
       "      <td>-2.175381</td>\n",
       "      <td>-1.005776</td>\n",
       "      <td>-1.247887</td>\n",
       "      <td>-0.693174</td>\n",
       "    </tr>\n",
       "    <tr>\n",
       "      <th>2024-03-09</th>\n",
       "      <td>-0.156496</td>\n",
       "      <td>-0.626008</td>\n",
       "      <td>NaN</td>\n",
       "      <td>-0.496904</td>\n",
       "    </tr>\n",
       "    <tr>\n",
       "      <th>2024-03-10</th>\n",
       "      <td>-1.743680</td>\n",
       "      <td>NaN</td>\n",
       "      <td>NaN</td>\n",
       "      <td>-0.274815</td>\n",
       "    </tr>\n",
       "    <tr>\n",
       "      <th>2024-03-11</th>\n",
       "      <td>-0.143888</td>\n",
       "      <td>NaN</td>\n",
       "      <td>NaN</td>\n",
       "      <td>-0.260447</td>\n",
       "    </tr>\n",
       "    <tr>\n",
       "      <th>2024-03-13</th>\n",
       "      <td>-0.565312</td>\n",
       "      <td>NaN</td>\n",
       "      <td>-0.083058</td>\n",
       "      <td>NaN</td>\n",
       "    </tr>\n",
       "  </tbody>\n",
       "</table>\n",
       "</div>"
      ],
      "text/plain": [
       "                   A         B         C         D\n",
       "2024-03-08 -2.175381 -1.005776 -1.247887 -0.693174\n",
       "2024-03-09 -0.156496 -0.626008       NaN -0.496904\n",
       "2024-03-10 -1.743680       NaN       NaN -0.274815\n",
       "2024-03-11 -0.143888       NaN       NaN -0.260447\n",
       "2024-03-13 -0.565312       NaN -0.083058       NaN"
      ]
     },
     "execution_count": 31,
     "metadata": {},
     "output_type": "execute_result"
    }
   ],
   "source": [
    "df2.dropna(how=\"all\")"
   ]
  },
  {
   "cell_type": "markdown",
   "metadata": {},
   "source": [
    "Fill nans with another value:"
   ]
  },
  {
   "cell_type": "code",
   "execution_count": 32,
   "metadata": {},
   "outputs": [
    {
     "data": {
      "text/html": [
       "<div>\n",
       "<style scoped>\n",
       "    .dataframe tbody tr th:only-of-type {\n",
       "        vertical-align: middle;\n",
       "    }\n",
       "\n",
       "    .dataframe tbody tr th {\n",
       "        vertical-align: top;\n",
       "    }\n",
       "\n",
       "    .dataframe thead th {\n",
       "        text-align: right;\n",
       "    }\n",
       "</style>\n",
       "<table border=\"1\" class=\"dataframe\">\n",
       "  <thead>\n",
       "    <tr style=\"text-align: right;\">\n",
       "      <th></th>\n",
       "      <th>A</th>\n",
       "      <th>B</th>\n",
       "      <th>C</th>\n",
       "      <th>D</th>\n",
       "    </tr>\n",
       "  </thead>\n",
       "  <tbody>\n",
       "    <tr>\n",
       "      <th>2024-03-08</th>\n",
       "      <td>-2.175381</td>\n",
       "      <td>-1.005776</td>\n",
       "      <td>-1.247887</td>\n",
       "      <td>-0.693174</td>\n",
       "    </tr>\n",
       "    <tr>\n",
       "      <th>2024-03-09</th>\n",
       "      <td>-0.156496</td>\n",
       "      <td>-0.626008</td>\n",
       "      <td>3.000000</td>\n",
       "      <td>-0.496904</td>\n",
       "    </tr>\n",
       "    <tr>\n",
       "      <th>2024-03-10</th>\n",
       "      <td>-1.743680</td>\n",
       "      <td>3.000000</td>\n",
       "      <td>3.000000</td>\n",
       "      <td>-0.274815</td>\n",
       "    </tr>\n",
       "    <tr>\n",
       "      <th>2024-03-11</th>\n",
       "      <td>-0.143888</td>\n",
       "      <td>3.000000</td>\n",
       "      <td>3.000000</td>\n",
       "      <td>-0.260447</td>\n",
       "    </tr>\n",
       "    <tr>\n",
       "      <th>2024-03-12</th>\n",
       "      <td>3.000000</td>\n",
       "      <td>3.000000</td>\n",
       "      <td>3.000000</td>\n",
       "      <td>3.000000</td>\n",
       "    </tr>\n",
       "    <tr>\n",
       "      <th>2024-03-13</th>\n",
       "      <td>-0.565312</td>\n",
       "      <td>3.000000</td>\n",
       "      <td>-0.083058</td>\n",
       "      <td>3.000000</td>\n",
       "    </tr>\n",
       "  </tbody>\n",
       "</table>\n",
       "</div>"
      ],
      "text/plain": [
       "                   A         B         C         D\n",
       "2024-03-08 -2.175381 -1.005776 -1.247887 -0.693174\n",
       "2024-03-09 -0.156496 -0.626008  3.000000 -0.496904\n",
       "2024-03-10 -1.743680  3.000000  3.000000 -0.274815\n",
       "2024-03-11 -0.143888  3.000000  3.000000 -0.260447\n",
       "2024-03-12  3.000000  3.000000  3.000000  3.000000\n",
       "2024-03-13 -0.565312  3.000000 -0.083058  3.000000"
      ]
     },
     "execution_count": 32,
     "metadata": {},
     "output_type": "execute_result"
    }
   ],
   "source": [
    "df2.fillna(3)"
   ]
  },
  {
   "cell_type": "markdown",
   "metadata": {},
   "source": [
    "Equivalent to *fillna* is replace:"
   ]
  },
  {
   "cell_type": "code",
   "execution_count": 33,
   "metadata": {},
   "outputs": [
    {
     "data": {
      "text/html": [
       "<div>\n",
       "<style scoped>\n",
       "    .dataframe tbody tr th:only-of-type {\n",
       "        vertical-align: middle;\n",
       "    }\n",
       "\n",
       "    .dataframe tbody tr th {\n",
       "        vertical-align: top;\n",
       "    }\n",
       "\n",
       "    .dataframe thead th {\n",
       "        text-align: right;\n",
       "    }\n",
       "</style>\n",
       "<table border=\"1\" class=\"dataframe\">\n",
       "  <thead>\n",
       "    <tr style=\"text-align: right;\">\n",
       "      <th></th>\n",
       "      <th>A</th>\n",
       "      <th>B</th>\n",
       "      <th>C</th>\n",
       "      <th>D</th>\n",
       "    </tr>\n",
       "  </thead>\n",
       "  <tbody>\n",
       "    <tr>\n",
       "      <th>2024-03-08</th>\n",
       "      <td>-2.175381</td>\n",
       "      <td>-1.005776</td>\n",
       "      <td>-1.247887</td>\n",
       "      <td>-0.693174</td>\n",
       "    </tr>\n",
       "    <tr>\n",
       "      <th>2024-03-09</th>\n",
       "      <td>-0.156496</td>\n",
       "      <td>-0.626008</td>\n",
       "      <td>3.000000</td>\n",
       "      <td>-0.496904</td>\n",
       "    </tr>\n",
       "    <tr>\n",
       "      <th>2024-03-10</th>\n",
       "      <td>-1.743680</td>\n",
       "      <td>3.000000</td>\n",
       "      <td>3.000000</td>\n",
       "      <td>-0.274815</td>\n",
       "    </tr>\n",
       "    <tr>\n",
       "      <th>2024-03-11</th>\n",
       "      <td>-0.143888</td>\n",
       "      <td>3.000000</td>\n",
       "      <td>3.000000</td>\n",
       "      <td>-0.260447</td>\n",
       "    </tr>\n",
       "    <tr>\n",
       "      <th>2024-03-12</th>\n",
       "      <td>3.000000</td>\n",
       "      <td>3.000000</td>\n",
       "      <td>3.000000</td>\n",
       "      <td>3.000000</td>\n",
       "    </tr>\n",
       "    <tr>\n",
       "      <th>2024-03-13</th>\n",
       "      <td>-0.565312</td>\n",
       "      <td>3.000000</td>\n",
       "      <td>-0.083058</td>\n",
       "      <td>3.000000</td>\n",
       "    </tr>\n",
       "  </tbody>\n",
       "</table>\n",
       "</div>"
      ],
      "text/plain": [
       "                   A         B         C         D\n",
       "2024-03-08 -2.175381 -1.005776 -1.247887 -0.693174\n",
       "2024-03-09 -0.156496 -0.626008  3.000000 -0.496904\n",
       "2024-03-10 -1.743680  3.000000  3.000000 -0.274815\n",
       "2024-03-11 -0.143888  3.000000  3.000000 -0.260447\n",
       "2024-03-12  3.000000  3.000000  3.000000  3.000000\n",
       "2024-03-13 -0.565312  3.000000 -0.083058  3.000000"
      ]
     },
     "execution_count": 33,
     "metadata": {},
     "output_type": "execute_result"
    }
   ],
   "source": [
    "df2.replace(np.nan, 3)"
   ]
  },
  {
   "cell_type": "markdown",
   "metadata": {},
   "source": [
    "Another option for replacing could be interpolation, when possible (i.e. with compatible data types)"
   ]
  },
  {
   "cell_type": "code",
   "execution_count": 34,
   "metadata": {},
   "outputs": [
    {
     "data": {
      "text/html": [
       "<div>\n",
       "<style scoped>\n",
       "    .dataframe tbody tr th:only-of-type {\n",
       "        vertical-align: middle;\n",
       "    }\n",
       "\n",
       "    .dataframe tbody tr th {\n",
       "        vertical-align: top;\n",
       "    }\n",
       "\n",
       "    .dataframe thead th {\n",
       "        text-align: right;\n",
       "    }\n",
       "</style>\n",
       "<table border=\"1\" class=\"dataframe\">\n",
       "  <thead>\n",
       "    <tr style=\"text-align: right;\">\n",
       "      <th></th>\n",
       "      <th>A</th>\n",
       "      <th>B</th>\n",
       "      <th>C</th>\n",
       "      <th>D</th>\n",
       "    </tr>\n",
       "  </thead>\n",
       "  <tbody>\n",
       "    <tr>\n",
       "      <th>2024-03-08</th>\n",
       "      <td>-2.175381</td>\n",
       "      <td>-1.005776</td>\n",
       "      <td>-1.247887</td>\n",
       "      <td>-0.693174</td>\n",
       "    </tr>\n",
       "    <tr>\n",
       "      <th>2024-03-09</th>\n",
       "      <td>-0.156496</td>\n",
       "      <td>-0.626008</td>\n",
       "      <td>-1.014921</td>\n",
       "      <td>-0.496904</td>\n",
       "    </tr>\n",
       "    <tr>\n",
       "      <th>2024-03-10</th>\n",
       "      <td>-1.743680</td>\n",
       "      <td>-0.626008</td>\n",
       "      <td>-0.781955</td>\n",
       "      <td>-0.274815</td>\n",
       "    </tr>\n",
       "    <tr>\n",
       "      <th>2024-03-11</th>\n",
       "      <td>-0.143888</td>\n",
       "      <td>-0.626008</td>\n",
       "      <td>-0.548990</td>\n",
       "      <td>-0.260447</td>\n",
       "    </tr>\n",
       "    <tr>\n",
       "      <th>2024-03-12</th>\n",
       "      <td>-0.354600</td>\n",
       "      <td>-0.626008</td>\n",
       "      <td>-0.316024</td>\n",
       "      <td>-0.260447</td>\n",
       "    </tr>\n",
       "    <tr>\n",
       "      <th>2024-03-13</th>\n",
       "      <td>-0.565312</td>\n",
       "      <td>-0.626008</td>\n",
       "      <td>-0.083058</td>\n",
       "      <td>-0.260447</td>\n",
       "    </tr>\n",
       "  </tbody>\n",
       "</table>\n",
       "</div>"
      ],
      "text/plain": [
       "                   A         B         C         D\n",
       "2024-03-08 -2.175381 -1.005776 -1.247887 -0.693174\n",
       "2024-03-09 -0.156496 -0.626008 -1.014921 -0.496904\n",
       "2024-03-10 -1.743680 -0.626008 -0.781955 -0.274815\n",
       "2024-03-11 -0.143888 -0.626008 -0.548990 -0.260447\n",
       "2024-03-12 -0.354600 -0.626008 -0.316024 -0.260447\n",
       "2024-03-13 -0.565312 -0.626008 -0.083058 -0.260447"
      ]
     },
     "execution_count": 34,
     "metadata": {},
     "output_type": "execute_result"
    }
   ],
   "source": [
    "df2.interpolate()"
   ]
  },
  {
   "cell_type": "markdown",
   "metadata": {},
   "source": [
    "In this case it's linear interpolation. We can check it for a specific entry:"
   ]
  },
  {
   "cell_type": "code",
   "execution_count": 35,
   "metadata": {},
   "outputs": [
    {
     "data": {
      "text/plain": [
       "-0.15019186066640144"
      ]
     },
     "execution_count": 35,
     "metadata": {},
     "output_type": "execute_result"
    }
   ],
   "source": [
    "(df2.iloc[1, 0] + df2.iloc[3, 0]) / 2"
   ]
  },
  {
   "cell_type": "code",
   "execution_count": 30,
   "metadata": {},
   "outputs": [
    {
     "name": "stdout",
     "output_type": "stream",
     "text": [
      "\u001b[0;31mSignature:\u001b[0m\n",
      "\u001b[0mpd\u001b[0m\u001b[0;34m.\u001b[0m\u001b[0mDataFrame\u001b[0m\u001b[0;34m.\u001b[0m\u001b[0minterpolate\u001b[0m\u001b[0;34m(\u001b[0m\u001b[0;34m\u001b[0m\n",
      "\u001b[0;34m\u001b[0m    \u001b[0mself\u001b[0m\u001b[0;34m,\u001b[0m\u001b[0;34m\u001b[0m\n",
      "\u001b[0;34m\u001b[0m    \u001b[0mmethod\u001b[0m\u001b[0;34m:\u001b[0m \u001b[0;34m'InterpolateOptions'\u001b[0m \u001b[0;34m=\u001b[0m \u001b[0;34m'linear'\u001b[0m\u001b[0;34m,\u001b[0m\u001b[0;34m\u001b[0m\n",
      "\u001b[0;34m\u001b[0m    \u001b[0;34m*\u001b[0m\u001b[0;34m,\u001b[0m\u001b[0;34m\u001b[0m\n",
      "\u001b[0;34m\u001b[0m    \u001b[0maxis\u001b[0m\u001b[0;34m:\u001b[0m \u001b[0;34m'Axis'\u001b[0m \u001b[0;34m=\u001b[0m \u001b[0;36m0\u001b[0m\u001b[0;34m,\u001b[0m\u001b[0;34m\u001b[0m\n",
      "\u001b[0;34m\u001b[0m    \u001b[0mlimit\u001b[0m\u001b[0;34m:\u001b[0m \u001b[0;34m'int | None'\u001b[0m \u001b[0;34m=\u001b[0m \u001b[0;32mNone\u001b[0m\u001b[0;34m,\u001b[0m\u001b[0;34m\u001b[0m\n",
      "\u001b[0;34m\u001b[0m    \u001b[0minplace\u001b[0m\u001b[0;34m:\u001b[0m \u001b[0;34m'bool_t'\u001b[0m \u001b[0;34m=\u001b[0m \u001b[0;32mFalse\u001b[0m\u001b[0;34m,\u001b[0m\u001b[0;34m\u001b[0m\n",
      "\u001b[0;34m\u001b[0m    \u001b[0mlimit_direction\u001b[0m\u001b[0;34m:\u001b[0m \u001b[0;34m\"Literal['forward', 'backward', 'both'] | None\"\u001b[0m \u001b[0;34m=\u001b[0m \u001b[0;32mNone\u001b[0m\u001b[0;34m,\u001b[0m\u001b[0;34m\u001b[0m\n",
      "\u001b[0;34m\u001b[0m    \u001b[0mlimit_area\u001b[0m\u001b[0;34m:\u001b[0m \u001b[0;34m\"Literal['inside', 'outside'] | None\"\u001b[0m \u001b[0;34m=\u001b[0m \u001b[0;32mNone\u001b[0m\u001b[0;34m,\u001b[0m\u001b[0;34m\u001b[0m\n",
      "\u001b[0;34m\u001b[0m    \u001b[0mdowncast\u001b[0m\u001b[0;34m:\u001b[0m \u001b[0;34m\"Literal['infer'] | None | lib.NoDefault\"\u001b[0m \u001b[0;34m=\u001b[0m \u001b[0;34m<\u001b[0m\u001b[0mno_default\u001b[0m\u001b[0;34m>\u001b[0m\u001b[0;34m,\u001b[0m\u001b[0;34m\u001b[0m\n",
      "\u001b[0;34m\u001b[0m    \u001b[0;34m**\u001b[0m\u001b[0mkwargs\u001b[0m\u001b[0;34m,\u001b[0m\u001b[0;34m\u001b[0m\n",
      "\u001b[0;34m\u001b[0m\u001b[0;34m)\u001b[0m \u001b[0;34m->\u001b[0m \u001b[0;34m'Self | None'\u001b[0m\u001b[0;34m\u001b[0m\u001b[0;34m\u001b[0m\u001b[0m\n",
      "\u001b[0;31mDocstring:\u001b[0m\n",
      "Fill NaN values using an interpolation method.\n",
      "\n",
      "Please note that only ``method='linear'`` is supported for\n",
      "DataFrame/Series with a MultiIndex.\n",
      "\n",
      "Parameters\n",
      "----------\n",
      "method : str, default 'linear'\n",
      "    Interpolation technique to use. One of:\n",
      "\n",
      "    * 'linear': Ignore the index and treat the values as equally\n",
      "      spaced. This is the only method supported on MultiIndexes.\n",
      "    * 'time': Works on daily and higher resolution data to interpolate\n",
      "      given length of interval.\n",
      "    * 'index', 'values': use the actual numerical values of the index.\n",
      "    * 'pad': Fill in NaNs using existing values.\n",
      "    * 'nearest', 'zero', 'slinear', 'quadratic', 'cubic',\n",
      "      'barycentric', 'polynomial': Passed to\n",
      "      `scipy.interpolate.interp1d`, whereas 'spline' is passed to\n",
      "      `scipy.interpolate.UnivariateSpline`. These methods use the numerical\n",
      "      values of the index.  Both 'polynomial' and 'spline' require that\n",
      "      you also specify an `order` (int), e.g.\n",
      "      ``df.interpolate(method='polynomial', order=5)``. Note that,\n",
      "      `slinear` method in Pandas refers to the Scipy first order `spline`\n",
      "      instead of Pandas first order `spline`.\n",
      "    * 'krogh', 'piecewise_polynomial', 'spline', 'pchip', 'akima',\n",
      "      'cubicspline': Wrappers around the SciPy interpolation methods of\n",
      "      similar names. See `Notes`.\n",
      "    * 'from_derivatives': Refers to\n",
      "      `scipy.interpolate.BPoly.from_derivatives`.\n",
      "\n",
      "axis : {{0 or 'index', 1 or 'columns', None}}, default None\n",
      "    Axis to interpolate along. For `Series` this parameter is unused\n",
      "    and defaults to 0.\n",
      "limit : int, optional\n",
      "    Maximum number of consecutive NaNs to fill. Must be greater than\n",
      "    0.\n",
      "inplace : bool, default False\n",
      "    Update the data in place if possible.\n",
      "limit_direction : {{'forward', 'backward', 'both'}}, Optional\n",
      "    Consecutive NaNs will be filled in this direction.\n",
      "\n",
      "    If limit is specified:\n",
      "        * If 'method' is 'pad' or 'ffill', 'limit_direction' must be 'forward'.\n",
      "        * If 'method' is 'backfill' or 'bfill', 'limit_direction' must be\n",
      "          'backwards'.\n",
      "\n",
      "    If 'limit' is not specified:\n",
      "        * If 'method' is 'backfill' or 'bfill', the default is 'backward'\n",
      "        * else the default is 'forward'\n",
      "\n",
      "    raises ValueError if `limit_direction` is 'forward' or 'both' and\n",
      "        method is 'backfill' or 'bfill'.\n",
      "    raises ValueError if `limit_direction` is 'backward' or 'both' and\n",
      "        method is 'pad' or 'ffill'.\n",
      "\n",
      "limit_area : {{`None`, 'inside', 'outside'}}, default None\n",
      "    If limit is specified, consecutive NaNs will be filled with this\n",
      "    restriction.\n",
      "\n",
      "    * ``None``: No fill restriction.\n",
      "    * 'inside': Only fill NaNs surrounded by valid values\n",
      "      (interpolate).\n",
      "    * 'outside': Only fill NaNs outside valid values (extrapolate).\n",
      "\n",
      "downcast : optional, 'infer' or None, defaults to None\n",
      "    Downcast dtypes if possible.\n",
      "\n",
      "    .. deprecated:: 2.1.0\n",
      "\n",
      "``**kwargs`` : optional\n",
      "    Keyword arguments to pass on to the interpolating function.\n",
      "\n",
      "Returns\n",
      "-------\n",
      "Series or DataFrame or None\n",
      "    Returns the same object type as the caller, interpolated at\n",
      "    some or all ``NaN`` values or None if ``inplace=True``.\n",
      "\n",
      "See Also\n",
      "--------\n",
      "fillna : Fill missing values using different methods.\n",
      "scipy.interpolate.Akima1DInterpolator : Piecewise cubic polynomials\n",
      "    (Akima interpolator).\n",
      "scipy.interpolate.BPoly.from_derivatives : Piecewise polynomial in the\n",
      "    Bernstein basis.\n",
      "scipy.interpolate.interp1d : Interpolate a 1-D function.\n",
      "scipy.interpolate.KroghInterpolator : Interpolate polynomial (Krogh\n",
      "    interpolator).\n",
      "scipy.interpolate.PchipInterpolator : PCHIP 1-d monotonic cubic\n",
      "    interpolation.\n",
      "scipy.interpolate.CubicSpline : Cubic spline data interpolator.\n",
      "\n",
      "Notes\n",
      "-----\n",
      "The 'krogh', 'piecewise_polynomial', 'spline', 'pchip' and 'akima'\n",
      "methods are wrappers around the respective SciPy implementations of\n",
      "similar names. These use the actual numerical values of the index.\n",
      "For more information on their behavior, see the\n",
      "`SciPy documentation\n",
      "<https://docs.scipy.org/doc/scipy/reference/interpolate.html#univariate-interpolation>`__.\n",
      "\n",
      "Examples\n",
      "--------\n",
      "Filling in ``NaN`` in a :class:`~pandas.Series` via linear\n",
      "interpolation.\n",
      "\n",
      ">>> s = pd.Series([0, 1, np.nan, 3])\n",
      ">>> s\n",
      "0    0.0\n",
      "1    1.0\n",
      "2    NaN\n",
      "3    3.0\n",
      "dtype: float64\n",
      ">>> s.interpolate()\n",
      "0    0.0\n",
      "1    1.0\n",
      "2    2.0\n",
      "3    3.0\n",
      "dtype: float64\n",
      "\n",
      "Filling in ``NaN`` in a Series via polynomial interpolation or splines:\n",
      "Both 'polynomial' and 'spline' methods require that you also specify\n",
      "an ``order`` (int).\n",
      "\n",
      ">>> s = pd.Series([0, 2, np.nan, 8])\n",
      ">>> s.interpolate(method='polynomial', order=2)\n",
      "0    0.000000\n",
      "1    2.000000\n",
      "2    4.666667\n",
      "3    8.000000\n",
      "dtype: float64\n",
      "\n",
      "Fill the DataFrame forward (that is, going down) along each column\n",
      "using linear interpolation.\n",
      "\n",
      "Note how the last entry in column 'a' is interpolated differently,\n",
      "because there is no entry after it to use for interpolation.\n",
      "Note how the first entry in column 'b' remains ``NaN``, because there\n",
      "is no entry before it to use for interpolation.\n",
      "\n",
      ">>> df = pd.DataFrame([(0.0, np.nan, -1.0, 1.0),\n",
      "...                    (np.nan, 2.0, np.nan, np.nan),\n",
      "...                    (2.0, 3.0, np.nan, 9.0),\n",
      "...                    (np.nan, 4.0, -4.0, 16.0)],\n",
      "...                   columns=list('abcd'))\n",
      ">>> df\n",
      "     a    b    c     d\n",
      "0  0.0  NaN -1.0   1.0\n",
      "1  NaN  2.0  NaN   NaN\n",
      "2  2.0  3.0  NaN   9.0\n",
      "3  NaN  4.0 -4.0  16.0\n",
      ">>> df.interpolate(method='linear', limit_direction='forward', axis=0)\n",
      "     a    b    c     d\n",
      "0  0.0  NaN -1.0   1.0\n",
      "1  1.0  2.0 -2.0   5.0\n",
      "2  2.0  3.0 -3.0   9.0\n",
      "3  2.0  4.0 -4.0  16.0\n",
      "\n",
      "Using polynomial interpolation.\n",
      "\n",
      ">>> df['d'].interpolate(method='polynomial', order=2)\n",
      "0     1.0\n",
      "1     4.0\n",
      "2     9.0\n",
      "3    16.0\n",
      "Name: d, dtype: float64\n",
      "\u001b[0;31mFile:\u001b[0m      /opt/anaconda3/envs/AdPy24/lib/python3.11/site-packages/pandas/core/generic.py\n",
      "\u001b[0;31mType:\u001b[0m      function"
     ]
    }
   ],
   "source": [
    "?pd.DataFrame.interpolate"
   ]
  },
  {
   "cell_type": "code",
   "execution_count": 36,
   "metadata": {},
   "outputs": [
    {
     "data": {
      "text/html": [
       "<div>\n",
       "<style scoped>\n",
       "    .dataframe tbody tr th:only-of-type {\n",
       "        vertical-align: middle;\n",
       "    }\n",
       "\n",
       "    .dataframe tbody tr th {\n",
       "        vertical-align: top;\n",
       "    }\n",
       "\n",
       "    .dataframe thead th {\n",
       "        text-align: right;\n",
       "    }\n",
       "</style>\n",
       "<table border=\"1\" class=\"dataframe\">\n",
       "  <thead>\n",
       "    <tr style=\"text-align: right;\">\n",
       "      <th></th>\n",
       "      <th>A</th>\n",
       "      <th>B</th>\n",
       "      <th>C</th>\n",
       "      <th>D</th>\n",
       "    </tr>\n",
       "  </thead>\n",
       "  <tbody>\n",
       "    <tr>\n",
       "      <th>2024-03-08</th>\n",
       "      <td>-2.175381</td>\n",
       "      <td>-1.005776</td>\n",
       "      <td>-1.247887</td>\n",
       "      <td>-0.693174</td>\n",
       "    </tr>\n",
       "    <tr>\n",
       "      <th>2024-03-09</th>\n",
       "      <td>-0.156496</td>\n",
       "      <td>-0.626008</td>\n",
       "      <td>-1.014921</td>\n",
       "      <td>-0.496904</td>\n",
       "    </tr>\n",
       "    <tr>\n",
       "      <th>2024-03-10</th>\n",
       "      <td>-1.743680</td>\n",
       "      <td>-0.246240</td>\n",
       "      <td>-0.781955</td>\n",
       "      <td>-0.274815</td>\n",
       "    </tr>\n",
       "    <tr>\n",
       "      <th>2024-03-11</th>\n",
       "      <td>-0.143888</td>\n",
       "      <td>0.133528</td>\n",
       "      <td>-0.548990</td>\n",
       "      <td>-0.260447</td>\n",
       "    </tr>\n",
       "    <tr>\n",
       "      <th>2024-03-12</th>\n",
       "      <td>-0.516148</td>\n",
       "      <td>0.513296</td>\n",
       "      <td>-0.316024</td>\n",
       "      <td>-0.051268</td>\n",
       "    </tr>\n",
       "    <tr>\n",
       "      <th>2024-03-13</th>\n",
       "      <td>-0.565312</td>\n",
       "      <td>0.893064</td>\n",
       "      <td>-0.083058</td>\n",
       "      <td>0.100759</td>\n",
       "    </tr>\n",
       "  </tbody>\n",
       "</table>\n",
       "</div>"
      ],
      "text/plain": [
       "                   A         B         C         D\n",
       "2024-03-08 -2.175381 -1.005776 -1.247887 -0.693174\n",
       "2024-03-09 -0.156496 -0.626008 -1.014921 -0.496904\n",
       "2024-03-10 -1.743680 -0.246240 -0.781955 -0.274815\n",
       "2024-03-11 -0.143888  0.133528 -0.548990 -0.260447\n",
       "2024-03-12 -0.516148  0.513296 -0.316024 -0.051268\n",
       "2024-03-13 -0.565312  0.893064 -0.083058  0.100759"
      ]
     },
     "execution_count": 36,
     "metadata": {},
     "output_type": "execute_result"
    }
   ],
   "source": [
    "df2.interpolate(\"spline\", order=1)"
   ]
  },
  {
   "cell_type": "markdown",
   "metadata": {},
   "source": [
    "nan-safe operations:"
   ]
  },
  {
   "cell_type": "code",
   "execution_count": 37,
   "metadata": {},
   "outputs": [
    {
     "name": "stdout",
     "output_type": "stream",
     "text": [
      "\u001b[0;31mSignature:\u001b[0m\n",
      "\u001b[0mpd\u001b[0m\u001b[0;34m.\u001b[0m\u001b[0mDataFrame\u001b[0m\u001b[0;34m.\u001b[0m\u001b[0mmean\u001b[0m\u001b[0;34m(\u001b[0m\u001b[0;34m\u001b[0m\n",
      "\u001b[0;34m\u001b[0m    \u001b[0mself\u001b[0m\u001b[0;34m,\u001b[0m\u001b[0;34m\u001b[0m\n",
      "\u001b[0;34m\u001b[0m    \u001b[0maxis\u001b[0m\u001b[0;34m:\u001b[0m \u001b[0;34m'Axis | None'\u001b[0m \u001b[0;34m=\u001b[0m \u001b[0;36m0\u001b[0m\u001b[0;34m,\u001b[0m\u001b[0;34m\u001b[0m\n",
      "\u001b[0;34m\u001b[0m    \u001b[0mskipna\u001b[0m\u001b[0;34m:\u001b[0m \u001b[0;34m'bool'\u001b[0m \u001b[0;34m=\u001b[0m \u001b[0;32mTrue\u001b[0m\u001b[0;34m,\u001b[0m\u001b[0;34m\u001b[0m\n",
      "\u001b[0;34m\u001b[0m    \u001b[0mnumeric_only\u001b[0m\u001b[0;34m:\u001b[0m \u001b[0;34m'bool'\u001b[0m \u001b[0;34m=\u001b[0m \u001b[0;32mFalse\u001b[0m\u001b[0;34m,\u001b[0m\u001b[0;34m\u001b[0m\n",
      "\u001b[0;34m\u001b[0m    \u001b[0;34m**\u001b[0m\u001b[0mkwargs\u001b[0m\u001b[0;34m,\u001b[0m\u001b[0;34m\u001b[0m\n",
      "\u001b[0;34m\u001b[0m\u001b[0;34m)\u001b[0m\u001b[0;34m\u001b[0m\u001b[0;34m\u001b[0m\u001b[0m\n",
      "\u001b[0;31mDocstring:\u001b[0m\n",
      "Return the mean of the values over the requested axis.\n",
      "\n",
      "Parameters\n",
      "----------\n",
      "axis : {index (0), columns (1)}\n",
      "    Axis for the function to be applied on.\n",
      "    For `Series` this parameter is unused and defaults to 0.\n",
      "\n",
      "    For DataFrames, specifying ``axis=None`` will apply the aggregation\n",
      "    across both axes.\n",
      "\n",
      "    .. versionadded:: 2.0.0\n",
      "\n",
      "skipna : bool, default True\n",
      "    Exclude NA/null values when computing the result.\n",
      "numeric_only : bool, default False\n",
      "    Include only float, int, boolean columns. Not implemented for Series.\n",
      "\n",
      "**kwargs\n",
      "    Additional keyword arguments to be passed to the function.\n",
      "\n",
      "Returns\n",
      "-------\n",
      "Series or scalar\n",
      "\n",
      "            Examples\n",
      "            --------\n",
      "            >>> s = pd.Series([1, 2, 3])\n",
      "            >>> s.mean()\n",
      "            2.0\n",
      "\n",
      "            With a DataFrame\n",
      "\n",
      "            >>> df = pd.DataFrame({'a': [1, 2], 'b': [2, 3]}, index=['tiger', 'zebra'])\n",
      "            >>> df\n",
      "                   a   b\n",
      "            tiger  1   2\n",
      "            zebra  2   3\n",
      "            >>> df.mean()\n",
      "            a   1.5\n",
      "            b   2.5\n",
      "            dtype: float64\n",
      "\n",
      "            Using axis=1\n",
      "\n",
      "            >>> df.mean(axis=1)\n",
      "            tiger   1.5\n",
      "            zebra   2.5\n",
      "            dtype: float64\n",
      "\n",
      "            In this case, `numeric_only` should be set to `True` to avoid\n",
      "            getting an error.\n",
      "\n",
      "            >>> df = pd.DataFrame({'a': [1, 2], 'b': ['T', 'Z']},\n",
      "            ...                   index=['tiger', 'zebra'])\n",
      "            >>> df.mean(numeric_only=True)\n",
      "            a   1.5\n",
      "            dtype: float64\n",
      "\u001b[0;31mFile:\u001b[0m      /opt/anaconda3/envs/AdPy24/lib/python3.11/site-packages/pandas/core/frame.py\n",
      "\u001b[0;31mType:\u001b[0m      function"
     ]
    }
   ],
   "source": [
    "?pd.DataFrame.mean"
   ]
  },
  {
   "cell_type": "code",
   "execution_count": 38,
   "metadata": {},
   "outputs": [
    {
     "data": {
      "text/plain": [
       "A   -0.956951\n",
       "B   -0.815892\n",
       "C   -0.665473\n",
       "D   -0.431335\n",
       "dtype: float64"
      ]
     },
     "execution_count": 38,
     "metadata": {},
     "output_type": "execute_result"
    }
   ],
   "source": [
    "df2.mean(skipna=True)"
   ]
  },
  {
   "cell_type": "code",
   "execution_count": 39,
   "metadata": {},
   "outputs": [
    {
     "data": {
      "text/plain": [
       "A   NaN\n",
       "B   NaN\n",
       "C   NaN\n",
       "D   NaN\n",
       "dtype: float64"
      ]
     },
     "execution_count": 39,
     "metadata": {},
     "output_type": "execute_result"
    }
   ],
   "source": [
    "df2.mean(skipna=False)"
   ]
  },
  {
   "cell_type": "code",
   "execution_count": 41,
   "metadata": {},
   "outputs": [
    {
     "data": {
      "text/plain": [
       "array([-0.95695147, -0.81589173, -0.6654726 , -0.43133496])"
      ]
     },
     "execution_count": 41,
     "metadata": {},
     "output_type": "execute_result"
    }
   ],
   "source": [
    "np.nanmean(df2.to_numpy(), axis=0)"
   ]
  }
 ],
 "metadata": {
  "kernelspec": {
   "display_name": "dash",
   "language": "python",
   "name": "python3"
  },
  "language_info": {
   "codemirror_mode": {
    "name": "ipython",
    "version": 3
   },
   "file_extension": ".py",
   "mimetype": "text/x-python",
   "name": "python",
   "nbconvert_exporter": "python",
   "pygments_lexer": "ipython3",
   "version": "3.12.1"
  }
 },
 "nbformat": 4,
 "nbformat_minor": 2
}
