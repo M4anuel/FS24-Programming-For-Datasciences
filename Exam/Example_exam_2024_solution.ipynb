{
 "cells": [
  {
   "cell_type": "markdown",
   "metadata": {},
   "source": [
    "<h2><center>Programming for Data Science 2024 - Example exam</center></h2>\n",
    "<h3><center>May 23rd, 2024</center></h3>"
   ]
  },
  {
   "cell_type": "markdown",
   "metadata": {},
   "source": [
    "- Time: in the real exam, you'll have 60 minutes.\n",
    "- For this example, you have a maximum of 36 points. Exercises points give you an idea of the exercise weight.\n",
    "- The exam is open book, i.e. yu can consult all lectures material.\n",
    "- You are **not** allowed to access the internet or to use large language models during the exam.\n",
    "- To get full points for a programming task you need to code in Python. If however you encounter problems because you cannot remember a specific command, please explain the logic that you would use to resolve the task, to get partial points.\n",
    "- You will have the possibility to submit your solution in one of two ways:\n",
    "  - as a Jupyter notebook\n",
    "  - as one .py file.\n",
    "\n",
    "The following Python packages are needed:\n",
    "- Matplotlib\n",
    "- Pandas\n",
    "- Numpy"
   ]
  },
  {
   "cell_type": "code",
   "execution_count": 4,
   "metadata": {},
   "outputs": [],
   "source": [
    "# Imports for the exercises\n",
    "import numpy as np\n",
    "import pandas as pd\n",
    "import matplotlib.pyplot as plt"
   ]
  },
  {
   "cell_type": "markdown",
   "metadata": {},
   "source": [
    "<h3 style=\"text-align:left;\">Exercise 1 - General Python<span style=\"float: right\">4 points</span></h3>"
   ]
  },
  {
   "cell_type": "markdown",
   "metadata": {},
   "source": [
    "1. What will be printed when the following code is executed? Explain and comment your answer. (*2 points*)\n",
    "```python \n",
    "countries = [\"Australia\", \"USA\", \"Switzerland\", \"Finland\", \"Spain\"]\n",
    "countries_2 = countries\n",
    "countries_2[1] = \"Germany\"\n",
    "print(countries)\n",
    "```"
   ]
  },
  {
   "cell_type": "markdown",
   "metadata": {},
   "source": [
    "**Solution** Here we have a case of modification in-place, so the original list will also be changed:"
   ]
  },
  {
   "cell_type": "code",
   "execution_count": 1,
   "metadata": {},
   "outputs": [
    {
     "name": "stdout",
     "output_type": "stream",
     "text": [
      "['Australia', 'Germany', 'Switzerland', 'Finland', 'Spain']\n"
     ]
    }
   ],
   "source": [
    "countries = [\"Australia\", \"USA\", \"Switzerland\", \"Finland\", \"Spain\"]\n",
    "countries_2 = countries\n",
    "countries_2[1] = \"Germany\"\n",
    "print(countries)"
   ]
  },
  {
   "cell_type": "code",
   "execution_count": 2,
   "metadata": {},
   "outputs": [
    {
     "name": "stdout",
     "output_type": "stream",
     "text": [
      "ID countries: 4553509824\n",
      "ID countries_2: 4553509824\n"
     ]
    }
   ],
   "source": [
    "# We can also check by printing the IDs and seeing they are the same\n",
    "print(\"ID countries:\", id(countries))\n",
    "print(\"ID countries_2:\", id(countries_2))"
   ]
  },
  {
   "cell_type": "markdown",
   "metadata": {},
   "source": [
    "2. Improve the coding style and readability of the code below, following the PEP8 style guidelines when possible. (*2 points*)\n",
    "```python \n",
    "from os import *\n",
    "\n",
    "class myClass:\n",
    "    def __init__(self, directory):\n",
    "        self.directory = directory\n",
    "\n",
    "    def IsFile(self, filename):\n",
    "        return path.isfile(path.join(self.directory, filename))\n",
    "    \n",
    "myObject = myClass(\"/path/to/directory\")\n",
    "Answer = myObject.IsFile(\"file.txt\")\n",
    "```\n",
    "\n",
    "The code-block defines a class that interacts with the file system. It is initialized with a root directory, and contains a method that checks if a file exists within that directory."
   ]
  },
  {
   "cell_type": "markdown",
   "metadata": {},
   "source": [
    "**Solution**"
   ]
  },
  {
   "cell_type": "code",
   "execution_count": null,
   "metadata": {},
   "outputs": [],
   "source": [
    "import os  # explicitly state package\n",
    "\n",
    "class MyClass:  # class with capital letter\n",
    "    def __init__(self, directory):\n",
    "        self.directory = directory\n",
    "\n",
    "    def is_file(self, filename):  # snake case for methods\n",
    "        return os.path.isfile(os.path.join(self.directory, filename))\n",
    "\n",
    "# Lower case for variables:\n",
    "my_object = MyClass(\"/path/to/directory\")\n",
    "answer = my_object.is_file(\"file.txt\")"
   ]
  },
  {
   "cell_type": "markdown",
   "metadata": {},
   "source": [
    "<h3 style=\"text-align:left;\">Exercise 2 - Numerical data<span style=\"float: right\">8 points</span></h3>"
   ]
  },
  {
   "cell_type": "markdown",
   "metadata": {},
   "source": [
    "1. Find the index of the second largest value of the following array. (*2 points*)\n",
    "\n",
    "```python \n",
    "arr_1 = np.array([6, 7, 2, 12, 9, 8])\n",
    "```"
   ]
  },
  {
   "cell_type": "code",
   "execution_count": 5,
   "metadata": {},
   "outputs": [
    {
     "name": "stdout",
     "output_type": "stream",
     "text": [
      "4\n"
     ]
    }
   ],
   "source": [
    "arr_1 = np.array([6, 7, 2, 12, 9, 8])\n",
    "idx_second_largest = np.argsort(arr_1)[-2]  # sorting is done from lowest to highest\n",
    "print(idx_second_largest)"
   ]
  },
  {
   "cell_type": "markdown",
   "metadata": {},
   "source": [
    "2. Obtain the average of each row of the 2D array arr_2. (*2 points*)\n",
    "\n",
    "```python \n",
    "arr_2 = np.arange(18, 30).reshape(3, 4)\n",
    "```"
   ]
  },
  {
   "cell_type": "code",
   "execution_count": 6,
   "metadata": {},
   "outputs": [
    {
     "name": "stdout",
     "output_type": "stream",
     "text": [
      "[19.5 23.5 27.5]\n"
     ]
    }
   ],
   "source": [
    "arr_2 = np.arange(18, 30).reshape(3, 4)\n",
    "arr_2_avg = arr_2.mean(axis=1)\n",
    "print(arr_2_avg)"
   ]
  },
  {
   "cell_type": "markdown",
   "metadata": {},
   "source": [
    "3. Given the array *arr_3*, use slicing of this array to obtain the values of *arr_3_slice*. (*2 points*)\n",
    "\n",
    "```python \n",
    "arr_3 = np.arange(10, 60).reshape(10, 5)\n",
    "arr_3_slice = [\n",
    "    [28, 29],\n",
    "    [33, 34],\n",
    "    [43, 44]\n",
    "]\n",
    "```"
   ]
  },
  {
   "cell_type": "code",
   "execution_count": 7,
   "metadata": {},
   "outputs": [
    {
     "data": {
      "text/plain": [
       "array([[10, 11, 12, 13, 14],\n",
       "       [15, 16, 17, 18, 19],\n",
       "       [20, 21, 22, 23, 24],\n",
       "       [25, 26, 27, 28, 29],\n",
       "       [30, 31, 32, 33, 34],\n",
       "       [35, 36, 37, 38, 39],\n",
       "       [40, 41, 42, 43, 44],\n",
       "       [45, 46, 47, 48, 49],\n",
       "       [50, 51, 52, 53, 54],\n",
       "       [55, 56, 57, 58, 59]])"
      ]
     },
     "execution_count": 7,
     "metadata": {},
     "output_type": "execute_result"
    }
   ],
   "source": [
    "np.arange(10, 60).reshape(10, 5)"
   ]
  },
  {
   "cell_type": "code",
   "execution_count": 8,
   "metadata": {},
   "outputs": [
    {
     "data": {
      "text/plain": [
       "array([[28, 29],\n",
       "       [33, 34],\n",
       "       [43, 44]])"
      ]
     },
     "execution_count": 8,
     "metadata": {},
     "output_type": "execute_result"
    }
   ],
   "source": [
    "np.arange(10, 60).reshape(10, 5)[ [[3], [4], [6]], [3, 4] ]\n",
    "\n",
    "# OR\n",
    "\n",
    "np.arange(10, 60).reshape(10, 5)[[3, 4, 6]][:, [3, 4]]"
   ]
  },
  {
   "cell_type": "markdown",
   "metadata": {},
   "source": [
    "4. You have three numpy arrays: *arr_4*, *arr_4_a*, and *arr_4_b*.\n",
    "\n",
    "```python \n",
    "arr_4 = np.ones((5, 2))\n",
    "arr_4_a = np.ones((1, 2))\n",
    "arr_4_b = np.ones((2, 1))\n",
    "```\n",
    "Which of the following operations can be performed in numpy, which not, and why? Explain and comment your answer. (*2 points*)\n",
    "\n",
    "```python \n",
    "arr_4 / arr_4_a\n",
    "arr_4 / arr_4_b\n",
    "```"
   ]
  },
  {
   "cell_type": "markdown",
   "metadata": {},
   "source": [
    "**Solution** Due to broadcasting rules, only the first operation can be performed. Indeed, since *arr_4* and *arr_4_a* match in the second dimension, *arr_4_a* is stretched to (5, 2) to match *arr_4*. On the contrary *arr_4* and *arr_4_b* do not match in any dimension and a ValueError is thrown."
   ]
  },
  {
   "cell_type": "code",
   "execution_count": 9,
   "metadata": {},
   "outputs": [
    {
     "ename": "ValueError",
     "evalue": "operands could not be broadcast together with shapes (5,2) (2,1) ",
     "output_type": "error",
     "traceback": [
      "\u001b[0;31m---------------------------------------------------------------------------\u001b[0m",
      "\u001b[0;31mValueError\u001b[0m                                Traceback (most recent call last)",
      "Cell \u001b[0;32mIn[9], line 5\u001b[0m\n\u001b[1;32m      2\u001b[0m arr_4_a \u001b[38;5;241m=\u001b[39m np\u001b[38;5;241m.\u001b[39mones((\u001b[38;5;241m1\u001b[39m, \u001b[38;5;241m2\u001b[39m))\n\u001b[1;32m      3\u001b[0m arr_4_b \u001b[38;5;241m=\u001b[39m np\u001b[38;5;241m.\u001b[39mones((\u001b[38;5;241m2\u001b[39m, \u001b[38;5;241m1\u001b[39m))\n\u001b[0;32m----> 5\u001b[0m arr_4 \u001b[38;5;241m/\u001b[39m arr_4_b\n",
      "\u001b[0;31mValueError\u001b[0m: operands could not be broadcast together with shapes (5,2) (2,1) "
     ]
    }
   ],
   "source": [
    "arr_4 = np.ones((5, 2))\n",
    "arr_4_a = np.ones((1, 2))\n",
    "arr_4_b = np.ones((2, 1))\n",
    "\n",
    "arr_4 / arr_4_b"
   ]
  },
  {
   "cell_type": "markdown",
   "metadata": {},
   "source": [
    "<h3 style=\"text-align:left;\">Exercise 3 - DataFrames<span style=\"float: right\">9 points</span></h3>"
   ]
  },
  {
   "cell_type": "markdown",
   "metadata": {},
   "source": [
    "1. Load the dataframes from the *df_1.csv* and *df_2.csv* files. (*1 point*)"
   ]
  },
  {
   "cell_type": "code",
   "execution_count": 10,
   "metadata": {},
   "outputs": [
    {
     "name": "stdout",
     "output_type": "stream",
     "text": [
      "                     Name  Population  Population 1900  Population change\n",
      "0  Appenzell Ausserrhoden       55309            55281                NaN\n",
      "1   Appenzell Innerrhoden       16293            13499             2794.0\n",
      "2              Basel-Land      292955            68497           224458.0\n",
      "3             Basel-Stadt      201156           112227            88929.0\n",
      "4                    Bern      133883            60000                NaN\n",
      "5                Fribourg       38365            15794            22571.0\n",
      "6                  Geneva      201818            97359                NaN\n",
      "7                  Glarus       12425             4877             7548.0\n",
      "                     Name  Area (km2)\n",
      "0  Appenzell Ausserrhoden      242.84\n",
      "1   Appenzell Innerrhoden      172.48\n",
      "2              Basel-Land      517.67\n",
      "3             Basel-Stadt       36.95\n",
      "4                    Bern       51.62\n",
      "5                Fribourg        9.28\n",
      "6                  Geneva       15.92\n",
      "7                  Glarus      103.60\n"
     ]
    }
   ],
   "source": [
    "df_1 = pd.read_csv(\"./data/df_1.csv\")\n",
    "df_2 = pd.read_csv(\"./data/df_2.csv\")\n",
    "\n",
    "print(df_1)\n",
    "print(df_2)"
   ]
  },
  {
   "cell_type": "markdown",
   "metadata": {},
   "source": [
    "2. Merge the two dataframes and check that the merged dataframe is identical to the one found in *df_merged.csv*. (*2 points*)"
   ]
  },
  {
   "cell_type": "code",
   "execution_count": 11,
   "metadata": {},
   "outputs": [
    {
     "name": "stdout",
     "output_type": "stream",
     "text": [
      "True\n"
     ]
    }
   ],
   "source": [
    "df_merged = df_1.merge(df_2, how=\"left\")\n",
    "df_merged_check = pd.read_csv(\"./data/df_merged.csv\")\n",
    "\n",
    "print(df_merged.equals(df_merged_check))"
   ]
  },
  {
   "cell_type": "code",
   "execution_count": 12,
   "metadata": {},
   "outputs": [
    {
     "data": {
      "text/html": [
       "<div>\n",
       "<style scoped>\n",
       "    .dataframe tbody tr th:only-of-type {\n",
       "        vertical-align: middle;\n",
       "    }\n",
       "\n",
       "    .dataframe tbody tr th {\n",
       "        vertical-align: top;\n",
       "    }\n",
       "\n",
       "    .dataframe thead th {\n",
       "        text-align: right;\n",
       "    }\n",
       "</style>\n",
       "<table border=\"1\" class=\"dataframe\">\n",
       "  <thead>\n",
       "    <tr style=\"text-align: right;\">\n",
       "      <th></th>\n",
       "      <th>Name</th>\n",
       "      <th>Population</th>\n",
       "      <th>Population 1900</th>\n",
       "      <th>Population change</th>\n",
       "      <th>Area (km2)</th>\n",
       "    </tr>\n",
       "  </thead>\n",
       "  <tbody>\n",
       "    <tr>\n",
       "      <th>0</th>\n",
       "      <td>Appenzell Ausserrhoden</td>\n",
       "      <td>55309</td>\n",
       "      <td>55281</td>\n",
       "      <td>NaN</td>\n",
       "      <td>242.84</td>\n",
       "    </tr>\n",
       "    <tr>\n",
       "      <th>1</th>\n",
       "      <td>Appenzell Innerrhoden</td>\n",
       "      <td>16293</td>\n",
       "      <td>13499</td>\n",
       "      <td>2794.0</td>\n",
       "      <td>172.48</td>\n",
       "    </tr>\n",
       "    <tr>\n",
       "      <th>2</th>\n",
       "      <td>Basel-Land</td>\n",
       "      <td>292955</td>\n",
       "      <td>68497</td>\n",
       "      <td>224458.0</td>\n",
       "      <td>517.67</td>\n",
       "    </tr>\n",
       "    <tr>\n",
       "      <th>3</th>\n",
       "      <td>Basel-Stadt</td>\n",
       "      <td>201156</td>\n",
       "      <td>112227</td>\n",
       "      <td>88929.0</td>\n",
       "      <td>36.95</td>\n",
       "    </tr>\n",
       "    <tr>\n",
       "      <th>4</th>\n",
       "      <td>Bern</td>\n",
       "      <td>133883</td>\n",
       "      <td>60000</td>\n",
       "      <td>NaN</td>\n",
       "      <td>51.62</td>\n",
       "    </tr>\n",
       "    <tr>\n",
       "      <th>5</th>\n",
       "      <td>Fribourg</td>\n",
       "      <td>38365</td>\n",
       "      <td>15794</td>\n",
       "      <td>22571.0</td>\n",
       "      <td>9.28</td>\n",
       "    </tr>\n",
       "    <tr>\n",
       "      <th>6</th>\n",
       "      <td>Geneva</td>\n",
       "      <td>201818</td>\n",
       "      <td>97359</td>\n",
       "      <td>NaN</td>\n",
       "      <td>15.92</td>\n",
       "    </tr>\n",
       "    <tr>\n",
       "      <th>7</th>\n",
       "      <td>Glarus</td>\n",
       "      <td>12425</td>\n",
       "      <td>4877</td>\n",
       "      <td>7548.0</td>\n",
       "      <td>103.60</td>\n",
       "    </tr>\n",
       "  </tbody>\n",
       "</table>\n",
       "</div>"
      ],
      "text/plain": [
       "                     Name  Population  Population 1900  Population change  \\\n",
       "0  Appenzell Ausserrhoden       55309            55281                NaN   \n",
       "1   Appenzell Innerrhoden       16293            13499             2794.0   \n",
       "2              Basel-Land      292955            68497           224458.0   \n",
       "3             Basel-Stadt      201156           112227            88929.0   \n",
       "4                    Bern      133883            60000                NaN   \n",
       "5                Fribourg       38365            15794            22571.0   \n",
       "6                  Geneva      201818            97359                NaN   \n",
       "7                  Glarus       12425             4877             7548.0   \n",
       "\n",
       "   Area (km2)  \n",
       "0      242.84  \n",
       "1      172.48  \n",
       "2      517.67  \n",
       "3       36.95  \n",
       "4       51.62  \n",
       "5        9.28  \n",
       "6       15.92  \n",
       "7      103.60  "
      ]
     },
     "execution_count": 12,
     "metadata": {},
     "output_type": "execute_result"
    }
   ],
   "source": [
    "df_merged"
   ]
  },
  {
   "cell_type": "markdown",
   "metadata": {},
   "source": [
    "3. Create a new column \"Density\" in the merged dataframe containing the population density of each canton as inhabitants/km^2. (*2 points*)"
   ]
  },
  {
   "cell_type": "code",
   "execution_count": 13,
   "metadata": {},
   "outputs": [
    {
     "data": {
      "text/html": [
       "<div>\n",
       "<style scoped>\n",
       "    .dataframe tbody tr th:only-of-type {\n",
       "        vertical-align: middle;\n",
       "    }\n",
       "\n",
       "    .dataframe tbody tr th {\n",
       "        vertical-align: top;\n",
       "    }\n",
       "\n",
       "    .dataframe thead th {\n",
       "        text-align: right;\n",
       "    }\n",
       "</style>\n",
       "<table border=\"1\" class=\"dataframe\">\n",
       "  <thead>\n",
       "    <tr style=\"text-align: right;\">\n",
       "      <th></th>\n",
       "      <th>Name</th>\n",
       "      <th>Population</th>\n",
       "      <th>Population 1900</th>\n",
       "      <th>Population change</th>\n",
       "      <th>Area (km2)</th>\n",
       "      <th>Density</th>\n",
       "    </tr>\n",
       "  </thead>\n",
       "  <tbody>\n",
       "    <tr>\n",
       "      <th>0</th>\n",
       "      <td>Appenzell Ausserrhoden</td>\n",
       "      <td>55309</td>\n",
       "      <td>55281</td>\n",
       "      <td>NaN</td>\n",
       "      <td>242.84</td>\n",
       "      <td>227.759018</td>\n",
       "    </tr>\n",
       "    <tr>\n",
       "      <th>1</th>\n",
       "      <td>Appenzell Innerrhoden</td>\n",
       "      <td>16293</td>\n",
       "      <td>13499</td>\n",
       "      <td>2794.0</td>\n",
       "      <td>172.48</td>\n",
       "      <td>94.463126</td>\n",
       "    </tr>\n",
       "    <tr>\n",
       "      <th>2</th>\n",
       "      <td>Basel-Land</td>\n",
       "      <td>292955</td>\n",
       "      <td>68497</td>\n",
       "      <td>224458.0</td>\n",
       "      <td>517.67</td>\n",
       "      <td>565.910715</td>\n",
       "    </tr>\n",
       "    <tr>\n",
       "      <th>3</th>\n",
       "      <td>Basel-Stadt</td>\n",
       "      <td>201156</td>\n",
       "      <td>112227</td>\n",
       "      <td>88929.0</td>\n",
       "      <td>36.95</td>\n",
       "      <td>5444.005413</td>\n",
       "    </tr>\n",
       "    <tr>\n",
       "      <th>4</th>\n",
       "      <td>Bern</td>\n",
       "      <td>133883</td>\n",
       "      <td>60000</td>\n",
       "      <td>NaN</td>\n",
       "      <td>51.62</td>\n",
       "      <td>2593.626501</td>\n",
       "    </tr>\n",
       "  </tbody>\n",
       "</table>\n",
       "</div>"
      ],
      "text/plain": [
       "                     Name  Population  Population 1900  Population change  \\\n",
       "0  Appenzell Ausserrhoden       55309            55281                NaN   \n",
       "1   Appenzell Innerrhoden       16293            13499             2794.0   \n",
       "2              Basel-Land      292955            68497           224458.0   \n",
       "3             Basel-Stadt      201156           112227            88929.0   \n",
       "4                    Bern      133883            60000                NaN   \n",
       "\n",
       "   Area (km2)      Density  \n",
       "0      242.84   227.759018  \n",
       "1      172.48    94.463126  \n",
       "2      517.67   565.910715  \n",
       "3       36.95  5444.005413  \n",
       "4       51.62  2593.626501  "
      ]
     },
     "execution_count": 13,
     "metadata": {},
     "output_type": "execute_result"
    }
   ],
   "source": [
    "df_merged[\"Density\"] = df_merged[\"Population\"] / df_merged[\"Area (km2)\"]\n",
    "\n",
    "df_merged.head()"
   ]
  },
  {
   "cell_type": "markdown",
   "metadata": {},
   "source": [
    "4. Fill in the missing values in the \"Population change\" column by calculating \"Population change\" = \"Population\" - \"Population 1900\" for the missing rows. (*2 points*)"
   ]
  },
  {
   "cell_type": "code",
   "execution_count": 14,
   "metadata": {},
   "outputs": [
    {
     "data": {
      "text/html": [
       "<div>\n",
       "<style scoped>\n",
       "    .dataframe tbody tr th:only-of-type {\n",
       "        vertical-align: middle;\n",
       "    }\n",
       "\n",
       "    .dataframe tbody tr th {\n",
       "        vertical-align: top;\n",
       "    }\n",
       "\n",
       "    .dataframe thead th {\n",
       "        text-align: right;\n",
       "    }\n",
       "</style>\n",
       "<table border=\"1\" class=\"dataframe\">\n",
       "  <thead>\n",
       "    <tr style=\"text-align: right;\">\n",
       "      <th></th>\n",
       "      <th>Name</th>\n",
       "      <th>Population</th>\n",
       "      <th>Population 1900</th>\n",
       "      <th>Population change</th>\n",
       "      <th>Area (km2)</th>\n",
       "      <th>Density</th>\n",
       "    </tr>\n",
       "  </thead>\n",
       "  <tbody>\n",
       "    <tr>\n",
       "      <th>0</th>\n",
       "      <td>Appenzell Ausserrhoden</td>\n",
       "      <td>55309</td>\n",
       "      <td>55281</td>\n",
       "      <td>28.0</td>\n",
       "      <td>242.84</td>\n",
       "      <td>227.759018</td>\n",
       "    </tr>\n",
       "    <tr>\n",
       "      <th>1</th>\n",
       "      <td>Appenzell Innerrhoden</td>\n",
       "      <td>16293</td>\n",
       "      <td>13499</td>\n",
       "      <td>2794.0</td>\n",
       "      <td>172.48</td>\n",
       "      <td>94.463126</td>\n",
       "    </tr>\n",
       "    <tr>\n",
       "      <th>2</th>\n",
       "      <td>Basel-Land</td>\n",
       "      <td>292955</td>\n",
       "      <td>68497</td>\n",
       "      <td>224458.0</td>\n",
       "      <td>517.67</td>\n",
       "      <td>565.910715</td>\n",
       "    </tr>\n",
       "    <tr>\n",
       "      <th>3</th>\n",
       "      <td>Basel-Stadt</td>\n",
       "      <td>201156</td>\n",
       "      <td>112227</td>\n",
       "      <td>88929.0</td>\n",
       "      <td>36.95</td>\n",
       "      <td>5444.005413</td>\n",
       "    </tr>\n",
       "    <tr>\n",
       "      <th>4</th>\n",
       "      <td>Bern</td>\n",
       "      <td>133883</td>\n",
       "      <td>60000</td>\n",
       "      <td>73883.0</td>\n",
       "      <td>51.62</td>\n",
       "      <td>2593.626501</td>\n",
       "    </tr>\n",
       "  </tbody>\n",
       "</table>\n",
       "</div>"
      ],
      "text/plain": [
       "                     Name  Population  Population 1900  Population change  \\\n",
       "0  Appenzell Ausserrhoden       55309            55281               28.0   \n",
       "1   Appenzell Innerrhoden       16293            13499             2794.0   \n",
       "2              Basel-Land      292955            68497           224458.0   \n",
       "3             Basel-Stadt      201156           112227            88929.0   \n",
       "4                    Bern      133883            60000            73883.0   \n",
       "\n",
       "   Area (km2)      Density  \n",
       "0      242.84   227.759018  \n",
       "1      172.48    94.463126  \n",
       "2      517.67   565.910715  \n",
       "3       36.95  5444.005413  \n",
       "4       51.62  2593.626501  "
      ]
     },
     "execution_count": 14,
     "metadata": {},
     "output_type": "execute_result"
    }
   ],
   "source": [
    "df_merged_fillna = df_merged.copy()\n",
    "df_merged_fillna[\"Population change\"] = df_merged[\"Population change\"].fillna(value=df_merged[\"Population\"] - df_merged[\"Population 1900\"])\n",
    "\n",
    "df_merged_fillna.head()"
   ]
  },
  {
   "cell_type": "markdown",
   "metadata": {},
   "source": [
    "5. Find and print the cantons with the highest, and lowest number of inhabitants. Additionally, print the average population change across cantons. (*2 points*)"
   ]
  },
  {
   "cell_type": "code",
   "execution_count": 15,
   "metadata": {},
   "outputs": [
    {
     "name": "stdout",
     "output_type": "stream",
     "text": [
      "Canton with highest number of inhabitants:\n",
      "Basel-Land\n",
      "Canton with lowest number of inhabitants:\n",
      "Glarus\n",
      "Average population change across cantons:\n",
      "65583.75\n"
     ]
    }
   ],
   "source": [
    "print(\"Canton with highest number of inhabitants:\")\n",
    "print(df_merged_fillna.loc[df_merged_fillna[\"Population\"].idxmax(), \"Name\"])\n",
    "print(\"Canton with lowest number of inhabitants:\")\n",
    "print(df_merged_fillna.loc[df_merged_fillna[\"Population\"].idxmin(), \"Name\"])\n",
    "\n",
    "print(\"Average population change across cantons:\")\n",
    "print(df_merged_fillna[\"Population change\"].mean())"
   ]
  },
  {
   "cell_type": "markdown",
   "metadata": {},
   "source": [
    "<h3 style=\"text-align:left;\">Exercise 4 - Plotting<span style=\"float: right\">11 points</span></h3>"
   ]
  },
  {
   "cell_type": "markdown",
   "metadata": {},
   "source": [
    "Create a plot using Matplotlib of the data in the previous exercise. You can find the data in *df_plot.csv*."
   ]
  },
  {
   "cell_type": "code",
   "execution_count": 16,
   "metadata": {},
   "outputs": [],
   "source": [
    "df_plot = pd.read_csv(\"./data/df_plot.csv\")"
   ]
  },
  {
   "cell_type": "markdown",
   "metadata": {},
   "source": [
    "The final figure should look like the one at the end of the exercise. The plot should fulfill the following requirements:"
   ]
  },
  {
   "cell_type": "markdown",
   "metadata": {},
   "source": [
    "1. Scatterplot\n",
    "- Use a scatterplot to show the population size of each canton at the two time-points (now: ”Population”; 1900: ”Population 1900”). The y-axis should be \"Number of inhabitants\" and the x-axis should have one tick for each point in time. (*2 points*)\n",
    "- Color each canton with a different color, but the same color used for the same canton across both ”Population” and ”Population 1900”. (*1 points*)\n",
    "- Add a legend in the top left corner with canton and color association. (*1 point*)\n",
    "- For each canton, plot a connecting line from the dot showing population in 1900, to the dot showing the same canton’s population now (”Population”). (*1 points*)"
   ]
  },
  {
   "cell_type": "markdown",
   "metadata": {},
   "source": [
    "2. Violin plot\n",
    "- Use a violin plot to show the distribution of population density (\"Density\" column). The y-axis should be \"Population density (1/km^2)\" and the x-axis should have no ticks. (*2 points*)\n",
    "- Plot on top the values of each canton, with the same colors of plot 1 (*2 points*)\n",
    "- Plot the average population density as a black star and add the label \"Mean density\" (*1 points*)\n",
    "- Add the legend in the top right corner (*1 point*)"
   ]
  },
  {
   "cell_type": "code",
   "execution_count": 18,
   "metadata": {},
   "outputs": [
    {
     "data": {
      "image/png": "[encoded data removed]",
      "text/plain": [
       "<Figure size 1600x600 with 2 Axes>"
      ]
     },
     "metadata": {},
     "output_type": "display_data"
    }
   ],
   "source": [
    "fig, axs = plt.subplots(1, 2, figsize=(16, 6))  # object-oriented way\n",
    "\n",
    "# 1st plot\n",
    "\n",
    "# Solution 1: colors assigned automatically\n",
    "# for i, row in df_plot.iterrows():\n",
    "#     axs[0].scatter([0, 1], [row[\"Population 1900\"], row[\"Population\"]])\n",
    "\n",
    "# Solution 2: assign some colors\n",
    "colors = [\"b\", \"g\", \"r\", \"c\", \"m\", \"y\", \"k\", \"grey\"]\n",
    "axs[0].scatter([0] * len(df_plot), df_plot[\"Population 1900\"], c=colors, s=49)\n",
    "axs[0].scatter([1] * len(df_plot), df_plot[\"Population\"], c=colors, s=49)\n",
    "\n",
    "# Add lines\n",
    "for i, row in df_plot.iterrows():\n",
    "    axs[0].plot([0, 1], [row[\"Population 1900\"], row[\"Population\"]], c=colors[i], lw=2, label=row[\"Name\"])\n",
    "\n",
    "# Add x and y labels and ticks\n",
    "axs[0].set_ylabel(\"Number of inhabitants\", fontsize=12)\n",
    "axs[0].set_xlabel(\"\")\n",
    "axs[0].set_xticks([0, 1], labels=[\"Population 1900\", \"Population now\"], fontsize=12)\n",
    "\n",
    "# Add legend\n",
    "axs[0].legend(loc=\"upper left\", frameon=False)  # frameon is optional\n",
    "\n",
    "# 2nd plot\n",
    "\n",
    "axs[1].violinplot(df_plot[\"Density\"], showextrema=False)\n",
    "axs[1].scatter([1] * len(df_plot), df_plot[\"Density\"], c=colors, s=49)\n",
    "axs[1].scatter(1, df_plot[\"Density\"].mean(), marker=\"*\", c=\"k\", s=64, label=\"Mean density\")\n",
    "axs[1].set_xticks([])\n",
    "axs[1].set_ylabel(\"Population density\", fontsize=12)\n",
    "axs[1].legend(loc=\"upper right\", frameon=False)  # frameon is optional\n",
    "\n",
    "plt.show()"
   ]
  },
  {
   "cell_type": "markdown",
   "metadata": {},
   "source": [
    "<h3 style=\"text-align:left;\">Exercise 5 - Tests<span style=\"float: right\">4 points</span></h3>"
   ]
  },
  {
   "cell_type": "markdown",
   "metadata": {},
   "source": [
    "You are given the following function:\n",
    "```python \n",
    "def ex_5(a: int, b: list):\n",
    "    \n",
    "    b_sum = b[3] + a\n",
    "\n",
    "    return b_sum\n",
    "```"
   ]
  },
  {
   "cell_type": "markdown",
   "metadata": {},
   "source": [
    "1. Explain what the function does and what type of user input would result in an error. (*2 points*)"
   ]
  },
  {
   "cell_type": "markdown",
   "metadata": {},
   "source": [
    "**Solution** The function simply takes a list *b* and adds *a* to its 4th element. We need to pay attention to mainly two things here:\n",
    "- that a can be of a type compatible with what we expect (int)\n",
    "- that the list b has at lest 4 elements"
   ]
  },
  {
   "cell_type": "markdown",
   "metadata": {},
   "source": [
    "2. Add at least one relevant assertion and one relevant exception to the function. (*2 points*)"
   ]
  },
  {
   "cell_type": "code",
   "execution_count": 22,
   "metadata": {},
   "outputs": [
    {
     "name": "stdout",
     "output_type": "stream",
     "text": [
      "5\n"
     ]
    }
   ],
   "source": [
    "def ex_5_tests(a: int, b: list):\n",
    "\n",
    "    # Add assetion for length of b\n",
    "    assert len(b) > 3, \"list must be at lest 4 elements long!\"\n",
    "\n",
    "    # Add exception for type\n",
    "    if not isinstance(a, int):\n",
    "        raise TypeError(\"a must be of type int!\")\n",
    "    \n",
    "    b_sum = b[3] + a\n",
    "\n",
    "    return b_sum\n",
    "\n",
    "#print(ex_5_tests(1, [1, 2, 3]))\n",
    "#print(ex_5_tests(1.5, [1, 2, 3, 4]))\n",
    "print(ex_5_tests(1, [1, 2, 3, 4]))"
   ]
  },
  {
   "cell_type": "code",
   "execution_count": null,
   "metadata": {},
   "outputs": [],
   "source": []
  }
 ],
 "metadata": {
  "kernelspec": {
   "display_name": "AdPy24",
   "language": "python",
   "name": "python3"
  },
  "language_info": {
   "codemirror_mode": {
    "name": "ipython",
    "version": 3
   },
   "file_extension": ".py",
   "mimetype": "text/x-python",
   "name": "python",
   "nbconvert_exporter": "python",
   "pygments_lexer": "ipython3",
   "version": "3.11.7"
  }
 },
 "nbformat": 4,
 "nbformat_minor": 2
}
