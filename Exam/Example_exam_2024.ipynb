{
 "cells": [
  {
   "cell_type": "markdown",
   "metadata": {},
   "source": [
    "<h2><center>Programming for Data Science 2024 - Example exam</center></h2>\n",
    "<h3><center>May 23rd, 2024</center></h3>"
   ]
  },
  {
   "cell_type": "markdown",
   "metadata": {},
   "source": [
    "- Time: in the real exam, you'll have 60 minutes.\n",
    "- For this example, you have a maximum of 36 points. Exercises points give you an idea of the exercise weight.\n",
    "- The exam is open book, i.e. you can consult all lectures material.\n",
    "- You are **not** allowed to:\n",
    "  - access the internet\n",
    "  - use aid from large language models.\n",
    "- To get full points for a programming task you need to code in Python. If however you encounter problems because you cannot remember a specific command, please explain the logic that you would use to resolve the task, to get partial points.\n",
    "- You will have the possibility to submit your solution in one of two ways:\n",
    "  - as a Jupyter notebook\n",
    "  - as one .py file.\n",
    "\n",
    "The following Python packages are needed:\n",
    "- Matplotlib\n",
    "- Pandas\n",
    "- Numpy"
   ]
  },
  {
   "cell_type": "markdown",
   "metadata": {},
   "source": [
    "<h3 style=\"text-align:left;\">Exercise 1 - General Python<span style=\"float: right\">4 points</span></h3>"
   ]
  },
  {
   "cell_type": "markdown",
   "metadata": {},
   "source": [
    "1. What will be printed when the following code is executed? Explain and comment your answer. (*2 points*)\n",
    "```python \n",
    "countries = [\"Australia\", \"USA\", \"Switzerland\", \"Finland\", \"Spain\"]\n",
    "countries_2 = countries\n",
    "countries_2[1] = \"Germany\"\n",
    "print(countries)\n",
    "```"
   ]
  },
  {
   "cell_type": "markdown",
   "metadata": {},
   "source": [
    "2. Improve the coding style and readability of the code below, following the PEP8 style guidelines when possible. (*2 points*)\n",
    "```python \n",
    "from os import *\n",
    "\n",
    "class myClass:\n",
    "    def __init__(self, directory):\n",
    "        self.directory = directory\n",
    "\n",
    "    def IsFile(self, filename):\n",
    "        return path.isfile(path.join(self.directory, filename))\n",
    "    \n",
    "myObject = MyClass(\"/path/to/directory\")\n",
    "Answer = myObject.IsFile(\"file.txt\")\n",
    "```\n",
    "\n",
    "The code-block defines a class that interacts with the file system. It is initialized with a root directory, and contains a method that checks if a file exists within that directory."
   ]
  },
  {
   "cell_type": "markdown",
   "metadata": {},
   "source": [
    "<h3 style=\"text-align:left;\">Exercise 2 - Numerical data<span style=\"float: right\">8 points</span></h3>"
   ]
  },
  {
   "cell_type": "markdown",
   "metadata": {},
   "source": [
    "1. Find the index of the second largest value of the following array. (*2 points*)\n",
    "```python \n",
    "arr_1 = np.array([6, 7, 2, 12, 9, 8])\n",
    "```"
   ]
  },
  {
   "cell_type": "markdown",
   "metadata": {},
   "source": [
    "2. Obtain the average of each row of the 2D array arr_2. (*2 points*)\n",
    "```python \n",
    "arr_2 = np.arange(18, 30).reshape(3, 4)\n",
    "```"
   ]
  },
  {
   "cell_type": "markdown",
   "metadata": {},
   "source": [
    "3. Given the array *arr_3*, use slicing of this array to obtain the values of *arr_3_slice*. (*2 points*)\n",
    "```python \n",
    "arr_3 = np.arange(10, 60).reshape(10, 5)\n",
    "arr_3_slice = [\n",
    "    [28, 29],\n",
    "    [33, 34],\n",
    "    [43, 44]\n",
    "]\n",
    "```"
   ]
  },
  {
   "cell_type": "markdown",
   "metadata": {},
   "source": [
    "4. You have three numpy arrays: *arr_4*, *arr_4_a*, and *arr_4_b*.\n",
    "```python \n",
    "arr_4 = np.ones((5, 2))\n",
    "arr_4_a = np.ones((1, 2))\n",
    "arr_4_b = np.ones((2, 1))\n",
    "```\n",
    "Which of the following operations can be performed in numpy, which not, and why? Explain and comment your answer. (*2 points*)\n",
    "```python \n",
    "arr_4 / arr_4_a\n",
    "arr_4 / arr_4_b\n",
    "```"
   ]
  },
  {
   "cell_type": "markdown",
   "metadata": {},
   "source": [
    "<h3 style=\"text-align:left;\">Exercise 3 - DataFrames<span style=\"float: right\">9 points</span></h3>"
   ]
  },
  {
   "cell_type": "markdown",
   "metadata": {},
   "source": [
    "1. Load the dataframes from the *df_1.csv* and *df_2.csv* files. (*1 point*)"
   ]
  },
  {
   "cell_type": "markdown",
   "metadata": {},
   "source": [
    "2. Merge the two dataframes and check that the merged dataframe is identical to the one found in *df_merged.csv*. (*2 points*)"
   ]
  },
  {
   "cell_type": "markdown",
   "metadata": {},
   "source": [
    "3. Create a new column \"Density\" in the merged dataframe containing the population density of each canton as inhabitants/km^2. (*2 points*)"
   ]
  },
  {
   "cell_type": "markdown",
   "metadata": {},
   "source": [
    "4. Fill in the missing values in the \"Population change\" column by calculating \"Population change\" = \"Population\" - \"Population 1900\" for the missing rows. (*2 points*)"
   ]
  },
  {
   "cell_type": "markdown",
   "metadata": {},
   "source": [
    "5. Find and print the cantons with the highest, and lowest number of inhabitants. Additionally, print the average population change across cantons. (*2 points*)"
   ]
  },
  {
   "cell_type": "markdown",
   "metadata": {},
   "source": [
    "<h3 style=\"text-align:left;\">Exercise 4 - Plotting<span style=\"float: right\">11 points</span></h3>"
   ]
  },
  {
   "cell_type": "markdown",
   "metadata": {},
   "source": [
    "Create a plot using Matplotlib of the data in the previous exercise. You can find the data in *df_plot.csv*."
   ]
  },
  {
   "cell_type": "code",
   "execution_count": null,
   "metadata": {},
   "outputs": [],
   "source": [
    "df_plot = pd.read_csv(\"./data/df_plot.csv\")"
   ]
  },
  {
   "cell_type": "markdown",
   "metadata": {},
   "source": [
    "The final figure should look like the one at the end of the exercise. The plot should fulfill the following requirements:"
   ]
  },
  {
   "cell_type": "markdown",
   "metadata": {},
   "source": [
    "1. Scatterplot\n",
    "- Use a scatterplot to show the population size of each canton at the two time-points (now: ”Population”; 1900: ”Population 1900”). The y-axis should be \"Number of inhabitants\" and the x-axis should have one tick for each point in time. (*2 points*)\n",
    "- Color each canton with a different color, but the same color used for the same canton across both ”Population” and ”Population 1900”. (*1 points*)\n",
    "- Add a legend in the top left corner with canton and color association. (*1 point*)\n",
    "- For each canton, plot a connecting line from the dot showing population in 1900, to the dot showing the same canton’s population now (”Population”). (*1 points*)"
   ]
  },
  {
   "cell_type": "markdown",
   "metadata": {},
   "source": [
    "2. Violin plot\n",
    "- Use a violin plot to show the distribution of population density (\"Density\" column). The y-axis should be \"Population density (1/km^2)\" and the x-axis should have no ticks. (*2 points*)\n",
    "- Plot on top the values of each canton, with the same colors of plot 1 (*2 points*)\n",
    "- Plot the average population density as a black star and add the label \"Mean density\" (*1 points*)\n",
    "- Add the legend in the top right corner (*1 point*)"
   ]
  },
  {
   "cell_type": "markdown",
   "metadata": {},
   "source": [
    "<style>\n",
    "\n",
    "figcaption {\n",
    "  text-align: center;\n",
    "  margin-top: 10px\n",
    "}\n",
    "</style>\n",
    "\n",
    "<figure class=\"image\">\n",
    "  <img src=\"./data/plot.png\" style=\"width:80%\">\n",
    "  <figcaption >The final result should look like this.</figcaption>\n",
    "</figure>"
   ]
  },
  {
   "cell_type": "markdown",
   "metadata": {},
   "source": [
    "<h3 style=\"text-align:left;\">Exercise 5 - Tests<span style=\"float: right\">4 points</span></h3>"
   ]
  },
  {
   "cell_type": "markdown",
   "metadata": {},
   "source": [
    "You are given the following function:\n",
    "```python \n",
    "def ex_5(a: int, b: list):\n",
    "    \n",
    "    b_sum = b[3] + a\n",
    "\n",
    "    return b_sum\n",
    "```"
   ]
  },
  {
   "cell_type": "markdown",
   "metadata": {},
   "source": [
    "1. Explain what the function does and what type of user input would result in an error. (*2 points*)"
   ]
  },
  {
   "cell_type": "markdown",
   "metadata": {},
   "source": [
    "2. Add at least one relevant assertion and one relevant exception to the function. (*2 points*)"
   ]
  }
 ],
 "metadata": {
  "kernelspec": {
   "display_name": "AdPy24",
   "language": "python",
   "name": "python3"
  },
  "language_info": {
   "codemirror_mode": {
    "name": "ipython",
    "version": 3
   },
   "file_extension": ".py",
   "mimetype": "text/x-python",
   "name": "python",
   "nbconvert_exporter": "python",
   "pygments_lexer": "ipython3",
   "version": "3.11.7"
  }
 },
 "nbformat": 4,
 "nbformat_minor": 2
}
