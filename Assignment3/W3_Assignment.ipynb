{
 "cells": [
  {
   "cell_type": "markdown",
   "metadata": {},
   "source": [
    "<h2><center>Week 3 - Assignment</center></h2>\n",
    "<h3><center>Programming for Data Science 2024</center></h3>"
   ]
  },
  {
   "cell_type": "markdown",
   "metadata": {},
   "source": [
    "Exercises for the topics covered in the third lecture.\n",
    "\n",
    "The exercise will be marked as passed if you get **at least 10/15** points.\n",
    "\n",
    "Exercises must be handed in via **ILIAS** (Homework assignments). Deliver your submission as a compressed file (zip) containing one .py or .ipynb file with all exercises. The name of both the .zip and the .py/.ipynb file must be *SurnameName* of the two members of the group. Example: Riccardo Cusinato + Athina Tzovara = *CusinatoRiccardo_TzovaraAthina.zip* .\n",
    "\n",
    "It's important to use comments to explain your code and show that you're able to take ownership of the exercises and discuss them.\n",
    "\n",
    "You are not expected to collaborate outside of the group on exercises and submitting other groups’ code as your own will result in 0 points.\n",
    "\n",
    "For questions contact: *riccardo.cusinato@unibe.ch* with the subject: *Programming for Data Science 2024*.\n",
    "\n",
    "**Deadline: 14:00, March 14, 2024.**"
   ]
  },
  {
   "cell_type": "markdown",
   "metadata": {},
   "source": [
    "<h3 style=\"text-align:left;\">Exercise 1 - Error investigation<span style=\"float: right\">2 points</span></h3>"
   ]
  },
  {
   "cell_type": "markdown",
   "metadata": {},
   "source": [
    "The code below squares and sums the numbers in the array *arr*, and holds the result in the variable *squared_sum*, which should be 1135. However, that is not the case. Correct the code and explain in a comment , clearly and amply, what was wrong."
   ]
  },
  {
   "cell_type": "code",
   "execution_count": 25,
   "metadata": {},
   "outputs": [
    {
     "name": "stdout",
     "output_type": "stream",
     "text": [
      "[169 196 225 256 289]\n"
     ]
    },
    {
     "data": {
      "text/plain": [
       "1135"
      ]
     },
     "execution_count": 25,
     "metadata": {},
     "output_type": "execute_result"
    }
   ],
   "source": [
    "import numpy as np\n",
    "\n",
    "arr = np.array([13, 14, 15, 16, 17], dtype=np.int16)\n",
    "squared_sum = np.sum(arr ** 2)\n",
    "squared_sum"
   ]
  },
  {
   "cell_type": "code",
   "execution_count": 26,
   "metadata": {},
   "outputs": [],
   "source": [
    "# The problem is that numpy.int8 (signed int) ranges from -128 to 127 but all the squares from\n",
    "# the array are larger than a signed 8 bit int can represent. uint8 would be sufficient for 13, 14 and 15, but 16^2 is the same as 2^8 which is 1 digit bigger than uint8 can store (because 0 has to be included).\n",
    "# so the solution is to make it at least 16 bits long (int or uint works both)\n"
   ]
  },
  {
   "cell_type": "markdown",
   "metadata": {},
   "source": [
    "<h3 style=\"text-align:left;\">Exercise 2 - Vacation selector<span style=\"float: right\">3 points</span></h3>"
   ]
  },
  {
   "cell_type": "markdown",
   "metadata": {},
   "source": [
    "The code below defines five vacation destinations (*locations*) and four attributes for each (*attributes*). Each row describes one destination, and the columns represent scores on the factors scenery, activities, food, and nightlife.\n",
    "\n",
    "Write a function *vacation_advisor* that asks the user whether they find each of the attributes important or not, and suggests the best vacation spot based on these preferences.\n",
    "\n",
    "Use techniques from the third lecture to solve the exercise.\n",
    "\n",
    "Example interaction:\n",
    "```python\n",
    "Is scenery important to you [y/n]?    > y\n",
    "Is activities important to you [y/n]? > y\n",
    "Is food important to you [y/n]?       > n\n",
    "Is nightlife important to you [y/n]?  > n\n",
    "Based on your preferences, the best destination is Australia\n",
    "```"
   ]
  },
  {
   "cell_type": "code",
   "execution_count": 78,
   "metadata": {},
   "outputs": [],
   "source": [
    "# List of destinations\n",
    "locations = np.array([ \"Hawaii\", \"Thailand\", \"Italy\", \"Australia\", \"Japan\" ])\n",
    "\n",
    "# List of attributes for each destination. Each column is an attribute. Each row a destination.\n",
    "attributes = np.array([\n",
    "    [8, 8, 7, 6],\n",
    "    [7, 9, 8, 7],\n",
    "    [8, 6, 9, 7],\n",
    "    [9, 8, 8, 6],\n",
    "    [7, 9, 7, 8]\n",
    "])\n",
    "\n",
    "# Declare attribute names and initialize boolean array with preferences\n",
    "attribute_names = ['scenery', 'activities', 'food', 'nightlife']\n"
   ]
  },
  {
   "cell_type": "code",
   "execution_count": 86,
   "metadata": {},
   "outputs": [
    {
     "name": "stdout",
     "output_type": "stream",
     "text": [
      "Is scenery important to you [y/n]?\n",
      "Is activities important to you [y/n]?\n",
      "Is food important to you [y/n]?\n",
      "Is nightlife important to you [y/n]?\n",
      "Based on your preferences, the best destination is Italy\n",
      "------------------------------------\n",
      "Would you like to change preferences?\n"
     ]
    }
   ],
   "source": [
    "def get_input(attribute: str) -> int:\n",
    "    print(f\"Is {attribute} important to you [y/n]?\")\n",
    "    important: str = handle_input()           \n",
    "    return 1 if important == 'y' else 0\n",
    "\n",
    "\n",
    "def handle_input() -> str:\n",
    "    while True:\n",
    "         result: str = input(\"\")\n",
    "         if result == 'y' or result == 'n':\n",
    "              return result\n",
    "         print(\"Please answer \\\"y\\\" for yes and \\\"n\\\" for no\")\n",
    "\n",
    "\n",
    "while True:\n",
    "    attribute_importance: np.array = np.array([get_input(\"scenery\"), get_input(\"activities\"), get_input(\"food\"), get_input(\"nightlife\")])\n",
    "    importance_of_attributes: np.array= attribute_importance * attributes[:, np.newaxis]\n",
    "    max_index: int = np.argmax( np.sum(importance_of_attributes, axis = 2))\n",
    "\n",
    "    print(f\"Based on your preferences, the best destination is {locations[max_index]}\")\n",
    "    \n",
    "    print(\"------------------------------------\\nWould you like to change preferences?\")\n",
    "    if handle_input() == 'n':\n",
    "        break"
   ]
  },
  {
   "cell_type": "markdown",
   "metadata": {},
   "source": [
    "<h3 style=\"text-align:left;\">Exercise 3 - Indexing<span style=\"float: right\">3 points</span></h3>"
   ]
  },
  {
   "cell_type": "markdown",
   "metadata": {},
   "source": [
    "You have two arrays of the same length: temperature *temp*, and humidity, *rh*. Write a program that:\n",
    "1) Substitutes the values of *temp* for which the corresponding values of *rh* is less than 0.3 with *np.nan*.\n",
    "2) On this new temperature array, calculate the mean value (do **not** calculate it on the original array).\n",
    "\n",
    "As an example:\n",
    "\n",
    "```python\n",
    "temp = [70, 80, 90]\n",
    "rh = [0.5, 0.2, 0.6]\n",
    "\n",
    "temp_nan --> [70, np.nan, 90]\n",
    "temp_avg --> 80\n",
    "```"
   ]
  },
  {
   "cell_type": "code",
   "execution_count": 87,
   "metadata": {},
   "outputs": [],
   "source": [
    "# Generate some surrogate data\n",
    "\n",
    "np.random.seed(29041996)  # Make sure we all have the same data\n",
    "temp = 20 * np.cos(np.linspace(0, 2 * np.pi, 100)) + 80 + 2 * np.random.randn(100)\n",
    "rh = np.abs(0.1 * np.cos(np.linspace(0, 4 * np.pi, 100)) \n",
    "            + 0.3 + 0.05 * np.random.randn(100))"
   ]
  },
  {
   "cell_type": "code",
   "execution_count": 93,
   "metadata": {},
   "outputs": [
    {
     "name": "stdout",
     "output_type": "stream",
     "text": [
      "temp_nan --> [0.37649075 0.41857708 0.41553862 0.35028076 0.40030482 0.32611461\n",
      " 0.33361994        nan 0.37445786 0.44330325        nan 0.34688538\n",
      "        nan        nan        nan 0.30858741 0.31015845        nan\n",
      "        nan        nan 0.30991538        nan        nan        nan\n",
      "        nan        nan        nan        nan        nan        nan\n",
      "        nan        nan        nan        nan 0.31119358 0.35520544\n",
      " 0.32894799 0.30334288 0.3727636  0.32481739        nan        nan\n",
      " 0.35235689 0.4015986  0.43445632 0.3398031  0.38966828 0.43772596\n",
      " 0.47284863 0.39973687 0.38113616 0.3964504  0.34324162 0.42071724\n",
      " 0.36577697 0.35257995 0.37101488 0.35909791        nan 0.34605456\n",
      " 0.43186955 0.33807326 0.31587005 0.34303918 0.31680012        nan\n",
      "        nan        nan        nan        nan        nan        nan\n",
      "        nan        nan        nan        nan        nan        nan\n",
      "        nan 0.32769864 0.30461726        nan        nan        nan\n",
      "        nan        nan 0.35382345 0.32424633 0.38425648        nan\n",
      " 0.30032103 0.36548736        nan        nan 0.38286282 0.41485635\n",
      " 0.37268343 0.45069256 0.40378823 0.43531639]\n",
      "temp_avg --> 80.18\n"
     ]
    }
   ],
   "source": [
    "print(f\"temp_nan --> {np.where(rh < 0.3, np.nan, rh)}\")\n",
    "print(f\"temp_avg --> {np.mean(temp):.2f}\")"
   ]
  },
  {
   "cell_type": "markdown",
   "metadata": {},
   "source": [
    "<h3 style=\"text-align:left;\">Exercise 4 - Base converter<span style=\"float: right\">2 points</span></h3>"
   ]
  },
  {
   "cell_type": "markdown",
   "metadata": {},
   "source": [
    "Write a function *int_to_bin* that takes a positive integer as input and returns the binary equivalent of that integer.\n",
    "\n",
    "You can **not** use built-in methods such as *bin()* in your solution."
   ]
  },
  {
   "cell_type": "code",
   "execution_count": 125,
   "metadata": {},
   "outputs": [
    {
     "name": "stdout",
     "output_type": "stream",
     "text": [
      "number = 257\n",
      "python implementation: bin(number) = '0b100000001'\n",
      "own implementation int_to_bin(number) = 100000001\n"
     ]
    }
   ],
   "source": [
    "import math\n",
    "\n",
    "def int_to_bin(number: int) -> int:\n",
    "    highest_bit: int= math.floor(math.log2(number))\n",
    "    result: str = \"\"\n",
    "    for power in range(highest_bit, -1, -1):\n",
    "        if 2 ** power > number:\n",
    "            result += '0'\n",
    "        else:\n",
    "            number-= 2 ** power\n",
    "            result += '1'\n",
    "    return int(result)\n",
    "\n",
    "\n",
    "number = 257\n",
    "print(f\"{number = }\\npython implementation: {bin(number) = }\\nown implementation {int_to_bin(number) = }\")"
   ]
  },
  {
   "cell_type": "markdown",
   "metadata": {},
   "source": [
    "<h3 style=\"text-align:left;\">Exercise 5 - Broadcasting<span style=\"float: right\">2 points</span></h3>"
   ]
  },
  {
   "cell_type": "markdown",
   "metadata": {},
   "source": [
    "Reshape *a* so it is possible to multiply *a* and *b*, and explain why you had to reshape *a* to be able to multiply the two arrays."
   ]
  },
  {
   "cell_type": "code",
   "execution_count": 131,
   "metadata": {},
   "outputs": [],
   "source": [
    "import numpy as np\n",
    "\n",
    "a = np.array([[1, 2, 3], [4, 5, 6]])\n",
    "b = np.array([2, 3])"
   ]
  },
  {
   "cell_type": "code",
   "execution_count": 134,
   "metadata": {},
   "outputs": [
    {
     "name": "stdout",
     "output_type": "stream",
     "text": [
      "[[1 2 3]\n",
      " [4 5 6]]\n",
      " -> \n",
      "[[1 4]\n",
      " [2 5]\n",
      " [3 6]]\n",
      " -> \n",
      "[[ 2 12]\n",
      " [ 4 15]\n",
      " [ 6 18]]\n"
     ]
    }
   ],
   "source": [
    "# To multiply a with b the number of columns have to match the number of rows of b. If we transpose the matrix we get that:\n",
    "a_transpose = a.T\n",
    "\n",
    "print(a,a_transpose,a_transpose*b, sep=\"\\n -> \\n\")"
   ]
  },
  {
   "cell_type": "markdown",
   "metadata": {},
   "source": [
    "<h3 style=\"text-align:left;\">Exercise 6 - Moving average<span style=\"float: right\">3 points</span></h3>"
   ]
  },
  {
   "cell_type": "markdown",
   "metadata": {},
   "source": [
    "Given the array of values *a*, we can calculate the moving average by averaging nearby values and repeating the procedure sliding along the array. Here's an example of a 3-point moving average (ignoring the edges), with a for loop:"
   ]
  },
  {
   "cell_type": "code",
   "execution_count": 146,
   "metadata": {},
   "outputs": [
    {
     "name": "stdout",
     "output_type": "stream",
     "text": [
      "[27.6 28.3 30.2 29.1 29.  31.8 31.9 30.5 29.9 32.5 31.1 29.4 31.6 29.8\n",
      " 30.  27.6 28.9 29.9 28.5 30.5]\n",
      "[27.6        28.7        29.2        29.43333333 29.96666667 30.9\n",
      " 31.4        30.76666667 30.96666667 31.16666667 31.         30.7\n",
      " 30.26666667 30.46666667 29.13333333 28.83333333 28.8        29.1\n",
      " 29.63333333 30.5       ]\n"
     ]
    }
   ],
   "source": [
    "np.random.seed(29041996)\n",
    "a = np.round(30 + np.random.randn(20) * 2, 1)\n",
    "print(a)\n",
    "\n",
    "# Moving average\n",
    "a_avg = np.zeros_like(a)\n",
    "# We're just ignoring the edge effects here\n",
    "for i in range(1, len(a) - 1):\n",
    "    sub = a[i - 1:i + 2]\n",
    "    a_avg[i] = sub.mean()\n",
    "# For the first and last point, we use the original values.\n",
    "a_avg[[0, -1]] = a[[0, -1]]\n",
    "print(a_avg)"
   ]
  },
  {
   "cell_type": "markdown",
   "metadata": {},
   "source": [
    "Write a function *mov_avg* that takes an array in input and returns its 3-point moving average. You **have to use broadcasting** to compute the moving average. As in the example, use the original array values at the borders."
   ]
  },
  {
   "cell_type": "code",
   "execution_count": 145,
   "metadata": {},
   "outputs": [
    {
     "name": "stdout",
     "output_type": "stream",
     "text": [
      "Original array:\n",
      "[27.6 28.3 30.2 29.1 29.  31.8 31.9 30.5 29.9 32.5 31.1 29.4 31.6 29.8\n",
      " 30.  27.6 28.9 29.9 28.5 30.5]\n",
      "\n",
      "3-point moving average:\n",
      "[27.6        29.2        29.43333333 29.96666667 30.9        31.4\n",
      " 30.76666667 30.96666667 31.16666667 31.         30.7        30.26666667\n",
      " 30.46666667 29.13333333 28.83333333 28.8        29.1        30.5       ]\n"
     ]
    }
   ],
   "source": [
    "def mov_avg(arr):\n",
    "    \"\"\"\n",
    "    Calculates the 3-point moving average of an array using broadcasting.\n",
    "\n",
    "    Args:\n",
    "        arr (numpy.ndarray): Input array.\n",
    "\n",
    "    Returns:\n",
    "        numpy.ndarray: Array with the 3-point moving average.\n",
    "    \"\"\"\n",
    "    # Create a rolling window of size 3\n",
    "    rolling_window = np.lib.stride_tricks.sliding_window_view(arr, window_shape=3)\n",
    "\n",
    "    # Calculate the mean along the last axis (axis=-1)\n",
    "    moving_average = np.mean(rolling_window, axis=-1)\n",
    "\n",
    "    # Use the original array values at the borders\n",
    "    moving_average[[0, -1]] = arr[[0, -1]]\n",
    "\n",
    "    return moving_average\n",
    "\n",
    "print(\"Original array:\")\n",
    "print(a)\n",
    "\n",
    "a_avg = mov_avg(a)\n",
    "print(\"\\n3-point moving average:\")\n",
    "print(a_avg)"
   ]
  }
 ],
 "metadata": {
  "kernelspec": {
   "display_name": "dash",
   "language": "python",
   "name": "python3"
  },
  "language_info": {
   "codemirror_mode": {
    "name": "ipython",
    "version": 3
   },
   "file_extension": ".py",
   "mimetype": "text/x-python",
   "name": "python",
   "nbconvert_exporter": "python",
   "pygments_lexer": "ipython3",
   "version": "3.12.1"
  }
 },
 "nbformat": 4,
 "nbformat_minor": 2
}
